{
  "nbformat": 4,
  "nbformat_minor": 0,
  "metadata": {
    "colab": {
      "name": "AI의 현재와 미래 - SKT ai.x 2021",
      "provenance": [],
      "authorship_tag": "ABX9TyMI2d4mOxNc4ylim6AoCCl5",
      "include_colab_link": true
    },
    "kernelspec": {
      "name": "python3",
      "display_name": "Python 3"
    },
    "language_info": {
      "name": "python"
    }
  },
  "cells": [
    {
      "cell_type": "markdown",
      "metadata": {
        "id": "view-in-github",
        "colab_type": "text"
      },
      "source": [
        "<a href=\"https://colab.research.google.com/github/blackpearl-09/TIL/blob/main/AI%EC%9D%98_%ED%98%84%EC%9E%AC%EC%99%80_%EB%AF%B8%EB%9E%98_SKT_ai_x_2021.ipynb\" target=\"_parent\"><img src=\"https://colab.research.google.com/assets/colab-badge.svg\" alt=\"Open In Colab\"/></a>"
      ]
    },
    {
      "cell_type": "markdown",
      "metadata": {
        "id": "fPPViBKhENla"
      },
      "source": [
        "### **데이터분석가 대화 - 의료분야에서의 데이터수집 (SKT ai.x 2021)**\n",
        "\n",
        "- 데이터 수집 방법\n",
        "  -사내 data lake 의 data 사용\n",
        "  -언어데이터의 경우, 오픈데이터 우선 사용, 사내 보유 (보고서, 강의자료 등) ,  \n",
        "  - 웹 수집(크롤링) , 대화 생성\n",
        "  - 원천 기술 개발: 공개된 연구용 data. 협업을 위한 모델 개발: 협력 조직 data\n",
        "  - 외부데이터 수집 시 어려운 점: 모델링 하기 충분하지 않은 양/ 데이터 정제 (중복 제거, 개인정보 마스킹에 대한 불확실성)\n",
        "  - 의료데이터 특성은, 의료정보로 개인정보 보호 이슈가 있어서 규제로 인한 데이터양 부족이 문제\n",
        "  - 환자의 수를 늘릴 수 없으니 정부 차원의 데이터 확보 노력 , 연구용으로 데이터 공개 , 국내에서도 정보의 공공데이터 의료데이터 공개 노력 중\n",
        "\n",
        "\n",
        " * 활용 가능한 데이터 수가 적은 의료분야의 경우, 데이터 확보보다는 협업 위주로 이뤄지고 있는 경우가 많다\n",
        " * 도메인에 대한 이해가 매우 중요한데,병원마다 사용하는 x-lay 장비가 모두 다른데 이에 따라 구입년도, 해상도, 노이즈 등의 데이터가 다르므로 어려움이 발생\n",
        "- 데이터를 확보하는 것만큼이나 데이터 labeling을 자동화하는 기술도 개발되는 중\n",
        "\n",
        "- **데이터 파이프라인에서 정제하고, 검수하는 과정에서 끊임없는 고려가 이뤄짐 (주기적인 QnA 필요)**\n",
        "\n",
        "---\n",
        "\n",
        "### **AI의 발전을 이끄는 리더들의 담화:**  \n",
        "  **어떤 회사를 인공지능 회사라고 할 수 있는가?**\n",
        "- 딥러닝 모델을 INFERENCE에 활용하는 회사\n",
        "- AI를 활용해서 비즈니스를 하는 회사\n",
        "- 사람이 몰래 숨어서 서비스를 하는 것이 아닌가 생각하게 하는 회사\n",
        "- 전통적인 방법(비 AI기술)으로 대체할 수 없는 기술로 제품/서비스를 만든 회사\n",
        "\n",
        "### **잘되는 AI서비스가 되기 위해 주의할 점:**\n",
        "기존에 생각하지 못한 문제를 많이 만들어 내는데,\n",
        "- 개인정보, 편향, 혐오 \n",
        "- 저작권 (서비스를 통해 생성되는 결과물의 저작권은 어디에 속하는가?)\n",
        " * 기존 데이터는 정형데이터 기준으로 해결방안이 마련되어 있음 / 그러나 점차 비정형데이터의 비중이 커지므로 **비정형 DATA의 개인정보보호에 대한 기준이 필요**\n",
        "- 현 상황은 기술개발에 따라 법, 규제의 발전 또한 현재진행형. 그러므로 AI서비스를 하는 기업 자체적으로 내부적인 논리와 설득이 수반이 되는 것이 중요.\n",
        " **(대응 논리, 내부 원칙이 준비되어야 한다.)**"
      ]
    },
    {
      "cell_type": "code",
      "metadata": {
        "id": "91QBaquVFRjD"
      },
      "source": [
        ""
      ],
      "execution_count": null,
      "outputs": []
    }
  ]
}
