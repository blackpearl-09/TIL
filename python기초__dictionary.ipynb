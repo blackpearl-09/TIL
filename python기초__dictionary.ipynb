{
  "nbformat": 4,
  "nbformat_minor": 0,
  "metadata": {
    "kernelspec": {
      "display_name": "Python 3",
      "language": "python",
      "name": "python3"
    },
    "language_info": {
      "codemirror_mode": {
        "name": "ipython",
        "version": 3
      },
      "file_extension": ".py",
      "mimetype": "text/x-python",
      "name": "python",
      "nbconvert_exporter": "python",
      "pygments_lexer": "ipython3",
      "version": "3.7.3"
    },
    "colab": {
      "name": "python기초__dictionary.ipynb",
      "provenance": [],
      "include_colab_link": true
    }
  },
  "cells": [
    {
      "cell_type": "markdown",
      "metadata": {
        "id": "view-in-github",
        "colab_type": "text"
      },
      "source": [
        "<a href=\"https://colab.research.google.com/github/blackpearl-09/TIL/blob/main/python%EA%B8%B0%EC%B4%88__dictionary.ipynb\" target=\"_parent\"><img src=\"https://colab.research.google.com/assets/colab-badge.svg\" alt=\"Open In Colab\"/></a>"
      ]
    },
    {
      "cell_type": "markdown",
      "metadata": {
        "id": "RmoUkYLhtMZT"
      },
      "source": [
        "- 딕셔너리: 대응관계를 나타낼 수 있는 자료형 \n",
        " - 형태: {Key1:Value1, Key2:Value2, Key3:Value3, ...}\n",
        " - 차이점: 리스트 & 튜플은, 특정 요소 값을 추출할 때 index를 기준으로 순차적으로(sequential) 구한다면 \n",
        "  딕셔너리는, Key 값을 통해 대응관계에 있는 Value 값을 얻는다.  "
      ]
    },
    {
      "cell_type": "code",
      "metadata": {
        "id": "WcxdueB6tMZZ"
      },
      "source": [
        "dic = {'name':'Son', 'back_number':'7', 'club':'tottenham'}"
      ],
      "execution_count": null,
      "outputs": []
    },
    {
      "cell_type": "code",
      "metadata": {
        "id": "W2xi8ivctMZa",
        "outputId": "9cadd2de-2ccf-491f-fbda-ad1c31ccb5a5"
      },
      "source": [
        "dic"
      ],
      "execution_count": null,
      "outputs": [
        {
          "data": {
            "text/plain": [
              "{'name': 'Son', 'back_number': '7', 'club': 'tottenham'}"
            ]
          },
          "execution_count": 2,
          "metadata": {},
          "output_type": "execute_result"
        }
      ]
    },
    {
      "cell_type": "code",
      "metadata": {
        "id": "i0BybI7_tMZb"
      },
      "source": [
        "dic['sponsorship'] =['adidas', 'PUBG']"
      ],
      "execution_count": null,
      "outputs": []
    },
    {
      "cell_type": "code",
      "metadata": {
        "id": "fxIMFIlDtMZb",
        "outputId": "f1fb8395-6cea-4b59-f6af-84069dafed29"
      },
      "source": [
        "dic"
      ],
      "execution_count": null,
      "outputs": [
        {
          "data": {
            "text/plain": [
              "{'name': 'Son',\n",
              " 'back_number': '7',\n",
              " 'club': 'tottenham',\n",
              " 'sponsorship': ['adidas', 'PUBG']}"
            ]
          },
          "execution_count": 4,
          "metadata": {},
          "output_type": "execute_result"
        }
      ]
    },
    {
      "cell_type": "markdown",
      "metadata": {
        "id": "G5yEFWgNtMZc"
      },
      "source": [
        "- 딕셔너리 한 쌍(Key:Value) 추가하는 방법\n",
        " - 딕셔너리[추가할 Key] = 추가할 Value : 할당된 딕셔너리에 한 쌍이 추가된다.\n",
        " - Value 값으로, 리스트 추가도 가능\n",
        " - but, Key 값으로 리스트를 쓸 수 없다"
      ]
    },
    {
      "cell_type": "code",
      "metadata": {
        "id": "0zufGtpQtMZc",
        "outputId": "3f330b49-e981-4029-9240-01dd5d1bbc2b"
      },
      "source": [
        "del dic['back_number']\n",
        "dic"
      ],
      "execution_count": null,
      "outputs": [
        {
          "data": {
            "text/plain": [
              "{'name': 'Son', 'club': 'tottenham', 'sponsorship': ['adidas', 'PUBG']}"
            ]
          },
          "execution_count": 5,
          "metadata": {},
          "output_type": "execute_result"
        }
      ]
    },
    {
      "cell_type": "markdown",
      "metadata": {
        "id": "ONDrOL8ItMZd"
      },
      "source": [
        "- 딕셔너리 요소 삭제하는 방법\n",
        " - 리스트 삭제하는 방법 중 하나인 del 활용\n",
        " - del 딕셔너리명[Key] : 할당한 딕셔너리의 Key값과 대응관계인 Value값이 같이 삭제"
      ]
    },
    {
      "cell_type": "code",
      "metadata": {
        "id": "YTNFevn1tMZd",
        "outputId": "5b4268fb-3a9b-47c4-af14-88a6c4896b8d"
      },
      "source": [
        "dic['name']"
      ],
      "execution_count": null,
      "outputs": [
        {
          "data": {
            "text/plain": [
              "'Son'"
            ]
          },
          "execution_count": 6,
          "metadata": {},
          "output_type": "execute_result"
        }
      ]
    },
    {
      "cell_type": "code",
      "metadata": {
        "id": "ljL3ZMvbtMZe",
        "outputId": "1ecbea77-7470-4a72-98df-a6f83177c6b5"
      },
      "source": [
        "dic['sponsorship']"
      ],
      "execution_count": null,
      "outputs": [
        {
          "data": {
            "text/plain": [
              "['adidas', 'PUBG']"
            ]
          },
          "execution_count": 7,
          "metadata": {},
          "output_type": "execute_result"
        }
      ]
    },
    {
      "cell_type": "markdown",
      "metadata": {
        "id": "zItwJxV1tMZe"
      },
      "source": [
        "- 딕셔너리 불러오는 방법\n",
        " - 딕셔너리에 요소를 추가흐는 방법과 유사.\n",
        " - 딕셔너리[Key] : [ ]안의 Key 값과 대응되는 Value값을 출력 "
      ]
    },
    {
      "cell_type": "code",
      "metadata": {
        "id": "y0pK24tYtMZf",
        "outputId": "ef3a4bac-36f1-4318-f7e9-17f86df1dc34"
      },
      "source": [
        "dic.keys()"
      ],
      "execution_count": null,
      "outputs": [
        {
          "data": {
            "text/plain": [
              "dict_keys(['name', 'club', 'sponsorship'])"
            ]
          },
          "execution_count": 8,
          "metadata": {},
          "output_type": "execute_result"
        }
      ]
    },
    {
      "cell_type": "code",
      "metadata": {
        "id": "PcQaN6gctMZf",
        "outputId": "9a742bd6-7132-40a8-c2bc-04a420808910"
      },
      "source": [
        "list(dic.keys()) #딕셔너리의 Key값들을 리스트로 뽑아내기"
      ],
      "execution_count": null,
      "outputs": [
        {
          "data": {
            "text/plain": [
              "['name', 'club', 'sponsorship']"
            ]
          },
          "execution_count": 9,
          "metadata": {},
          "output_type": "execute_result"
        }
      ]
    },
    {
      "cell_type": "code",
      "metadata": {
        "id": "zK0IcPqotMZg",
        "outputId": "cee906db-b2bd-4a30-e5c9-de385d4064f2"
      },
      "source": [
        "dic.values()\n",
        "list(dic.values())"
      ],
      "execution_count": null,
      "outputs": [
        {
          "data": {
            "text/plain": [
              "['Son', 'tottenham', ['adidas', 'PUBG']]"
            ]
          },
          "execution_count": 11,
          "metadata": {},
          "output_type": "execute_result"
        }
      ]
    },
    {
      "cell_type": "markdown",
      "metadata": {
        "id": "MbNqKHv5tMZg"
      },
      "source": [
        "- 딕셔너리의 key 또는 value 만 뽑아내는 방법\n",
        " - 딕셔너리.keys() : Key값들만 뽑아낼 때 사용\n",
        " - 딕셔너리.values() : Values값들만 뽑아낼 때 사용"
      ]
    },
    {
      "cell_type": "code",
      "metadata": {
        "id": "bk_MzZeetMZg",
        "outputId": "151ad892-7982-4bf6-e5aa-f8385ece8135"
      },
      "source": [
        "dic.get('name')"
      ],
      "execution_count": null,
      "outputs": [
        {
          "data": {
            "text/plain": [
              "'Son'"
            ]
          },
          "execution_count": 12,
          "metadata": {},
          "output_type": "execute_result"
        }
      ]
    },
    {
      "cell_type": "code",
      "metadata": {
        "id": "Pr462KKAtMZh",
        "outputId": "35cd93a8-29a6-4390-f926-73ac5570591c"
      },
      "source": [
        "dic.get('club')"
      ],
      "execution_count": null,
      "outputs": [
        {
          "data": {
            "text/plain": [
              "'tottenham'"
            ]
          },
          "execution_count": 13,
          "metadata": {},
          "output_type": "execute_result"
        }
      ]
    },
    {
      "cell_type": "code",
      "metadata": {
        "id": "vptfotEztMZh",
        "outputId": "2b7e85bf-c4e9-492c-8d38-af68b55aa499"
      },
      "source": [
        "dic.get('sponsorship')"
      ],
      "execution_count": null,
      "outputs": [
        {
          "data": {
            "text/plain": [
              "['adidas', 'PUBG']"
            ]
          },
          "execution_count": 14,
          "metadata": {},
          "output_type": "execute_result"
        }
      ]
    },
    {
      "cell_type": "markdown",
      "metadata": {
        "id": "mPeEsHuBtMZh"
      },
      "source": [
        "- 딕셔너리의 key값을 넣어서 value값 얻는 방법 \n",
        " - dic.get(Key) : 함수 get( )에 Key값을 넣으면 대응되는 value값이 출력된다"
      ]
    },
    {
      "cell_type": "code",
      "metadata": {
        "id": "GVfYV9ZytMZi",
        "outputId": "de600a88-fbce-4a53-fcc4-27a946d4d4d5"
      },
      "source": [
        "'name' in dic"
      ],
      "execution_count": null,
      "outputs": [
        {
          "data": {
            "text/plain": [
              "True"
            ]
          },
          "execution_count": 15,
          "metadata": {},
          "output_type": "execute_result"
        }
      ]
    },
    {
      "cell_type": "code",
      "metadata": {
        "id": "M5-Se-W7tMZi",
        "outputId": "f3ee2d0a-abb6-447d-fd39-ec99f36a49fd"
      },
      "source": [
        "'back_number' in dic"
      ],
      "execution_count": null,
      "outputs": [
        {
          "data": {
            "text/plain": [
              "False"
            ]
          },
          "execution_count": 16,
          "metadata": {},
          "output_type": "execute_result"
        }
      ]
    },
    {
      "cell_type": "markdown",
      "metadata": {
        "id": "4wDKG7MMtMZi"
      },
      "source": [
        "- 딕셔너리 안에 있는 Key값 확인\n",
        " - 'Key' in 딕셔너리 : True or False 출력을 통해 딕셔너리 안에 해당 key값이 있는지 확인"
      ]
    }
  ]
}