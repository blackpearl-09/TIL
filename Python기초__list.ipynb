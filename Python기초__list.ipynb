{
  "nbformat": 4,
  "nbformat_minor": 0,
  "metadata": {
    "kernelspec": {
      "display_name": "Python 3",
      "language": "python",
      "name": "python3"
    },
    "language_info": {
      "codemirror_mode": {
        "name": "ipython",
        "version": 3
      },
      "file_extension": ".py",
      "mimetype": "text/x-python",
      "name": "python",
      "nbconvert_exporter": "python",
      "pygments_lexer": "ipython3",
      "version": "3.7.3"
    },
    "colab": {
      "name": "Python기초__list.ipynb",
      "provenance": [],
      "include_colab_link": true
    }
  },
  "cells": [
    {
      "cell_type": "markdown",
      "metadata": {
        "id": "view-in-github",
        "colab_type": "text"
      },
      "source": [
        "<a href=\"https://colab.research.google.com/github/blackpearl-09/TIL/blob/main/Python%EA%B8%B0%EC%B4%88__list.ipynb\" target=\"_parent\"><img src=\"https://colab.research.google.com/assets/colab-badge.svg\" alt=\"Open In Colab\"/></a>"
      ]
    },
    {
      "cell_type": "markdown",
      "metadata": {
        "id": "ffyBgYIkbQhv"
      },
      "source": [
        "#### list\n",
        "- 다른 변수들을 담을 수 있는 자료형 중 하나 "
      ]
    },
    {
      "cell_type": "code",
      "metadata": {
        "id": "cBRiGDjvbQh0",
        "outputId": "4536c2ac-1b66-4d20-88e9-33fd4f313215"
      },
      "source": [
        "x = [2,5,6,8,4]\n",
        "x"
      ],
      "execution_count": null,
      "outputs": [
        {
          "data": {
            "text/plain": [
              "[2, 5, 6, 8, 4]"
            ]
          },
          "execution_count": 13,
          "metadata": {},
          "output_type": "execute_result"
        }
      ]
    },
    {
      "cell_type": "code",
      "metadata": {
        "id": "suDJno_CbQh2"
      },
      "source": [
        "import numpy as np"
      ],
      "execution_count": null,
      "outputs": []
    },
    {
      "cell_type": "code",
      "metadata": {
        "id": "nVsVCaxlbQh2",
        "outputId": "35b1b2e1-cb52-4333-b381-18d11cda5399"
      },
      "source": [
        "x[3] # x안의 3번째 개체출력 "
      ],
      "execution_count": null,
      "outputs": [
        {
          "data": {
            "text/plain": [
              "8"
            ]
          },
          "execution_count": 15,
          "metadata": {},
          "output_type": "execute_result"
        }
      ]
    },
    {
      "cell_type": "code",
      "metadata": {
        "id": "rGNL5uqUbQh3",
        "outputId": "0b93085a-bdd4-4a74-e32d-b580996fa572"
      },
      "source": [
        "x[:3] #처음부터 3번째 이전까지 출력하는 방법"
      ],
      "execution_count": null,
      "outputs": [
        {
          "data": {
            "text/plain": [
              "[2, 5, 6]"
            ]
          },
          "execution_count": 16,
          "metadata": {},
          "output_type": "execute_result"
        }
      ]
    },
    {
      "cell_type": "code",
      "metadata": {
        "id": "b0ul-OG1bQh4",
        "outputId": "bf434c0f-9d8b-4394-d7f3-c9e279a03234"
      },
      "source": [
        "x[-2] #출력값을 뒤에서부터 셀 때 음수 사용. -2:뒤에서 두번째"
      ],
      "execution_count": null,
      "outputs": [
        {
          "data": {
            "text/plain": [
              "8"
            ]
          },
          "execution_count": 17,
          "metadata": {},
          "output_type": "execute_result"
        }
      ]
    },
    {
      "cell_type": "code",
      "metadata": {
        "id": "dAhcGz_qbQh4",
        "outputId": "3d0783c4-62ce-4131-8fc0-832cb578e90f"
      },
      "source": [
        "x.append('기초') # 리스트 x에 개체 추가 \n",
        "x"
      ],
      "execution_count": null,
      "outputs": [
        {
          "data": {
            "text/plain": [
              "[2, 5, 6, 8, 4, '기초', '기초']"
            ]
          },
          "execution_count": 19,
          "metadata": {},
          "output_type": "execute_result"
        }
      ]
    },
    {
      "cell_type": "code",
      "metadata": {
        "id": "YWAO1RgFbQh5",
        "outputId": "9fa36c91-09c5-4eef-cdba-05be10a4fb8d"
      },
      "source": [
        "#실수로 두번 넣거나 마지막 개체를 삭제하고 싶을 떄?\n",
        "\n",
        "x.pop() # 리스트에서 마지막 개체 삭제 후, 삭제한 마지막 값 출력 "
      ],
      "execution_count": null,
      "outputs": [
        {
          "data": {
            "text/plain": [
              "'기초'"
            ]
          },
          "execution_count": 20,
          "metadata": {},
          "output_type": "execute_result"
        }
      ]
    },
    {
      "cell_type": "markdown",
      "metadata": {
        "id": "rK2FW6L1bQh6"
      },
      "source": [
        "- 리스트에 내장된 pop함수는, 리스트에서 특정 값을 삭제한 뒤 그 값을 리턴받아 활용할 때 사용  "
      ]
    },
    {
      "cell_type": "code",
      "metadata": {
        "id": "DoxgpV0fbQh7",
        "outputId": "e57f669b-c4fb-4c3b-eefe-03fddebeb208"
      },
      "source": [
        "x"
      ],
      "execution_count": null,
      "outputs": [
        {
          "data": {
            "text/plain": [
              "[2, 5, 6, 8, 4, '기초']"
            ]
          },
          "execution_count": 21,
          "metadata": {},
          "output_type": "execute_result"
        }
      ]
    },
    {
      "cell_type": "code",
      "metadata": {
        "id": "g1ccqObAbQh7",
        "outputId": "fd9ee62b-b171-4fb1-d588-3fe30c645090"
      },
      "source": [
        "# 원하는 위치의 개체를 삭제하고 싶을 때?\n",
        "\n",
        "#x.pop(index) <- index : 순서\n",
        "x.pop(5) # 리스트에서 5번째 위치한 '기초'를 삭제하는 또 다른 방법\n",
        "x "
      ],
      "execution_count": null,
      "outputs": [
        {
          "data": {
            "text/plain": [
              "[2, 5, 6, 8, 4]"
            ]
          },
          "execution_count": 22,
          "metadata": {},
          "output_type": "execute_result"
        }
      ]
    },
    {
      "cell_type": "markdown",
      "metadata": {
        "id": "NUPG0g8qbQh8"
      },
      "source": [
        "- 리스트에서 삭제하는 두 번째 방법 \n",
        "  - del 변수명[index]: 해당 변수에서 []번호에 해당하는 값을 삭제한다."
      ]
    },
    {
      "cell_type": "code",
      "metadata": {
        "id": "71oBhi3pbQh8",
        "outputId": "a42aa540-6ae1-4a8a-9ac7-a71ced018b95"
      },
      "source": [
        "del x[2] # 위의 x = [2, 5, 6, 8, 4]에서 2번째 값을 삭제한다는 의미\n",
        "x"
      ],
      "execution_count": null,
      "outputs": [
        {
          "data": {
            "text/plain": [
              "[2, 5, 8, 4]"
            ]
          },
          "execution_count": 23,
          "metadata": {},
          "output_type": "execute_result"
        }
      ]
    },
    {
      "cell_type": "markdown",
      "metadata": {
        "id": "Xr_WY7mzbQh8"
      },
      "source": [
        "- 리스트에서 삭제하는 세 번째 방법 \n",
        "  - 변수명.remove(value) : remove는 리스트의 내장함수이므로, 변수명.remove(리스트에서 삭제할 값)\n",
        "  - del & pop 과 remove의 차이점\n",
        "  : del & pop은 삭제할 index 입력/ remove는 삭제할 value 입력 "
      ]
    },
    {
      "cell_type": "code",
      "metadata": {
        "id": "QfuknUrBbQh9",
        "outputId": "ea49af2f-78d6-4881-d389-61431057a0b2"
      },
      "source": [
        "# 삭제하고 싶은 값을 직접 입력할 때?\n",
        "\n",
        "x.remove(8) # 위에서 남은 x = [2, 5, 8, 4]에서 8을 삭제하는 방법\n",
        "x"
      ],
      "execution_count": null,
      "outputs": [
        {
          "data": {
            "text/plain": [
              "[2, 5, 4]"
            ]
          },
          "execution_count": 24,
          "metadata": {},
          "output_type": "execute_result"
        }
      ]
    },
    {
      "cell_type": "code",
      "metadata": {
        "id": "Ofvh-juTbQh9",
        "outputId": "8ed13643-5b69-40e6-cadb-7ccf0052229e"
      },
      "source": [
        "x"
      ],
      "execution_count": null,
      "outputs": [
        {
          "data": {
            "text/plain": [
              "[2, 5, 4]"
            ]
          },
          "execution_count": 25,
          "metadata": {},
          "output_type": "execute_result"
        }
      ]
    },
    {
      "cell_type": "code",
      "metadata": {
        "id": "GCg9c-YRbQh9",
        "outputId": "1e22cf04-d6cb-4350-ae72-4fddb9e5858f"
      },
      "source": [
        "type(x)"
      ],
      "execution_count": null,
      "outputs": [
        {
          "data": {
            "text/plain": [
              "list"
            ]
          },
          "execution_count": 28,
          "metadata": {},
          "output_type": "execute_result"
        }
      ]
    },
    {
      "cell_type": "code",
      "metadata": {
        "id": "DE0T1-3GbQh-"
      },
      "source": [
        "y = [6,7,1]"
      ],
      "execution_count": null,
      "outputs": []
    },
    {
      "cell_type": "code",
      "metadata": {
        "id": "BaKQTSm2bQh-",
        "outputId": "842d41f7-dc70-4fcf-b340-3537da207d9f"
      },
      "source": [
        "# 리스트 합치기\n",
        "x + y"
      ],
      "execution_count": null,
      "outputs": [
        {
          "data": {
            "text/plain": [
              "[2, 5, 4, 6, 7, 1]"
            ]
          },
          "execution_count": 32,
          "metadata": {},
          "output_type": "execute_result"
        }
      ]
    },
    {
      "cell_type": "code",
      "metadata": {
        "id": "7XnlT3o6bQh-",
        "outputId": "5a45fe09-350b-4096-8554-fdd989b116a0"
      },
      "source": [
        "# 합친 결과를 변수명으로 할당하지 않으면 print만 해준 격. \n",
        "z = x+y\n",
        "z"
      ],
      "execution_count": null,
      "outputs": [
        {
          "data": {
            "text/plain": [
              "[2, 5, 4, 6, 7, 1]"
            ]
          },
          "execution_count": 34,
          "metadata": {},
          "output_type": "execute_result"
        }
      ]
    },
    {
      "cell_type": "markdown",
      "metadata": {
        "id": "iK2V1rcpbQh_"
      },
      "source": [
        " - 리스트 정렬하는 방법 \n",
        "  - 리스트에 내장된 sort 함수는, 리스트 값들을 정렬할 때 사용. \n",
        "  - default는 오름차순, 파라미터 reverse를 True로 두면 내림차순으로 정렬   "
      ]
    },
    {
      "cell_type": "code",
      "metadata": {
        "id": "h3RQS-pMbQh_",
        "outputId": "aaefd9d2-8e3d-4acf-f098-cb5c2b65dbfe"
      },
      "source": [
        "z.sort()\n",
        "z"
      ],
      "execution_count": null,
      "outputs": [
        {
          "data": {
            "text/plain": [
              "[1, 2, 4, 5, 6, 7]"
            ]
          },
          "execution_count": 35,
          "metadata": {},
          "output_type": "execute_result"
        }
      ]
    },
    {
      "cell_type": "code",
      "metadata": {
        "id": "DVh6-P3qbQh_",
        "outputId": "f0d8c90b-f139-47e0-e734-b2598af47245"
      },
      "source": [
        "z.sort(reverse = True)\n",
        "z"
      ],
      "execution_count": null,
      "outputs": [
        {
          "data": {
            "text/plain": [
              "[7, 6, 5, 4, 2, 1]"
            ]
          },
          "execution_count": 36,
          "metadata": {},
          "output_type": "execute_result"
        }
      ]
    },
    {
      "cell_type": "markdown",
      "metadata": {
        "id": "e_1dLuXQbQh_"
      },
      "source": [
        "- 리스트에 새로운 요소를 넣는 방법\n",
        " - 리스트에 내장된 insert함수는, 리스트 내 특정 위치에 새로운 요소를 넣을 때 사용\n",
        " - insert(a,b): a는 새로운 요소를 넣을 위치, b는 새로운 요소"
      ]
    },
    {
      "cell_type": "code",
      "metadata": {
        "id": "sdalSfu3bQiA"
      },
      "source": [
        "z.insert(3,9)"
      ],
      "execution_count": null,
      "outputs": []
    },
    {
      "cell_type": "code",
      "metadata": {
        "id": "kfaDwrYjbQiA",
        "outputId": "e53ae472-5359-4942-fed6-bc646ec3dbcb"
      },
      "source": [
        "z"
      ],
      "execution_count": null,
      "outputs": [
        {
          "data": {
            "text/plain": [
              "[7, 6, 5, 9, 4, 2, 1]"
            ]
          },
          "execution_count": 38,
          "metadata": {},
          "output_type": "execute_result"
        }
      ]
    },
    {
      "cell_type": "markdown",
      "metadata": {
        "id": "OKEIBVZ1bQiA"
      },
      "source": [
        "- 리스트에 새로운 리스트 추가하는 방법\n",
        " - 리스트에 내장된 extend 함수는, 리스트를 연장(또는 붙이는 목적)할 떄 사용\n",
        " - extend()의 ()안에 추가하고자 하는 리스트를 바로 넣거나, 미리 할당한 변수명을 넣는 방식"
      ]
    },
    {
      "cell_type": "code",
      "metadata": {
        "id": "ST8RdSUHbQiA",
        "outputId": "086e18a8-78c8-4f15-8aa6-49c01efc041d"
      },
      "source": [
        "z.extend([3,8]) #기존 z 리스트에 새로운 리스트 [3,8]을 뒤에 추가\n",
        "z"
      ],
      "execution_count": null,
      "outputs": [
        {
          "data": {
            "text/plain": [
              "[7, 6, 5, 9, 4, 2, 1, 3, 8]"
            ]
          },
          "execution_count": 39,
          "metadata": {},
          "output_type": "execute_result"
        }
      ]
    },
    {
      "cell_type": "code",
      "metadata": {
        "id": "GuCYfpKSbQiA",
        "outputId": "78502255-89b3-4bed-f769-43cbdd310804"
      },
      "source": [
        "# 또 다른 방법\n",
        "e = [3, 8]\n",
        "z.extend(e)\n",
        "z"
      ],
      "execution_count": null,
      "outputs": [
        {
          "data": {
            "text/plain": [
              "[7, 6, 5, 9, 4, 2, 1, 3, 8, 3, 8]"
            ]
          },
          "execution_count": 47,
          "metadata": {},
          "output_type": "execute_result"
        }
      ]
    }
  ]
}