{
  "nbformat": 4,
  "nbformat_minor": 0,
  "metadata": {
    "colab": {
      "name": "0905_study",
      "provenance": [],
      "authorship_tag": "ABX9TyOHeyyQzw4rQhwYAuIPqoO2",
      "include_colab_link": true
    },
    "kernelspec": {
      "name": "python3",
      "display_name": "Python 3"
    },
    "language_info": {
      "name": "python"
    }
  },
  "cells": [
    {
      "cell_type": "markdown",
      "metadata": {
        "id": "view-in-github",
        "colab_type": "text"
      },
      "source": [
        "<a href=\"https://colab.research.google.com/github/blackpearl-09/TIL/blob/main/0905_study.ipynb\" target=\"_parent\"><img src=\"https://colab.research.google.com/assets/colab-badge.svg\" alt=\"Open In Colab\"/></a>"
      ]
    },
    {
      "cell_type": "markdown",
      "metadata": {
        "id": "IHMH89R04qgZ"
      },
      "source": [
        " ### GRU (Gated Recurrent Unit) \n",
        "(등장배경) LSTM은 RNN의 치명적인 한계점이었던, Long-term dependency문제를 해결하면서 긴 시퀀스를 가진 데이터에서도 좋은 성능을 내는 모델이 되었지만, 복잡한 구조 때문에 RNN에 비하여 파라미터가 많이 필요하다. 여기서, 데이터가 충분하지 않은 경우, 오버피팅이 발생하므로 이러한 단점을 개선하기 위해 LSTM의 변형인 GRU가 등장. \n",
        "\n",
        " - 게이트 매커니즘이 적용된 RNN 프레임워크의 일종. \n",
        " - LSTM에 영감을 받아 만들어졌으며, LSTM을 구성하는 Time-Step의 Cell을 더 간소화한 버전.\n",
        "\n",
        " \n",
        "(추가) 게이트 매커니즘이란?\n",
        "- 정보를 추가하거나 제거하는 데에 쓰이는 구조로, Gate는 training을 통해 '어떤' 정보를 유지하고, '어떤' 정보를 버릴지 학습한다. \n",
        "\n",
        "- LSTM의 Gates \n",
        " - Forget Gate (f): 과거 정보를 잊기 위한 게이트\n",
        "   (과거 정보를 얼마나 잊을지 설정하는 단계)\n",
        "  - Input Gate (i): 현재 정보를 기억하기 위한 게이트 (현재 정보를 얼마나 기억할 것인지 설정하는 단계)\n",
        "  - Output Gate (o): 최종 결과를 내보내기 위한 게이트 (다음 State로 내보낼 output을 구하는 단계)\n",
        "\n",
        "- GRU의 Gates\n",
        "  - GRU는 LSTM의 Forget gate와 Input gate를 통합하여 'Update gate'를 만들고,Output gate를 Reset gate로 대체하여 크게 2개로 구성된다. \n",
        "  - Reset Gate, r(t): 이전의 정보를 얼마나 잊어야 하는지를 결정. \n",
        "  - Update Gate (z):  \n",
        "\n",
        " \n",
        "\n"
      ]
    },
    {
      "cell_type": "code",
      "metadata": {
        "id": "dosrrFYR7Z8q"
      },
      "source": [
        ""
      ],
      "execution_count": null,
      "outputs": []
    },
    {
      "cell_type": "code",
      "metadata": {
        "id": "opIkWVyL5CyI"
      },
      "source": [
        ""
      ],
      "execution_count": null,
      "outputs": []
    }
  ]
}