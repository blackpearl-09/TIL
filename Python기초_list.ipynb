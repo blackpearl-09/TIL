{
  "nbformat": 4,
  "nbformat_minor": 0,
  "metadata": {
    "kernelspec": {
      "display_name": "Python 3",
      "language": "python",
      "name": "python3"
    },
    "language_info": {
      "codemirror_mode": {
        "name": "ipython",
        "version": 3
      },
      "file_extension": ".py",
      "mimetype": "text/x-python",
      "name": "python",
      "nbconvert_exporter": "python",
      "pygments_lexer": "ipython3",
      "version": "3.7.3"
    },
    "colab": {
      "name": "Python기초_list.ipynb",
      "provenance": [],
      "include_colab_link": true
    }
  },
  "cells": [
    {
      "cell_type": "markdown",
      "metadata": {
        "id": "view-in-github",
        "colab_type": "text"
      },
      "source": [
        "<a href=\"https://colab.research.google.com/github/blackpearl-09/TIL/blob/main/Python%EA%B8%B0%EC%B4%88_list.ipynb\" target=\"_parent\"><img src=\"https://colab.research.google.com/assets/colab-badge.svg\" alt=\"Open In Colab\"/></a>"
      ]
    },
    {
      "cell_type": "markdown",
      "metadata": {
        "id": "K0UyMdOH7vMH"
      },
      "source": [
        "#### list\n",
        "- 다른 변수들을 담을 수 있는 자료형 중 하나 "
      ]
    },
    {
      "cell_type": "code",
      "metadata": {
        "id": "477mnM9G7vMN",
        "outputId": "b21ad117-5a42-47a6-ca8d-a63ec65f6465"
      },
      "source": [
        "x = [2,5,6,8,4]\n",
        "x"
      ],
      "execution_count": null,
      "outputs": [
        {
          "data": {
            "text/plain": [
              "[2, 5, 6, 8, 4]"
            ]
          },
          "execution_count": 13,
          "metadata": {},
          "output_type": "execute_result"
        }
      ]
    },
    {
      "cell_type": "code",
      "metadata": {
        "id": "aq79WS2i7vMP"
      },
      "source": [
        "import numpy as np"
      ],
      "execution_count": null,
      "outputs": []
    },
    {
      "cell_type": "code",
      "metadata": {
        "id": "mAIQPxhp7vMQ",
        "outputId": "bb247935-380c-4148-ef0f-91a43aeaad47"
      },
      "source": [
        "x[3] # x안의 3번째 개체출력 "
      ],
      "execution_count": null,
      "outputs": [
        {
          "data": {
            "text/plain": [
              "8"
            ]
          },
          "execution_count": 15,
          "metadata": {},
          "output_type": "execute_result"
        }
      ]
    },
    {
      "cell_type": "code",
      "metadata": {
        "id": "czCi7mJ87vMR",
        "outputId": "7e909938-1a2a-49ad-b0fb-123071e165a6"
      },
      "source": [
        "x[:3] #처음부터 3번째 이전까지 출력하는 방법"
      ],
      "execution_count": null,
      "outputs": [
        {
          "data": {
            "text/plain": [
              "[2, 5, 6]"
            ]
          },
          "execution_count": 16,
          "metadata": {},
          "output_type": "execute_result"
        }
      ]
    },
    {
      "cell_type": "code",
      "metadata": {
        "id": "RC47v8ni7vMR",
        "outputId": "939efc8a-f33a-4e85-f4fd-a57df1592e4e"
      },
      "source": [
        "x[-2] #출력값을 뒤에서부터 셀 때 음수 사용. -2:뒤에서 두번째"
      ],
      "execution_count": null,
      "outputs": [
        {
          "data": {
            "text/plain": [
              "8"
            ]
          },
          "execution_count": 17,
          "metadata": {},
          "output_type": "execute_result"
        }
      ]
    },
    {
      "cell_type": "code",
      "metadata": {
        "id": "Fcv5u2OV7vMS",
        "outputId": "36edbab7-f481-400a-c87d-81483a0a4b4a"
      },
      "source": [
        "x.append('기초') # 리스트 x에 개체 추가 \n",
        "x"
      ],
      "execution_count": null,
      "outputs": [
        {
          "data": {
            "text/plain": [
              "[2, 5, 6, 8, 4, '기초', '기초']"
            ]
          },
          "execution_count": 19,
          "metadata": {},
          "output_type": "execute_result"
        }
      ]
    },
    {
      "cell_type": "code",
      "metadata": {
        "id": "__QY6SVB7vMT",
        "outputId": "e0e81477-3ce4-440b-aa99-e59e694da6cd"
      },
      "source": [
        "#실수로 두번 넣거나 마지막 개체를 삭제하고 싶을 떄?\n",
        "\n",
        "x.pop() # 리스트에서 마지막 개체 삭제 후, 삭제한 마지막 값 출력 "
      ],
      "execution_count": null,
      "outputs": [
        {
          "data": {
            "text/plain": [
              "'기초'"
            ]
          },
          "execution_count": 20,
          "metadata": {},
          "output_type": "execute_result"
        }
      ]
    },
    {
      "cell_type": "markdown",
      "metadata": {
        "id": "Z8XrIUW17vMU"
      },
      "source": [
        "- 리스트에 내장된 pop함수는, 리스트에서 특정 값을 삭제한 뒤 그 값을 리턴받아 활용할 때 사용  "
      ]
    },
    {
      "cell_type": "code",
      "metadata": {
        "id": "ykJlgVcW7vMU",
        "outputId": "edb7e22e-4de8-44f4-f963-263815eec4f7"
      },
      "source": [
        "x"
      ],
      "execution_count": null,
      "outputs": [
        {
          "data": {
            "text/plain": [
              "[2, 5, 6, 8, 4, '기초']"
            ]
          },
          "execution_count": 21,
          "metadata": {},
          "output_type": "execute_result"
        }
      ]
    },
    {
      "cell_type": "code",
      "metadata": {
        "id": "Gku6pfaV7vMV",
        "outputId": "bcda98c8-c1d3-41c6-8c8d-6d99b5412b98"
      },
      "source": [
        "# 원하는 위치의 개체를 삭제하고 싶을 때?\n",
        "\n",
        "#x.pop(index) <- index : 순서\n",
        "x.pop(5) # 리스트에서 5번째 위치한 '기초'를 삭제하는 또 다른 방법\n",
        "x "
      ],
      "execution_count": null,
      "outputs": [
        {
          "data": {
            "text/plain": [
              "[2, 5, 6, 8, 4]"
            ]
          },
          "execution_count": 22,
          "metadata": {},
          "output_type": "execute_result"
        }
      ]
    },
    {
      "cell_type": "markdown",
      "metadata": {
        "id": "9uW92d367vMV"
      },
      "source": [
        "- 리스트에서 삭제하는 두 번째 방법 \n",
        "  - del 변수명[index]: 해당 변수에서 []번호에 해당하는 값을 삭제한다."
      ]
    },
    {
      "cell_type": "code",
      "metadata": {
        "id": "5P69EyIb7vMW",
        "outputId": "cbef2532-68da-478d-80b3-4a444e2254fd"
      },
      "source": [
        "del x[2] # 위의 x = [2, 5, 6, 8, 4]에서 2번째 값을 삭제한다는 의미\n",
        "x"
      ],
      "execution_count": null,
      "outputs": [
        {
          "data": {
            "text/plain": [
              "[2, 5, 8, 4]"
            ]
          },
          "execution_count": 23,
          "metadata": {},
          "output_type": "execute_result"
        }
      ]
    },
    {
      "cell_type": "markdown",
      "metadata": {
        "id": "HS1nlmsg7vMX"
      },
      "source": [
        "- 리스트에서 삭제하는 세 번째 방법 \n",
        "  - 변수명.remove(value) : remove는 리스트의 내장함수이므로, 변수명.remove(리스트에서 삭제할 값)\n",
        "  - del & pop 과 remove의 차이점\n",
        "  : del & pop은 삭제할 index 입력/ remove는 삭제할 value 입력 "
      ]
    },
    {
      "cell_type": "code",
      "metadata": {
        "id": "ZeeVjWQj7vMX",
        "outputId": "9abd7c16-d3a1-410a-a8e3-ce02ac75ffa9"
      },
      "source": [
        "# 삭제하고 싶은 값을 직접 입력할 때?\n",
        "\n",
        "x.remove(8) # 위에서 남은 x = [2, 5, 8, 4]에서 8을 삭제하는 방법\n",
        "x"
      ],
      "execution_count": null,
      "outputs": [
        {
          "data": {
            "text/plain": [
              "[2, 5, 4]"
            ]
          },
          "execution_count": 24,
          "metadata": {},
          "output_type": "execute_result"
        }
      ]
    }
  ]
}