{
  "nbformat": 4,
  "nbformat_minor": 0,
  "metadata": {
    "kernelspec": {
      "display_name": "Python 3",
      "language": "python",
      "name": "python3"
    },
    "language_info": {
      "codemirror_mode": {
        "name": "ipython",
        "version": 3
      },
      "file_extension": ".py",
      "mimetype": "text/x-python",
      "name": "python",
      "nbconvert_exporter": "python",
      "pygments_lexer": "ipython3",
      "version": "3.7.3"
    },
    "colab": {
      "name": "cosine_similarity.ipynb",
      "provenance": [],
      "include_colab_link": true
    }
  },
  "cells": [
    {
      "cell_type": "markdown",
      "metadata": {
        "id": "view-in-github",
        "colab_type": "text"
      },
      "source": [
        "<a href=\"https://colab.research.google.com/github/blackpearl-09/TIL/blob/main/cosine_similarity.ipynb\" target=\"_parent\"><img src=\"https://colab.research.google.com/assets/colab-badge.svg\" alt=\"Open In Colab\"/></a>"
      ]
    },
    {
      "cell_type": "markdown",
      "metadata": {
        "id": "swmkeaeFyNFe"
      },
      "source": [
        "## - The process of data analysis for text data\n",
        "\n",
        " 1. 형태소 분석(Tokenize)\n",
        " 2. 품사 표시(POS Tagging, Part-of-speech)\n",
        " 3. 불용어(Stopwords) 제거 \n",
        " --------------------------------------\n",
        " 4. 단어 개수 카운팅 및 단어 사전 생성\n",
        " 5. 단어 사전 기반 데이터 시각화 \n",
        " 6. 머신러닝 / 딥러닝 모델 적용\n",
        " "
      ]
    },
    {
      "cell_type": "markdown",
      "metadata": {
        "id": "OZpSuQk3yNFi"
      },
      "source": [
        "### -- 코사인 유사도 (Cosine Similarity)"
      ]
    },
    {
      "cell_type": "markdown",
      "metadata": {
        "id": "THTL5igeyNFj"
      },
      "source": [
        "- 두 벡터의 유사한 정도를 구하는 방식으로, 두 벡터 사이 각도의 코사인값을 이용하여 측정하는 값\n",
        "- 텍스트 매칭에서 두 벡터(A, B)로는 해당 문서에서의 단어 빈도가 사용됨\n",
        "\n",
        "![image.png](attachment:image.png)"
      ]
    },
    {
      "cell_type": "markdown",
      "metadata": {
        "id": "WmxpVonuyNFk"
      },
      "source": [
        "### -- 코사인 유사도 식"
      ]
    },
    {
      "cell_type": "markdown",
      "metadata": {
        "id": "0IMD19tgyNFl"
      },
      "source": [
        "- 계산된 유사도는 -1에서 1 까지의 값을 가진다. \n",
        "- -1은 서로 반대되는 경우, 0은 서로 독립적인 경우, 1은 완전히 같은 경우\n",
        "- 분모:  두 벡터 크기의 곱/ 분자: 두 벡터의 내적\n",
        "\n",
        "![image.png](attachment:image.png)"
      ]
    },
    {
      "cell_type": "markdown",
      "metadata": {
        "id": "B2rrePQqyNFl"
      },
      "source": [
        "![image.png](attachment:image.png)"
      ]
    }
  ]
}