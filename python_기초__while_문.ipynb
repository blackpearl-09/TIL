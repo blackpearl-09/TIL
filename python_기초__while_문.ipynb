{
  "nbformat": 4,
  "nbformat_minor": 0,
  "metadata": {
    "kernelspec": {
      "display_name": "Python 3",
      "language": "python",
      "name": "python3"
    },
    "language_info": {
      "codemirror_mode": {
        "name": "ipython",
        "version": 3
      },
      "file_extension": ".py",
      "mimetype": "text/x-python",
      "name": "python",
      "nbconvert_exporter": "python",
      "pygments_lexer": "ipython3",
      "version": "3.7.3"
    },
    "colab": {
      "name": "python_기초__while 문.ipynb",
      "provenance": [],
      "include_colab_link": true
    }
  },
  "cells": [
    {
      "cell_type": "markdown",
      "metadata": {
        "id": "view-in-github",
        "colab_type": "text"
      },
      "source": [
        "<a href=\"https://colab.research.google.com/github/blackpearl-09/TIL/blob/main/python_%EA%B8%B0%EC%B4%88__while_%EB%AC%B8.ipynb\" target=\"_parent\"><img src=\"https://colab.research.google.com/assets/colab-badge.svg\" alt=\"Open In Colab\"/></a>"
      ]
    },
    {
      "cell_type": "code",
      "metadata": {
        "id": "4mcdd_JqKreH",
        "outputId": "749d2b53-ff74-41b7-9c49-c16e6f20a183"
      },
      "source": [
        "coffee = 10\n",
        "money = 300\n",
        "while money:\n",
        "    print(\"돈을 받았으니 커피를 줍니다.\")\n",
        "    coffee = coffee -1\n",
        "    print(\"남은 커피의 양은 %d개입니다.\" % coffee)\n",
        "    if coffee == 0:\n",
        "        print(\"커피가 다 떨어졌습니다. 판매를 중지합니다.\")\n",
        "        break\n"
      ],
      "execution_count": null,
      "outputs": [
        {
          "name": "stdout",
          "output_type": "stream",
          "text": [
            "돈을 받았으니 커피를 줍니다.\n",
            "남은 커피의 양은 9개입니다.\n",
            "돈을 받았으니 커피를 줍니다.\n",
            "남은 커피의 양은 8개입니다.\n",
            "돈을 받았으니 커피를 줍니다.\n",
            "남은 커피의 양은 7개입니다.\n",
            "돈을 받았으니 커피를 줍니다.\n",
            "남은 커피의 양은 6개입니다.\n",
            "돈을 받았으니 커피를 줍니다.\n",
            "남은 커피의 양은 5개입니다.\n",
            "돈을 받았으니 커피를 줍니다.\n",
            "남은 커피의 양은 4개입니다.\n",
            "돈을 받았으니 커피를 줍니다.\n",
            "남은 커피의 양은 3개입니다.\n",
            "돈을 받았으니 커피를 줍니다.\n",
            "남은 커피의 양은 2개입니다.\n",
            "돈을 받았으니 커피를 줍니다.\n",
            "남은 커피의 양은 1개입니다.\n",
            "돈을 받았으니 커피를 줍니다.\n",
            "남은 커피의 양은 0개입니다.\n",
            "커피가 다 떨어졌습니다. 판매를 중지합니다.\n"
          ]
        }
      ]
    },
    {
      "cell_type": "markdown",
      "metadata": {
        "id": "GNbR_i_hKreM"
      },
      "source": [
        "### while 문\n",
        " - 반복해서 문장(또는 조건)을 수행해야 할 경우 사용"
      ]
    },
    {
      "cell_type": "markdown",
      "metadata": {
        "id": "xC2nCMy_KreO"
      },
      "source": [
        "### while 구조  \n",
        "\n",
        "while <조건문> :    \n",
        "  (tap)  <수행할 문장1>  \n",
        "  (tap)  <수행할 문장2>  \n",
        "  (tap)  <수행할 문장3>  \n",
        "    ..."
      ]
    },
    {
      "cell_type": "markdown",
      "metadata": {
        "id": "yMAj4r5nKreP"
      },
      "source": [
        "### 무한루프 : 무한히 반복하는 개념을 while문으로 구현\n",
        "- while문의 조건문이 True이면 항상 참이된다. 따라서 while문 안에 있는 문장들은 무한하게 수행"
      ]
    },
    {
      "cell_type": "markdown",
      "metadata": {
        "id": "r_AQspSzKreP"
      },
      "source": [
        "while True:  \n",
        "   <Tap>  수행할 문장1  \n",
        "   <Tap>  수행할 문장2"
      ]
    },
    {
      "cell_type": "markdown",
      "metadata": {
        "id": "WHzrsUm6KreP"
      },
      "source": [
        "#### Q1. 연습문제 \n",
        "- while문을 사용해 1부터 1000까지의 자연수 중 3의 배수의 합을 구해 보자."
      ]
    },
    {
      "cell_type": "code",
      "metadata": {
        "id": "VtSQT2NCKreQ",
        "outputId": "c4d42f97-4f36-4275-f4ce-e48336a03332"
      },
      "source": [
        "#연습1\n",
        "num = 1\n",
        "while num <= 1000:\n",
        "    num = num +1 \n",
        "    if num % 3 = 0:"
      ],
      "execution_count": null,
      "outputs": [
        {
          "ename": "SyntaxError",
          "evalue": "invalid syntax (<ipython-input-4-7cbf25f3679e>, line 4)",
          "output_type": "error",
          "traceback": [
            "\u001b[1;36m  File \u001b[1;32m\"<ipython-input-4-7cbf25f3679e>\"\u001b[1;36m, line \u001b[1;32m4\u001b[0m\n\u001b[1;33m    if num % 3 = 0:\u001b[0m\n\u001b[1;37m               ^\u001b[0m\n\u001b[1;31mSyntaxError\u001b[0m\u001b[1;31m:\u001b[0m invalid syntax\n"
          ]
        }
      ]
    },
    {
      "cell_type": "code",
      "metadata": {
        "id": "s6Mu0qf2KreR",
        "outputId": "740262dc-2ee7-4c6e-8d17-0cf5cbdc8a40"
      },
      "source": [
        "result = 0\n",
        "i = 1\n",
        "while i <= 1000:\n",
        "    if i % 3 == 0:\n",
        "        result += i \n",
        "    i += 1\n",
        "print(result)"
      ],
      "execution_count": null,
      "outputs": [
        {
          "name": "stdout",
          "output_type": "stream",
          "text": [
            "166833\n"
          ]
        }
      ]
    },
    {
      "cell_type": "markdown",
      "metadata": {
        "id": "3cjFKqGIKreS"
      },
      "source": [
        "#### Q2. 연습문제 \n",
        "- for문을 사용해 1부터 100까지의 숫자를 출력해 보자."
      ]
    },
    {
      "cell_type": "code",
      "metadata": {
        "id": "J7kl5Al6KreS",
        "outputId": "1790fa5d-10aa-4316-9ebe-fbbd955f6d3e"
      },
      "source": [
        "for i in range(101):\n",
        "    print(i)"
      ],
      "execution_count": null,
      "outputs": [
        {
          "name": "stdout",
          "output_type": "stream",
          "text": [
            "0\n",
            "1\n",
            "2\n",
            "3\n",
            "4\n",
            "5\n",
            "6\n",
            "7\n",
            "8\n",
            "9\n",
            "10\n",
            "11\n",
            "12\n",
            "13\n",
            "14\n",
            "15\n",
            "16\n",
            "17\n",
            "18\n",
            "19\n",
            "20\n",
            "21\n",
            "22\n",
            "23\n",
            "24\n",
            "25\n",
            "26\n",
            "27\n",
            "28\n",
            "29\n",
            "30\n",
            "31\n",
            "32\n",
            "33\n",
            "34\n",
            "35\n",
            "36\n",
            "37\n",
            "38\n",
            "39\n",
            "40\n",
            "41\n",
            "42\n",
            "43\n",
            "44\n",
            "45\n",
            "46\n",
            "47\n",
            "48\n",
            "49\n",
            "50\n",
            "51\n",
            "52\n",
            "53\n",
            "54\n",
            "55\n",
            "56\n",
            "57\n",
            "58\n",
            "59\n",
            "60\n",
            "61\n",
            "62\n",
            "63\n",
            "64\n",
            "65\n",
            "66\n",
            "67\n",
            "68\n",
            "69\n",
            "70\n",
            "71\n",
            "72\n",
            "73\n",
            "74\n",
            "75\n",
            "76\n",
            "77\n",
            "78\n",
            "79\n",
            "80\n",
            "81\n",
            "82\n",
            "83\n",
            "84\n",
            "85\n",
            "86\n",
            "87\n",
            "88\n",
            "89\n",
            "90\n",
            "91\n",
            "92\n",
            "93\n",
            "94\n",
            "95\n",
            "96\n",
            "97\n",
            "98\n",
            "99\n",
            "100\n"
          ]
        }
      ]
    },
    {
      "cell_type": "code",
      "metadata": {
        "id": "OqflpjXcKreT"
      },
      "source": [
        ""
      ],
      "execution_count": null,
      "outputs": []
    }
  ]
}