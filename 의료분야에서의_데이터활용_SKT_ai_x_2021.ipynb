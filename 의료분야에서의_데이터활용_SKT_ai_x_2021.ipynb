{
  "nbformat": 4,
  "nbformat_minor": 0,
  "metadata": {
    "kernelspec": {
      "display_name": "Python 3",
      "language": "python",
      "name": "python3"
    },
    "language_info": {
      "codemirror_mode": {
        "name": "ipython",
        "version": 3
      },
      "file_extension": ".py",
      "mimetype": "text/x-python",
      "name": "python",
      "nbconvert_exporter": "python",
      "pygments_lexer": "ipython3",
      "version": "3.7.3"
    },
    "colab": {
      "name": "의료분야에서의 데이터활용  -  SKT ai.x 2021.ipynb",
      "provenance": [],
      "include_colab_link": true
    }
  },
  "cells": [
    {
      "cell_type": "markdown",
      "metadata": {
        "id": "view-in-github",
        "colab_type": "text"
      },
      "source": [
        "<a href=\"https://colab.research.google.com/github/blackpearl-09/TIL/blob/main/%EC%9D%98%EB%A3%8C%EB%B6%84%EC%95%BC%EC%97%90%EC%84%9C%EC%9D%98_%EB%8D%B0%EC%9D%B4%ED%84%B0%ED%99%9C%EC%9A%A9_SKT_ai_x_2021.ipynb\" target=\"_parent\"><img src=\"https://colab.research.google.com/assets/colab-badge.svg\" alt=\"Open In Colab\"/></a>"
      ]
    },
    {
      "cell_type": "markdown",
      "metadata": {
        "id": "NoSC1UeurgYH"
      },
      "source": [
        "## 의료분야에서의 데이터활용   - SKT ai.x 2021 - \n",
        "\n",
        "####  **의료계에서 사용하는 AI 사례?**\n",
        "  - data 분석을 통하 의학적 Insigth 도출\n",
        "  - 의료 영상 data활용\n",
        "  - signal data 활용 (체온, 심전도 혈압 등 시계열 데이터를 딥러닝을 통해 예측해서 예방)\n",
        "  - 병원 운영을 위한 ai (물류, 금융 회사들의 역할을 수행해야하므로)\n",
        "\n",
        "\n",
        "\n",
        "\n",
        "####  **병원의 ai 도입이 빠르지 못하는 이유?**\n",
        "  - 성능의 불확신: 130개 제품 중  엄격한 기준을 통해 통과한 제품은 2개밖에 안되는 데도 성능에 대한 이슈가 없을 수 없음\n",
        "  \n",
        "  \n",
        "  \n",
        "  \n",
        "####  **의료현장에서 ai는 보조장치인가?**\n",
        "  - 진단 보조 역할: ai가 진단을 내릴 수 없는 이유는, 그 책임을 의사가 져야 하므로 의사 자격증을 가진\n",
        "  - 아직까지 법적으로 책임에 대해 모호하므로. ai가 널리 사용되기 위해서는 데이터 규제에 대한 논의의 필요성\n",
        "  \n",
        "  \n",
        "  \n",
        "\n",
        "####  **의료용  data공개를 확산시키기 위한 방안?**\n",
        "  - 심사평가원 국민건강보험에서는 예전부터 공개\n",
        "  - 암 빅데이터 플랫폼 등, 바이탈db(서울대병원 제공) , NIA 등\n",
        "  - open to public 이면 좋겠으나, 민감한 정보가 있을 수 밖에 없어 승인절차를 받거나 기관윤리심의회를 거쳐야만 획득할 수 있음\n",
        "  - 그러나, 사람에 대한 데이터를 사용하므로 윤리적인 규제가 있을 수 밖에 없음.\n",
        "  \n",
        "  \n",
        "  \n",
        "  \n",
        "####  **기술 / 의료**\n",
        "  - 기술적으로 좋은 ai가 의료분야에서도 좋다고 할 수는 없음\n",
        "  - 어떤 방법론으로 검증할 것인지 (몇 개의 병원에, 몇 명의 환자들을 대상으로 할지)가 중요함\n",
        "  - 임상실험 과정이 자본력과도 연관되는 부분. \n",
        "\n",
        "\n",
        "\n",
        "\n",
        "\n",
        "####  **한국의 의료 /제약 ai는 어느 수준인가?**\n",
        "  - 기술적인 수준은 global level이라고 생각되지만,메이저리그로 비교한다면 한국은 현재 선수층이 두텁지 않아서 마이너리그(많이 연구하는 기술이 아닌)로 가면 실력 차가 있음\n",
        "  \n",
        "  \n",
        "  \n",
        "  \n",
        "  \n",
        "####  **분야 별로 나눴을 떄는?**\n",
        "  - 활발하게 연구되고 있는 부분은 영상 의학과 같은 이미지 트레이닝을 활용한 기술은 이미 global level.\n",
        "  - 반대로, 제약 분야에서는 임상실험과 같은 과정에서 많은 환자 수, 비용이 필요한데 이 과정에서 한국이 global보다 뒤쳐짐 (자본력 한계)\n",
        "  \n",
        "  \n",
        "  \n",
        "  \n",
        "  \n",
        "####  **신약개발에서의 ai 사용 사례**\n",
        "  - 단백질 구조 예측 ai : 3차원 구조를 예측\n",
        "  - 후보물질 스크리닝하는 ai (항체 등 어떤 것이 선도물질인가 구분해내는 )\n",
        "  - 임삼시험에 맞는 환자/지역을 찾아주는 ai\n",
        "  \n",
        "  \n",
        "  \n",
        "  \n",
        "  \n",
        "####  **앞으로 널리 사용될 ai기술?**\n",
        "  - 영상을 이용한 진단 ai\n",
        "  - 신약 개발 ai\n",
        "  - 의무기록 자동 작성 ai\n",
        "  - 병원 자동화를 위한 ai\n"
      ]
    },
    {
      "cell_type": "code",
      "metadata": {
        "id": "iehU8ZUjri_o"
      },
      "source": [
        ""
      ],
      "execution_count": null,
      "outputs": []
    }
  ]
}