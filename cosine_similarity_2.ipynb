{
  "nbformat": 4,
  "nbformat_minor": 0,
  "metadata": {
    "kernelspec": {
      "display_name": "Python 3",
      "language": "python",
      "name": "python3"
    },
    "language_info": {
      "codemirror_mode": {
        "name": "ipython",
        "version": 3
      },
      "file_extension": ".py",
      "mimetype": "text/x-python",
      "name": "python",
      "nbconvert_exporter": "python",
      "pygments_lexer": "ipython3",
      "version": "3.7.3"
    },
    "colab": {
      "name": "cosine_similarity_2.ipynb",
      "provenance": [],
      "include_colab_link": true
    }
  },
  "cells": [
    {
      "cell_type": "markdown",
      "metadata": {
        "id": "view-in-github",
        "colab_type": "text"
      },
      "source": [
        "<a href=\"https://colab.research.google.com/github/blackpearl-09/TIL/blob/main/cosine_similarity_2.ipynb\" target=\"_parent\"><img src=\"https://colab.research.google.com/assets/colab-badge.svg\" alt=\"Open In Colab\"/></a>"
      ]
    },
    {
      "cell_type": "markdown",
      "metadata": {
        "id": "o1YQtWqpfLbF"
      },
      "source": [
        "## - The process of data analysis for text data\n",
        "\n",
        " 1. 형태소 분석(Tokenize)\n",
        " 2. 품사 표시(POS Tagging, Part-of-speech)\n",
        " 3. 불용어(Stopwords) 제거 \n",
        " --------------------------------------\n",
        " 4. 단어 개수 카운팅 및 단어 사전 생성\n",
        " 5. 단어 사전 기반 데이터 시각화 \n",
        " 6. 머신러닝 / 딥러닝 모델 적용\n",
        " "
      ]
    },
    {
      "cell_type": "markdown",
      "metadata": {
        "id": "rfXf9PSrfLbi"
      },
      "source": [
        "### 자연어처리를 위한 KoNLPy패키지 \n",
        "\n",
        "\n",
        " - 클래스: Hannanum, Kkma, Komoran, Okt(Twitter) 등이 있다.\n",
        " \n",
        " \n",
        " - 공통 내장함수 \n",
        "  1. morphs(text) : 텍스트에서 형태소를 반환한다\n",
        "  2. nouns(text) : 텍스트에서 명사를 반환한다\n",
        "  3. phrases(text) : 텍스트에서 어절을 뽑아낸다\n",
        "  4. pos(text) : 텍스트에서 품사 정보를 부착하여 반환한다"
      ]
    },
    {
      "cell_type": "markdown",
      "metadata": {
        "id": "H4v4lcc5fLbm"
      },
      "source": [
        "### Okt (Open Korean Text), 형태소 분석기\n",
        "- 오픈 소스 한국어 분석기. 트위터에서 만든 오픈소스 한국어 처리기인 twitter-korean-text를 이어받음\n"
      ]
    },
    {
      "cell_type": "code",
      "metadata": {
        "id": "aUqf4LUOfLby",
        "outputId": "7c2adef9-344f-4b02-8f59-1d7a5c2ae737"
      },
      "source": [
        "from sklearn.feature_extraction.text import CountVectorizer\n",
        "from sklearn.metrics.pairwise import cosine_similarity\n",
        "from konlpy.tag import Okt \n",
        "from numpy import dot \n",
        "from numpy.linalg import norm #벡터의 크기 측정하는 함수\n",
        "import numpy as np \n",
        "import pandas as pd\n",
        "okt = Okt()\n",
        "\n",
        "\n",
        "text1 = '안녕 나는 맨유로 이적한 호날두야' \n",
        "text2 = '안녕 나는 맨시티로 이적하지 못하고 토트넘에 잔류한 케인이야' \n",
        "text3 = '나는 맨시티와 케인을 좋아해. 호날두는 별로야'\n",
        "\n",
        "\n",
        "print(okt.nouns(text1))\n",
        "print(okt.nouns(text2))\n",
        "print(okt.nouns(text3))\n",
        "print(type(okt.nouns(text1)))"
      ],
      "execution_count": null,
      "outputs": [
        {
          "name": "stdout",
          "output_type": "stream",
          "text": [
            "['안녕', '나', '맨유', '이적', '호날두']\n",
            "['안녕', '나', '맨시티', '이적', '못', '토트넘', '잔류', '케인']\n",
            "['나', '맨시티', '케인', '호날두', '별로']\n",
            "<class 'list'>\n"
          ]
        }
      ]
    },
    {
      "cell_type": "code",
      "metadata": {
        "id": "YgeoUFCQfLb7",
        "outputId": "faec480e-a29c-4e08-cdc5-d74db8d88d95"
      },
      "source": [
        "texts = [text1, text2, text3]\n",
        "vector = CountVectorizer() #countvetorizer 생성 \n",
        "corpus =[]\n",
        "\n",
        "for text in texts:  #회사명을 하나씩 value에 넣고\n",
        "    corpus.append(text)\n",
        "\n",
        "text_arr = vector.fit_transform(corpus).toarray()\n",
        "\n",
        "\n",
        "print(vector.vocabulary_) # 각 단엉의 배열 순서 \n",
        "\n",
        "pd.DataFrame(text_arr).head()#순서에 따라 text1~3 벡터화"
      ],
      "execution_count": null,
      "outputs": [
        {
          "name": "stdout",
          "output_type": "stream",
          "text": [
            "{'안녕': 6, '나는': 0, '맨유로': 3, '이적한': 8, '호날두야': 15, '맨시티로': 1, '이적하지': 7, '못하고': 4, '토트넘에': 13, '잔류한': 9, '케인이야': 12, '맨시티와': 2, '케인을': 11, '좋아해': 10, '호날두는': 14, '별로야': 5}\n"
          ]
        },
        {
          "data": {
            "text/html": [
              "<div>\n",
              "<style scoped>\n",
              "    .dataframe tbody tr th:only-of-type {\n",
              "        vertical-align: middle;\n",
              "    }\n",
              "\n",
              "    .dataframe tbody tr th {\n",
              "        vertical-align: top;\n",
              "    }\n",
              "\n",
              "    .dataframe thead th {\n",
              "        text-align: right;\n",
              "    }\n",
              "</style>\n",
              "<table border=\"1\" class=\"dataframe\">\n",
              "  <thead>\n",
              "    <tr style=\"text-align: right;\">\n",
              "      <th></th>\n",
              "      <th>0</th>\n",
              "      <th>1</th>\n",
              "      <th>2</th>\n",
              "      <th>3</th>\n",
              "      <th>4</th>\n",
              "      <th>5</th>\n",
              "      <th>6</th>\n",
              "      <th>7</th>\n",
              "      <th>8</th>\n",
              "      <th>9</th>\n",
              "      <th>10</th>\n",
              "      <th>11</th>\n",
              "      <th>12</th>\n",
              "      <th>13</th>\n",
              "      <th>14</th>\n",
              "      <th>15</th>\n",
              "    </tr>\n",
              "  </thead>\n",
              "  <tbody>\n",
              "    <tr>\n",
              "      <th>0</th>\n",
              "      <td>1</td>\n",
              "      <td>0</td>\n",
              "      <td>0</td>\n",
              "      <td>1</td>\n",
              "      <td>0</td>\n",
              "      <td>0</td>\n",
              "      <td>1</td>\n",
              "      <td>0</td>\n",
              "      <td>1</td>\n",
              "      <td>0</td>\n",
              "      <td>0</td>\n",
              "      <td>0</td>\n",
              "      <td>0</td>\n",
              "      <td>0</td>\n",
              "      <td>0</td>\n",
              "      <td>1</td>\n",
              "    </tr>\n",
              "    <tr>\n",
              "      <th>1</th>\n",
              "      <td>1</td>\n",
              "      <td>1</td>\n",
              "      <td>0</td>\n",
              "      <td>0</td>\n",
              "      <td>1</td>\n",
              "      <td>0</td>\n",
              "      <td>1</td>\n",
              "      <td>1</td>\n",
              "      <td>0</td>\n",
              "      <td>1</td>\n",
              "      <td>0</td>\n",
              "      <td>0</td>\n",
              "      <td>1</td>\n",
              "      <td>1</td>\n",
              "      <td>0</td>\n",
              "      <td>0</td>\n",
              "    </tr>\n",
              "    <tr>\n",
              "      <th>2</th>\n",
              "      <td>1</td>\n",
              "      <td>0</td>\n",
              "      <td>1</td>\n",
              "      <td>0</td>\n",
              "      <td>0</td>\n",
              "      <td>1</td>\n",
              "      <td>0</td>\n",
              "      <td>0</td>\n",
              "      <td>0</td>\n",
              "      <td>0</td>\n",
              "      <td>1</td>\n",
              "      <td>1</td>\n",
              "      <td>0</td>\n",
              "      <td>0</td>\n",
              "      <td>1</td>\n",
              "      <td>0</td>\n",
              "    </tr>\n",
              "  </tbody>\n",
              "</table>\n",
              "</div>"
            ],
            "text/plain": [
              "   0  1  2  3  4  5  6  7  8  9  10  11  12  13  14  15\n",
              "0  1  0  0  1  0  0  1  0  1  0   0   0   0   0   0   1\n",
              "1  1  1  0  0  1  0  1  1  0  1   0   0   1   1   0   0\n",
              "2  1  0  1  0  0  1  0  0  0  0   1   1   0   0   1   0"
            ]
          },
          "execution_count": 77,
          "metadata": {},
          "output_type": "execute_result"
        }
      ]
    },
    {
      "cell_type": "markdown",
      "metadata": {
        "id": "EU8673DpfLb9"
      },
      "source": [
        "#### 주의할 것은 CountVectorizer는 오직 띄어쓰기만을 기준으로 단어를 자른다는 점\n",
        " - 영어의 경우 띄어쓰기만으로 토큰화가 수행되기 때문에 문제가 없지만 한글에 CountVectorizer를 적용하면, 조사 등의 이유로 제대로 BoW가 만들어지지 않음. "
      ]
    },
    {
      "cell_type": "code",
      "metadata": {
        "id": "Ppd4aLB2fLb_"
      },
      "source": [
        "def make_matrix(feats, list_data): \n",
        "    freq_list = [] \n",
        "    for feat in feats: \n",
        "        freq = 0 \n",
        "        for word in list_data: \n",
        "            if feat == word: \n",
        "                freq += 1 \n",
        "        freq_list.append(freq) \n",
        "    return freq_list"
      ],
      "execution_count": null,
      "outputs": []
    },
    {
      "cell_type": "code",
      "metadata": {
        "id": "TP7TU2KXfLcB"
      },
      "source": [
        "def cos_sim(A,B): \n",
        "    np.seterr(divide = 'ignore', invalid = 'ignore')\n",
        "    return dot(A, B)/(norm(A)*norm(B))\n"
      ],
      "execution_count": null,
      "outputs": []
    },
    {
      "cell_type": "code",
      "metadata": {
        "id": "mS_G4LrSfLcD",
        "outputId": "503f137f-9693-498d-b246-263357f53883"
      },
      "source": [
        "v1 = okt.nouns(text1) \n",
        "v2 = okt.nouns(text2)\n",
        "v3 = okt.nouns(text3) \n",
        "# 단어들을 중복제거를 위해, set에 데이터를 쌓는다\n",
        "\n",
        "v4 = v1 + v2 + v3 \n",
        "t_set= set(v4) \n",
        "print(t_set)\n",
        "\n",
        "v1_arr = np.array(make_matrix(t_set, v1)) \n",
        "v2_arr = np.array(make_matrix(t_set, v2)) \n",
        "v3_arr = np.array(make_matrix(t_set, v3)) \n",
        "\n",
        "cs1 = cos_sim(v1_arr, v2_arr) \n",
        "cs2 = cos_sim(v1_arr, v3_arr) \n",
        "cs3 = cos_sim(v2_arr, v3_arr) \n",
        "print('v1 <-> v2 = ', cs1) \n",
        "print('v1 <-> v3 = ', cs2) \n",
        "print('v2 <-> v3 = ', cs3)\n",
        "\n"
      ],
      "execution_count": null,
      "outputs": [
        {
          "name": "stdout",
          "output_type": "stream",
          "text": [
            "{'안녕', '못', '이적', '맨유', '호날두', '잔류', '케인', '토트넘', '별로', '나', '맨시티'}\n",
            "v1 <-> v2 =  0.4743416490252569\n",
            "v1 <-> v3 =  0.3999999999999999\n",
            "v2 <-> v3 =  0.4743416490252569\n"
          ]
        }
      ]
    },
    {
      "cell_type": "code",
      "metadata": {
        "id": "P9WZHenafLcE"
      },
      "source": [
        "# texts = [text1, text2, text3]\n",
        "\n",
        "# vector = CountVectorizer() #countvetorizer 생성 \n",
        "# corpus =[]\n",
        "\n",
        "# for text in texts:  #회사명을 하나씩 value에 넣고\n",
        "#     text = okt.nouns(text)\n",
        "#     corpus.append(text)\n",
        "\n",
        "# text_arr = vector.fit_transform(corpus).toarray()\n",
        "\n",
        "# print(text_arr) #순서에 따라 text1~3 벡터화\n",
        "# print(vector.vocabulary_) # 각 단엉의 배열 순서 "
      ],
      "execution_count": null,
      "outputs": []
    },
    {
      "cell_type": "code",
      "metadata": {
        "id": "EbdRu4OtfLcG"
      },
      "source": [
        "from sklearn.feature_extraction.text import CountVectorizer\n",
        "from sklearn.pipeline import Pipeline\n",
        "\n",
        "\n",
        "vectorizer = CountVectorizer(analyzer = 'word', \n",
        "                         tokenizer = None,\n",
        "                         preprocessor = None, \n",
        "                         stop_words = None, \n",
        "                         min_df = 2, # 토큰이 나타날 최소 문서 개수\n",
        "                         ngram_range=(1, 3),\n",
        "                         max_features = 20000\n",
        "                        )\n",
        "vectorizer"
      ],
      "execution_count": null,
      "outputs": []
    },
    {
      "cell_type": "markdown",
      "metadata": {
        "id": "XEE0CaMpfLcJ"
      },
      "source": [
        "* stop_words : 리스트 형태로 불용어로 처리하고자 하는 문자를 넣어주시면 됩니다.\n",
        "\n",
        "* analyzer : 문자열 {‘word’, ‘char’, ‘char_wb’} 또는 함수로 어떤 단위로 토큰화 할지를 정의합니다.\n",
        "\n",
        "* token_pattern : 토큰화 하는 정규표현식 패턴입니다.\n",
        "\n",
        "* tokenizer : 사이킷런에서 기본으로 제공하고 있는 토큰화 방법이 아닌 커스텀한 함수로 토큰화 하고자 할 때 함수를 만들어서 넣어줄 수 있습니다.\n",
        "\n",
        "* ngram_range : n-그램 범위로 단어를 몇 개로 토큰화 할지를 의미합니다.\n",
        "\n",
        "* max_df : 문서에서 등장하는 최대 빈도수를 의미합니다.\n",
        "\n",
        "* min_df : 문서에서 등장하는 최소 빈도수를 의미합니다."
      ]
    }
  ]
}