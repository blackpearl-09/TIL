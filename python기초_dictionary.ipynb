{
  "nbformat": 4,
  "nbformat_minor": 0,
  "metadata": {
    "kernelspec": {
      "display_name": "Python 3",
      "language": "python",
      "name": "python3"
    },
    "language_info": {
      "codemirror_mode": {
        "name": "ipython",
        "version": 3
      },
      "file_extension": ".py",
      "mimetype": "text/x-python",
      "name": "python",
      "nbconvert_exporter": "python",
      "pygments_lexer": "ipython3",
      "version": "3.7.3"
    },
    "colab": {
      "name": "python기초_dictionary.ipynb",
      "provenance": [],
      "include_colab_link": true
    }
  },
  "cells": [
    {
      "cell_type": "markdown",
      "metadata": {
        "id": "view-in-github",
        "colab_type": "text"
      },
      "source": [
        "<a href=\"https://colab.research.google.com/github/blackpearl-09/TIL/blob/main/python%EA%B8%B0%EC%B4%88_dictionary.ipynb\" target=\"_parent\"><img src=\"https://colab.research.google.com/assets/colab-badge.svg\" alt=\"Open In Colab\"/></a>"
      ]
    },
    {
      "cell_type": "markdown",
      "metadata": {
        "id": "k2NPk_pJxdXB"
      },
      "source": [
        "- 딕셔너리: 대응관계를 나타낼 수 있는 자료형 \n",
        " - 형태: {Key1:Value1, Key2:Value2, Key3:Value3, ...}\n",
        " - 차이점: 리스트 & 튜플은, 특정 요소 값을 추출할 때 index를 기준으로 순차적으로(sequential) 구한다면 \n",
        "  딕셔너리는, Key 값을 통해 대응관계에 있는 Value 값을 얻는다.  "
      ]
    },
    {
      "cell_type": "code",
      "metadata": {
        "id": "uo_cWR8XxdXG"
      },
      "source": [
        "dic = {'name':'Son', 'back_number':'7', 'club':'tottenham'}"
      ],
      "execution_count": null,
      "outputs": []
    },
    {
      "cell_type": "code",
      "metadata": {
        "id": "TkCYAzJ3xdXH",
        "outputId": "0ae2e2fd-5fd2-496f-b6fc-ce70f8b614a8"
      },
      "source": [
        "dic"
      ],
      "execution_count": null,
      "outputs": [
        {
          "data": {
            "text/plain": [
              "{'name': 'Son', 'back_number': '7', 'club': 'tottenham'}"
            ]
          },
          "execution_count": 2,
          "metadata": {},
          "output_type": "execute_result"
        }
      ]
    },
    {
      "cell_type": "code",
      "metadata": {
        "id": "slmyKzzuxdXI"
      },
      "source": [
        "dic['sponsorship'] =['adidas', 'PUBG']"
      ],
      "execution_count": null,
      "outputs": []
    },
    {
      "cell_type": "code",
      "metadata": {
        "id": "xNtXGkvXxdXI",
        "outputId": "727d8703-9cb2-48ed-d3df-6358fc7a6573"
      },
      "source": [
        "dic"
      ],
      "execution_count": null,
      "outputs": [
        {
          "data": {
            "text/plain": [
              "{'name': 'Son',\n",
              " 'back_number': '7',\n",
              " 'club': 'tottenham',\n",
              " 'sponsorship': ['adidas', 'PUBG']}"
            ]
          },
          "execution_count": 4,
          "metadata": {},
          "output_type": "execute_result"
        }
      ]
    },
    {
      "cell_type": "markdown",
      "metadata": {
        "id": "vCut29boxdXJ"
      },
      "source": [
        "- 딕셔너리 한 쌍(Key:Value) 추가하는 방법\n",
        " - 딕셔너리[추가할 Key] = 추가할 Value : 할당된 딕셔너리에 한 쌍이 추가된다.\n",
        " - Value 값으로, 리스트 추가도 가능\n",
        " - but, Key 값으로 리스트를 쓸 수 없다"
      ]
    },
    {
      "cell_type": "code",
      "metadata": {
        "id": "dZVimDx_xdXK",
        "outputId": "dfdf226c-d796-4ece-b411-cab32292dddb"
      },
      "source": [
        "del dic['back_number']\n",
        "dic"
      ],
      "execution_count": null,
      "outputs": [
        {
          "data": {
            "text/plain": [
              "{'name': 'Son', 'club': 'tottenham', 'sponsorship': ['adidas', 'PUBG']}"
            ]
          },
          "execution_count": 5,
          "metadata": {},
          "output_type": "execute_result"
        }
      ]
    },
    {
      "cell_type": "markdown",
      "metadata": {
        "id": "3IcldhcSxdXL"
      },
      "source": [
        "- 딕셔너리 요소 삭제하는 방법\n",
        " - 리스트 삭제하는 방법 중 하나인 del 활용\n",
        " - del 딕셔너리명[Key] : 할당한 딕셔너리의 Key값과 대응관계인 Value값이 같이 삭제"
      ]
    },
    {
      "cell_type": "code",
      "metadata": {
        "id": "1gUoRDWGxdXL",
        "outputId": "856e1fa9-f2fc-4586-cf35-0bd382fa0789"
      },
      "source": [
        "dic['name']"
      ],
      "execution_count": null,
      "outputs": [
        {
          "data": {
            "text/plain": [
              "'Son'"
            ]
          },
          "execution_count": 6,
          "metadata": {},
          "output_type": "execute_result"
        }
      ]
    },
    {
      "cell_type": "code",
      "metadata": {
        "id": "CN6JOpydxdXM",
        "outputId": "ff9923a9-ec3f-4379-82a5-0af26ec41603"
      },
      "source": [
        "dic['sponsorship']"
      ],
      "execution_count": null,
      "outputs": [
        {
          "data": {
            "text/plain": [
              "['adidas', 'PUBG']"
            ]
          },
          "execution_count": 7,
          "metadata": {},
          "output_type": "execute_result"
        }
      ]
    },
    {
      "cell_type": "markdown",
      "metadata": {
        "id": "0Nk5s1FWxdXN"
      },
      "source": [
        "- 딕셔너리 불러오는 방법\n",
        " - 딕셔너리에 요소를 추가흐는 방법과 유사.\n",
        " - 딕셔너리[Key] : [ ]안의 Key 값과 대응되는 Value값을 출력 "
      ]
    }
  ]
}