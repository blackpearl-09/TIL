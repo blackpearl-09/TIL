{
  "nbformat": 4,
  "nbformat_minor": 0,
  "metadata": {
    "colab": {
      "name": "HAICon2021_practice_0903.ipynb",
      "provenance": [],
      "collapsed_sections": [],
      "include_colab_link": true
    },
    "kernelspec": {
      "name": "python3",
      "display_name": "Python 3"
    },
    "language_info": {
      "name": "python"
    },
    "accelerator": "GPU",
    "widgets": {
      "application/vnd.jupyter.widget-state+json": {
        "c5fa5ee213844806a886e33e84ac6100": {
          "model_module": "@jupyter-widgets/controls",
          "model_name": "HBoxModel",
          "model_module_version": "1.5.0",
          "state": {
            "_view_name": "HBoxView",
            "_dom_classes": [],
            "_model_name": "HBoxModel",
            "_view_module": "@jupyter-widgets/controls",
            "_model_module_version": "1.5.0",
            "_view_count": null,
            "_view_module_version": "1.5.0",
            "box_style": "",
            "layout": "IPY_MODEL_0bddafb7f7b1457281aa1e21156f7c5c",
            "_model_module": "@jupyter-widgets/controls",
            "children": [
              "IPY_MODEL_658a4ac31bc74432a26041f5029ded4c",
              "IPY_MODEL_dc2d2163df394b3d8e697f5e51928a66",
              "IPY_MODEL_91004164875d4bfc8a7450e14f50ef38"
            ]
          }
        },
        "0bddafb7f7b1457281aa1e21156f7c5c": {
          "model_module": "@jupyter-widgets/base",
          "model_name": "LayoutModel",
          "model_module_version": "1.2.0",
          "state": {
            "_view_name": "LayoutView",
            "grid_template_rows": null,
            "right": null,
            "justify_content": null,
            "_view_module": "@jupyter-widgets/base",
            "overflow": null,
            "_model_module_version": "1.2.0",
            "_view_count": null,
            "flex_flow": null,
            "width": null,
            "min_width": null,
            "border": null,
            "align_items": null,
            "bottom": null,
            "_model_module": "@jupyter-widgets/base",
            "top": null,
            "grid_column": null,
            "overflow_y": null,
            "overflow_x": null,
            "grid_auto_flow": null,
            "grid_area": null,
            "grid_template_columns": null,
            "flex": null,
            "_model_name": "LayoutModel",
            "justify_items": null,
            "grid_row": null,
            "max_height": null,
            "align_content": null,
            "visibility": null,
            "align_self": null,
            "height": null,
            "min_height": null,
            "padding": null,
            "grid_auto_rows": null,
            "grid_gap": null,
            "max_width": null,
            "order": null,
            "_view_module_version": "1.2.0",
            "grid_template_areas": null,
            "object_position": null,
            "object_fit": null,
            "grid_auto_columns": null,
            "margin": null,
            "display": null,
            "left": null
          }
        },
        "658a4ac31bc74432a26041f5029ded4c": {
          "model_module": "@jupyter-widgets/controls",
          "model_name": "HTMLModel",
          "model_module_version": "1.5.0",
          "state": {
            "_view_name": "HTMLView",
            "style": "IPY_MODEL_1b191a7691ef464bb4e69dfebbe59f80",
            "_dom_classes": [],
            "description": "",
            "_model_name": "HTMLModel",
            "placeholder": "​",
            "_view_module": "@jupyter-widgets/controls",
            "_model_module_version": "1.5.0",
            "value": "100%",
            "_view_count": null,
            "_view_module_version": "1.5.0",
            "description_tooltip": null,
            "_model_module": "@jupyter-widgets/controls",
            "layout": "IPY_MODEL_cf266edf2ef24f80880b7f0cc1721d4e"
          }
        },
        "dc2d2163df394b3d8e697f5e51928a66": {
          "model_module": "@jupyter-widgets/controls",
          "model_name": "FloatProgressModel",
          "model_module_version": "1.5.0",
          "state": {
            "_view_name": "ProgressView",
            "style": "IPY_MODEL_07d28aef61f644e9932d97eb7d09314e",
            "_dom_classes": [],
            "description": "",
            "_model_name": "FloatProgressModel",
            "bar_style": "success",
            "max": 1004353,
            "_view_module": "@jupyter-widgets/controls",
            "_model_module_version": "1.5.0",
            "value": 1004353,
            "_view_count": null,
            "_view_module_version": "1.5.0",
            "orientation": "horizontal",
            "min": 0,
            "description_tooltip": null,
            "_model_module": "@jupyter-widgets/controls",
            "layout": "IPY_MODEL_edeb62e770e8462b917936efd73d7683"
          }
        },
        "91004164875d4bfc8a7450e14f50ef38": {
          "model_module": "@jupyter-widgets/controls",
          "model_name": "HTMLModel",
          "model_module_version": "1.5.0",
          "state": {
            "_view_name": "HTMLView",
            "style": "IPY_MODEL_2915a3727fc44a1cb6f0ced77a903ebb",
            "_dom_classes": [],
            "description": "",
            "_model_name": "HTMLModel",
            "placeholder": "​",
            "_view_module": "@jupyter-widgets/controls",
            "_model_module_version": "1.5.0",
            "value": " 1004353/1004353 [03:19&lt;00:00, 5178.60it/s]",
            "_view_count": null,
            "_view_module_version": "1.5.0",
            "description_tooltip": null,
            "_model_module": "@jupyter-widgets/controls",
            "layout": "IPY_MODEL_03afb983879c4c8d8d27effcebab470b"
          }
        },
        "1b191a7691ef464bb4e69dfebbe59f80": {
          "model_module": "@jupyter-widgets/controls",
          "model_name": "DescriptionStyleModel",
          "model_module_version": "1.5.0",
          "state": {
            "_view_name": "StyleView",
            "_model_name": "DescriptionStyleModel",
            "description_width": "",
            "_view_module": "@jupyter-widgets/base",
            "_model_module_version": "1.5.0",
            "_view_count": null,
            "_view_module_version": "1.2.0",
            "_model_module": "@jupyter-widgets/controls"
          }
        },
        "cf266edf2ef24f80880b7f0cc1721d4e": {
          "model_module": "@jupyter-widgets/base",
          "model_name": "LayoutModel",
          "model_module_version": "1.2.0",
          "state": {
            "_view_name": "LayoutView",
            "grid_template_rows": null,
            "right": null,
            "justify_content": null,
            "_view_module": "@jupyter-widgets/base",
            "overflow": null,
            "_model_module_version": "1.2.0",
            "_view_count": null,
            "flex_flow": null,
            "width": null,
            "min_width": null,
            "border": null,
            "align_items": null,
            "bottom": null,
            "_model_module": "@jupyter-widgets/base",
            "top": null,
            "grid_column": null,
            "overflow_y": null,
            "overflow_x": null,
            "grid_auto_flow": null,
            "grid_area": null,
            "grid_template_columns": null,
            "flex": null,
            "_model_name": "LayoutModel",
            "justify_items": null,
            "grid_row": null,
            "max_height": null,
            "align_content": null,
            "visibility": null,
            "align_self": null,
            "height": null,
            "min_height": null,
            "padding": null,
            "grid_auto_rows": null,
            "grid_gap": null,
            "max_width": null,
            "order": null,
            "_view_module_version": "1.2.0",
            "grid_template_areas": null,
            "object_position": null,
            "object_fit": null,
            "grid_auto_columns": null,
            "margin": null,
            "display": null,
            "left": null
          }
        },
        "07d28aef61f644e9932d97eb7d09314e": {
          "model_module": "@jupyter-widgets/controls",
          "model_name": "ProgressStyleModel",
          "model_module_version": "1.5.0",
          "state": {
            "_view_name": "StyleView",
            "_model_name": "ProgressStyleModel",
            "description_width": "",
            "_view_module": "@jupyter-widgets/base",
            "_model_module_version": "1.5.0",
            "_view_count": null,
            "_view_module_version": "1.2.0",
            "bar_color": null,
            "_model_module": "@jupyter-widgets/controls"
          }
        },
        "edeb62e770e8462b917936efd73d7683": {
          "model_module": "@jupyter-widgets/base",
          "model_name": "LayoutModel",
          "model_module_version": "1.2.0",
          "state": {
            "_view_name": "LayoutView",
            "grid_template_rows": null,
            "right": null,
            "justify_content": null,
            "_view_module": "@jupyter-widgets/base",
            "overflow": null,
            "_model_module_version": "1.2.0",
            "_view_count": null,
            "flex_flow": null,
            "width": null,
            "min_width": null,
            "border": null,
            "align_items": null,
            "bottom": null,
            "_model_module": "@jupyter-widgets/base",
            "top": null,
            "grid_column": null,
            "overflow_y": null,
            "overflow_x": null,
            "grid_auto_flow": null,
            "grid_area": null,
            "grid_template_columns": null,
            "flex": null,
            "_model_name": "LayoutModel",
            "justify_items": null,
            "grid_row": null,
            "max_height": null,
            "align_content": null,
            "visibility": null,
            "align_self": null,
            "height": null,
            "min_height": null,
            "padding": null,
            "grid_auto_rows": null,
            "grid_gap": null,
            "max_width": null,
            "order": null,
            "_view_module_version": "1.2.0",
            "grid_template_areas": null,
            "object_position": null,
            "object_fit": null,
            "grid_auto_columns": null,
            "margin": null,
            "display": null,
            "left": null
          }
        },
        "2915a3727fc44a1cb6f0ced77a903ebb": {
          "model_module": "@jupyter-widgets/controls",
          "model_name": "DescriptionStyleModel",
          "model_module_version": "1.5.0",
          "state": {
            "_view_name": "StyleView",
            "_model_name": "DescriptionStyleModel",
            "description_width": "",
            "_view_module": "@jupyter-widgets/base",
            "_model_module_version": "1.5.0",
            "_view_count": null,
            "_view_module_version": "1.2.0",
            "_model_module": "@jupyter-widgets/controls"
          }
        },
        "03afb983879c4c8d8d27effcebab470b": {
          "model_module": "@jupyter-widgets/base",
          "model_name": "LayoutModel",
          "model_module_version": "1.2.0",
          "state": {
            "_view_name": "LayoutView",
            "grid_template_rows": null,
            "right": null,
            "justify_content": null,
            "_view_module": "@jupyter-widgets/base",
            "overflow": null,
            "_model_module_version": "1.2.0",
            "_view_count": null,
            "flex_flow": null,
            "width": null,
            "min_width": null,
            "border": null,
            "align_items": null,
            "bottom": null,
            "_model_module": "@jupyter-widgets/base",
            "top": null,
            "grid_column": null,
            "overflow_y": null,
            "overflow_x": null,
            "grid_auto_flow": null,
            "grid_area": null,
            "grid_template_columns": null,
            "flex": null,
            "_model_name": "LayoutModel",
            "justify_items": null,
            "grid_row": null,
            "max_height": null,
            "align_content": null,
            "visibility": null,
            "align_self": null,
            "height": null,
            "min_height": null,
            "padding": null,
            "grid_auto_rows": null,
            "grid_gap": null,
            "max_width": null,
            "order": null,
            "_view_module_version": "1.2.0",
            "grid_template_areas": null,
            "object_position": null,
            "object_fit": null,
            "grid_auto_columns": null,
            "margin": null,
            "display": null,
            "left": null
          }
        },
        "629dbd8f125e4f0c87d534abdcb24184": {
          "model_module": "@jupyter-widgets/controls",
          "model_name": "HBoxModel",
          "model_module_version": "1.5.0",
          "state": {
            "_view_name": "HBoxView",
            "_dom_classes": [],
            "_model_name": "HBoxModel",
            "_view_module": "@jupyter-widgets/controls",
            "_model_module_version": "1.5.0",
            "_view_count": null,
            "_view_module_version": "1.5.0",
            "box_style": "",
            "layout": "IPY_MODEL_01a8374ffb0a41d08f1a9ac15a7d41a4",
            "_model_module": "@jupyter-widgets/controls",
            "children": [
              "IPY_MODEL_eaecf27676164b1c987f5ace350ac7dd",
              "IPY_MODEL_534585ed198b44b29ec4a0c8bc4d71fb",
              "IPY_MODEL_bccce38c29374ca0ac4a9dacc4591dfe"
            ]
          }
        },
        "01a8374ffb0a41d08f1a9ac15a7d41a4": {
          "model_module": "@jupyter-widgets/base",
          "model_name": "LayoutModel",
          "model_module_version": "1.2.0",
          "state": {
            "_view_name": "LayoutView",
            "grid_template_rows": null,
            "right": null,
            "justify_content": null,
            "_view_module": "@jupyter-widgets/base",
            "overflow": null,
            "_model_module_version": "1.2.0",
            "_view_count": null,
            "flex_flow": null,
            "width": null,
            "min_width": null,
            "border": null,
            "align_items": null,
            "bottom": null,
            "_model_module": "@jupyter-widgets/base",
            "top": null,
            "grid_column": null,
            "overflow_y": null,
            "overflow_x": null,
            "grid_auto_flow": null,
            "grid_area": null,
            "grid_template_columns": null,
            "flex": null,
            "_model_name": "LayoutModel",
            "justify_items": null,
            "grid_row": null,
            "max_height": null,
            "align_content": null,
            "visibility": null,
            "align_self": null,
            "height": null,
            "min_height": null,
            "padding": null,
            "grid_auto_rows": null,
            "grid_gap": null,
            "max_width": null,
            "order": null,
            "_view_module_version": "1.2.0",
            "grid_template_areas": null,
            "object_position": null,
            "object_fit": null,
            "grid_auto_columns": null,
            "margin": null,
            "display": null,
            "left": null
          }
        },
        "eaecf27676164b1c987f5ace350ac7dd": {
          "model_module": "@jupyter-widgets/controls",
          "model_name": "HTMLModel",
          "model_module_version": "1.5.0",
          "state": {
            "_view_name": "HTMLView",
            "style": "IPY_MODEL_adf0e2d8749f4156a6331b25319eeef8",
            "_dom_classes": [],
            "description": "",
            "_model_name": "HTMLModel",
            "placeholder": "​",
            "_view_module": "@jupyter-widgets/controls",
            "_model_module_version": "1.5.0",
            "value": "100%",
            "_view_count": null,
            "_view_module_version": "1.5.0",
            "description_tooltip": null,
            "_model_module": "@jupyter-widgets/controls",
            "layout": "IPY_MODEL_98d61f4ee9f54ac7b6f6ff37472df31c"
          }
        },
        "534585ed198b44b29ec4a0c8bc4d71fb": {
          "model_module": "@jupyter-widgets/controls",
          "model_name": "FloatProgressModel",
          "model_module_version": "1.5.0",
          "state": {
            "_view_name": "ProgressView",
            "style": "IPY_MODEL_5722e70fcb8947fe9ce389b745cad1a0",
            "_dom_classes": [],
            "description": "",
            "_model_name": "FloatProgressModel",
            "bar_style": "success",
            "max": 86351,
            "_view_module": "@jupyter-widgets/controls",
            "_model_module_version": "1.5.0",
            "value": 86351,
            "_view_count": null,
            "_view_module_version": "1.5.0",
            "orientation": "horizontal",
            "min": 0,
            "description_tooltip": null,
            "_model_module": "@jupyter-widgets/controls",
            "layout": "IPY_MODEL_940e6291527c48db995e84fda32b65e5"
          }
        },
        "bccce38c29374ca0ac4a9dacc4591dfe": {
          "model_module": "@jupyter-widgets/controls",
          "model_name": "HTMLModel",
          "model_module_version": "1.5.0",
          "state": {
            "_view_name": "HTMLView",
            "style": "IPY_MODEL_6b9e3352684348bd8cb3b5b12a7ba155",
            "_dom_classes": [],
            "description": "",
            "_model_name": "HTMLModel",
            "placeholder": "​",
            "_view_module": "@jupyter-widgets/controls",
            "_model_module_version": "1.5.0",
            "value": " 86351/86351 [00:17&lt;00:00, 5014.88it/s]",
            "_view_count": null,
            "_view_module_version": "1.5.0",
            "description_tooltip": null,
            "_model_module": "@jupyter-widgets/controls",
            "layout": "IPY_MODEL_943900e154704c6eb9c03a1a4e902061"
          }
        },
        "adf0e2d8749f4156a6331b25319eeef8": {
          "model_module": "@jupyter-widgets/controls",
          "model_name": "DescriptionStyleModel",
          "model_module_version": "1.5.0",
          "state": {
            "_view_name": "StyleView",
            "_model_name": "DescriptionStyleModel",
            "description_width": "",
            "_view_module": "@jupyter-widgets/base",
            "_model_module_version": "1.5.0",
            "_view_count": null,
            "_view_module_version": "1.2.0",
            "_model_module": "@jupyter-widgets/controls"
          }
        },
        "98d61f4ee9f54ac7b6f6ff37472df31c": {
          "model_module": "@jupyter-widgets/base",
          "model_name": "LayoutModel",
          "model_module_version": "1.2.0",
          "state": {
            "_view_name": "LayoutView",
            "grid_template_rows": null,
            "right": null,
            "justify_content": null,
            "_view_module": "@jupyter-widgets/base",
            "overflow": null,
            "_model_module_version": "1.2.0",
            "_view_count": null,
            "flex_flow": null,
            "width": null,
            "min_width": null,
            "border": null,
            "align_items": null,
            "bottom": null,
            "_model_module": "@jupyter-widgets/base",
            "top": null,
            "grid_column": null,
            "overflow_y": null,
            "overflow_x": null,
            "grid_auto_flow": null,
            "grid_area": null,
            "grid_template_columns": null,
            "flex": null,
            "_model_name": "LayoutModel",
            "justify_items": null,
            "grid_row": null,
            "max_height": null,
            "align_content": null,
            "visibility": null,
            "align_self": null,
            "height": null,
            "min_height": null,
            "padding": null,
            "grid_auto_rows": null,
            "grid_gap": null,
            "max_width": null,
            "order": null,
            "_view_module_version": "1.2.0",
            "grid_template_areas": null,
            "object_position": null,
            "object_fit": null,
            "grid_auto_columns": null,
            "margin": null,
            "display": null,
            "left": null
          }
        },
        "5722e70fcb8947fe9ce389b745cad1a0": {
          "model_module": "@jupyter-widgets/controls",
          "model_name": "ProgressStyleModel",
          "model_module_version": "1.5.0",
          "state": {
            "_view_name": "StyleView",
            "_model_name": "ProgressStyleModel",
            "description_width": "",
            "_view_module": "@jupyter-widgets/base",
            "_model_module_version": "1.5.0",
            "_view_count": null,
            "_view_module_version": "1.2.0",
            "bar_color": null,
            "_model_module": "@jupyter-widgets/controls"
          }
        },
        "940e6291527c48db995e84fda32b65e5": {
          "model_module": "@jupyter-widgets/base",
          "model_name": "LayoutModel",
          "model_module_version": "1.2.0",
          "state": {
            "_view_name": "LayoutView",
            "grid_template_rows": null,
            "right": null,
            "justify_content": null,
            "_view_module": "@jupyter-widgets/base",
            "overflow": null,
            "_model_module_version": "1.2.0",
            "_view_count": null,
            "flex_flow": null,
            "width": null,
            "min_width": null,
            "border": null,
            "align_items": null,
            "bottom": null,
            "_model_module": "@jupyter-widgets/base",
            "top": null,
            "grid_column": null,
            "overflow_y": null,
            "overflow_x": null,
            "grid_auto_flow": null,
            "grid_area": null,
            "grid_template_columns": null,
            "flex": null,
            "_model_name": "LayoutModel",
            "justify_items": null,
            "grid_row": null,
            "max_height": null,
            "align_content": null,
            "visibility": null,
            "align_self": null,
            "height": null,
            "min_height": null,
            "padding": null,
            "grid_auto_rows": null,
            "grid_gap": null,
            "max_width": null,
            "order": null,
            "_view_module_version": "1.2.0",
            "grid_template_areas": null,
            "object_position": null,
            "object_fit": null,
            "grid_auto_columns": null,
            "margin": null,
            "display": null,
            "left": null
          }
        },
        "6b9e3352684348bd8cb3b5b12a7ba155": {
          "model_module": "@jupyter-widgets/controls",
          "model_name": "DescriptionStyleModel",
          "model_module_version": "1.5.0",
          "state": {
            "_view_name": "StyleView",
            "_model_name": "DescriptionStyleModel",
            "description_width": "",
            "_view_module": "@jupyter-widgets/base",
            "_model_module_version": "1.5.0",
            "_view_count": null,
            "_view_module_version": "1.2.0",
            "_model_module": "@jupyter-widgets/controls"
          }
        },
        "943900e154704c6eb9c03a1a4e902061": {
          "model_module": "@jupyter-widgets/base",
          "model_name": "LayoutModel",
          "model_module_version": "1.2.0",
          "state": {
            "_view_name": "LayoutView",
            "grid_template_rows": null,
            "right": null,
            "justify_content": null,
            "_view_module": "@jupyter-widgets/base",
            "overflow": null,
            "_model_module_version": "1.2.0",
            "_view_count": null,
            "flex_flow": null,
            "width": null,
            "min_width": null,
            "border": null,
            "align_items": null,
            "bottom": null,
            "_model_module": "@jupyter-widgets/base",
            "top": null,
            "grid_column": null,
            "overflow_y": null,
            "overflow_x": null,
            "grid_auto_flow": null,
            "grid_area": null,
            "grid_template_columns": null,
            "flex": null,
            "_model_name": "LayoutModel",
            "justify_items": null,
            "grid_row": null,
            "max_height": null,
            "align_content": null,
            "visibility": null,
            "align_self": null,
            "height": null,
            "min_height": null,
            "padding": null,
            "grid_auto_rows": null,
            "grid_gap": null,
            "max_width": null,
            "order": null,
            "_view_module_version": "1.2.0",
            "grid_template_areas": null,
            "object_position": null,
            "object_fit": null,
            "grid_auto_columns": null,
            "margin": null,
            "display": null,
            "left": null
          }
        },
        "55884e99f2854f2c94959cc06b3b3106": {
          "model_module": "@jupyter-widgets/controls",
          "model_name": "HBoxModel",
          "model_module_version": "1.5.0",
          "state": {
            "_view_name": "HBoxView",
            "_dom_classes": [],
            "_model_name": "HBoxModel",
            "_view_module": "@jupyter-widgets/controls",
            "_model_module_version": "1.5.0",
            "_view_count": null,
            "_view_module_version": "1.5.0",
            "box_style": "",
            "layout": "IPY_MODEL_1c37192923f644a6ac936b44b49c25d6",
            "_model_module": "@jupyter-widgets/controls",
            "children": [
              "IPY_MODEL_e41dd489315d468d81fca5a14c413469",
              "IPY_MODEL_623e0bbdb6e14a088e252437a56010ce",
              "IPY_MODEL_c428a9cae06c4dec84e426eef1ad1d1b"
            ]
          }
        },
        "1c37192923f644a6ac936b44b49c25d6": {
          "model_module": "@jupyter-widgets/base",
          "model_name": "LayoutModel",
          "model_module_version": "1.2.0",
          "state": {
            "_view_name": "LayoutView",
            "grid_template_rows": null,
            "right": null,
            "justify_content": null,
            "_view_module": "@jupyter-widgets/base",
            "overflow": null,
            "_model_module_version": "1.2.0",
            "_view_count": null,
            "flex_flow": null,
            "width": null,
            "min_width": null,
            "border": null,
            "align_items": null,
            "bottom": null,
            "_model_module": "@jupyter-widgets/base",
            "top": null,
            "grid_column": null,
            "overflow_y": null,
            "overflow_x": null,
            "grid_auto_flow": null,
            "grid_area": null,
            "grid_template_columns": null,
            "flex": null,
            "_model_name": "LayoutModel",
            "justify_items": null,
            "grid_row": null,
            "max_height": null,
            "align_content": null,
            "visibility": null,
            "align_self": null,
            "height": null,
            "min_height": null,
            "padding": null,
            "grid_auto_rows": null,
            "grid_gap": null,
            "max_width": null,
            "order": null,
            "_view_module_version": "1.2.0",
            "grid_template_areas": null,
            "object_position": null,
            "object_fit": null,
            "grid_auto_columns": null,
            "margin": null,
            "display": null,
            "left": null
          }
        },
        "e41dd489315d468d81fca5a14c413469": {
          "model_module": "@jupyter-widgets/controls",
          "model_name": "HTMLModel",
          "model_module_version": "1.5.0",
          "state": {
            "_view_name": "HTMLView",
            "style": "IPY_MODEL_df9b8f6511424afbb6e47923f05c8318",
            "_dom_classes": [],
            "description": "",
            "_model_name": "HTMLModel",
            "placeholder": "​",
            "_view_module": "@jupyter-widgets/controls",
            "_model_module_version": "1.5.0",
            "value": "100%",
            "_view_count": null,
            "_view_module_version": "1.5.0",
            "description_tooltip": null,
            "_model_module": "@jupyter-widgets/controls",
            "layout": "IPY_MODEL_cfcd9963f49342cc893f93a4fdc2a4f3"
          }
        },
        "623e0bbdb6e14a088e252437a56010ce": {
          "model_module": "@jupyter-widgets/controls",
          "model_name": "FloatProgressModel",
          "model_module_version": "1.5.0",
          "state": {
            "_view_name": "ProgressView",
            "style": "IPY_MODEL_1664d96eda6e409aa81775d47f5a36b0",
            "_dom_classes": [],
            "description": "",
            "_model_name": "FloatProgressModel",
            "bar_style": "success",
            "max": 274751,
            "_view_module": "@jupyter-widgets/controls",
            "_model_module_version": "1.5.0",
            "value": 274751,
            "_view_count": null,
            "_view_module_version": "1.5.0",
            "orientation": "horizontal",
            "min": 0,
            "description_tooltip": null,
            "_model_module": "@jupyter-widgets/controls",
            "layout": "IPY_MODEL_565f96a85ed44bc7b9841509ea639f90"
          }
        },
        "c428a9cae06c4dec84e426eef1ad1d1b": {
          "model_module": "@jupyter-widgets/controls",
          "model_name": "HTMLModel",
          "model_module_version": "1.5.0",
          "state": {
            "_view_name": "HTMLView",
            "style": "IPY_MODEL_9af9d88fd2b04beb85abe6207e9516e7",
            "_dom_classes": [],
            "description": "",
            "_model_name": "HTMLModel",
            "placeholder": "​",
            "_view_module": "@jupyter-widgets/controls",
            "_model_module_version": "1.5.0",
            "value": " 274751/274751 [00:54&lt;00:00, 4922.34it/s]",
            "_view_count": null,
            "_view_module_version": "1.5.0",
            "description_tooltip": null,
            "_model_module": "@jupyter-widgets/controls",
            "layout": "IPY_MODEL_9a56789c544f450da5ea6911dd6d26c5"
          }
        },
        "df9b8f6511424afbb6e47923f05c8318": {
          "model_module": "@jupyter-widgets/controls",
          "model_name": "DescriptionStyleModel",
          "model_module_version": "1.5.0",
          "state": {
            "_view_name": "StyleView",
            "_model_name": "DescriptionStyleModel",
            "description_width": "",
            "_view_module": "@jupyter-widgets/base",
            "_model_module_version": "1.5.0",
            "_view_count": null,
            "_view_module_version": "1.2.0",
            "_model_module": "@jupyter-widgets/controls"
          }
        },
        "cfcd9963f49342cc893f93a4fdc2a4f3": {
          "model_module": "@jupyter-widgets/base",
          "model_name": "LayoutModel",
          "model_module_version": "1.2.0",
          "state": {
            "_view_name": "LayoutView",
            "grid_template_rows": null,
            "right": null,
            "justify_content": null,
            "_view_module": "@jupyter-widgets/base",
            "overflow": null,
            "_model_module_version": "1.2.0",
            "_view_count": null,
            "flex_flow": null,
            "width": null,
            "min_width": null,
            "border": null,
            "align_items": null,
            "bottom": null,
            "_model_module": "@jupyter-widgets/base",
            "top": null,
            "grid_column": null,
            "overflow_y": null,
            "overflow_x": null,
            "grid_auto_flow": null,
            "grid_area": null,
            "grid_template_columns": null,
            "flex": null,
            "_model_name": "LayoutModel",
            "justify_items": null,
            "grid_row": null,
            "max_height": null,
            "align_content": null,
            "visibility": null,
            "align_self": null,
            "height": null,
            "min_height": null,
            "padding": null,
            "grid_auto_rows": null,
            "grid_gap": null,
            "max_width": null,
            "order": null,
            "_view_module_version": "1.2.0",
            "grid_template_areas": null,
            "object_position": null,
            "object_fit": null,
            "grid_auto_columns": null,
            "margin": null,
            "display": null,
            "left": null
          }
        },
        "1664d96eda6e409aa81775d47f5a36b0": {
          "model_module": "@jupyter-widgets/controls",
          "model_name": "ProgressStyleModel",
          "model_module_version": "1.5.0",
          "state": {
            "_view_name": "StyleView",
            "_model_name": "ProgressStyleModel",
            "description_width": "",
            "_view_module": "@jupyter-widgets/base",
            "_model_module_version": "1.5.0",
            "_view_count": null,
            "_view_module_version": "1.2.0",
            "bar_color": null,
            "_model_module": "@jupyter-widgets/controls"
          }
        },
        "565f96a85ed44bc7b9841509ea639f90": {
          "model_module": "@jupyter-widgets/base",
          "model_name": "LayoutModel",
          "model_module_version": "1.2.0",
          "state": {
            "_view_name": "LayoutView",
            "grid_template_rows": null,
            "right": null,
            "justify_content": null,
            "_view_module": "@jupyter-widgets/base",
            "overflow": null,
            "_model_module_version": "1.2.0",
            "_view_count": null,
            "flex_flow": null,
            "width": null,
            "min_width": null,
            "border": null,
            "align_items": null,
            "bottom": null,
            "_model_module": "@jupyter-widgets/base",
            "top": null,
            "grid_column": null,
            "overflow_y": null,
            "overflow_x": null,
            "grid_auto_flow": null,
            "grid_area": null,
            "grid_template_columns": null,
            "flex": null,
            "_model_name": "LayoutModel",
            "justify_items": null,
            "grid_row": null,
            "max_height": null,
            "align_content": null,
            "visibility": null,
            "align_self": null,
            "height": null,
            "min_height": null,
            "padding": null,
            "grid_auto_rows": null,
            "grid_gap": null,
            "max_width": null,
            "order": null,
            "_view_module_version": "1.2.0",
            "grid_template_areas": null,
            "object_position": null,
            "object_fit": null,
            "grid_auto_columns": null,
            "margin": null,
            "display": null,
            "left": null
          }
        },
        "9af9d88fd2b04beb85abe6207e9516e7": {
          "model_module": "@jupyter-widgets/controls",
          "model_name": "DescriptionStyleModel",
          "model_module_version": "1.5.0",
          "state": {
            "_view_name": "StyleView",
            "_model_name": "DescriptionStyleModel",
            "description_width": "",
            "_view_module": "@jupyter-widgets/base",
            "_model_module_version": "1.5.0",
            "_view_count": null,
            "_view_module_version": "1.2.0",
            "_model_module": "@jupyter-widgets/controls"
          }
        },
        "9a56789c544f450da5ea6911dd6d26c5": {
          "model_module": "@jupyter-widgets/base",
          "model_name": "LayoutModel",
          "model_module_version": "1.2.0",
          "state": {
            "_view_name": "LayoutView",
            "grid_template_rows": null,
            "right": null,
            "justify_content": null,
            "_view_module": "@jupyter-widgets/base",
            "overflow": null,
            "_model_module_version": "1.2.0",
            "_view_count": null,
            "flex_flow": null,
            "width": null,
            "min_width": null,
            "border": null,
            "align_items": null,
            "bottom": null,
            "_model_module": "@jupyter-widgets/base",
            "top": null,
            "grid_column": null,
            "overflow_y": null,
            "overflow_x": null,
            "grid_auto_flow": null,
            "grid_area": null,
            "grid_template_columns": null,
            "flex": null,
            "_model_name": "LayoutModel",
            "justify_items": null,
            "grid_row": null,
            "max_height": null,
            "align_content": null,
            "visibility": null,
            "align_self": null,
            "height": null,
            "min_height": null,
            "padding": null,
            "grid_auto_rows": null,
            "grid_gap": null,
            "max_width": null,
            "order": null,
            "_view_module_version": "1.2.0",
            "grid_template_areas": null,
            "object_position": null,
            "object_fit": null,
            "grid_auto_columns": null,
            "margin": null,
            "display": null,
            "left": null
          }
        },
        "b30e7713c9ff4928b8832a0136a6619b": {
          "model_module": "@jupyter-widgets/controls",
          "model_name": "HBoxModel",
          "model_module_version": "1.5.0",
          "state": {
            "_view_name": "HBoxView",
            "_dom_classes": [],
            "_model_name": "HBoxModel",
            "_view_module": "@jupyter-widgets/controls",
            "_model_module_version": "1.5.0",
            "_view_count": null,
            "_view_module_version": "1.5.0",
            "box_style": "",
            "layout": "IPY_MODEL_55597c54f8a5440481fc8a116b10f830",
            "_model_module": "@jupyter-widgets/controls",
            "children": [
              "IPY_MODEL_694980e66b6640dfb4941f5692c93996",
              "IPY_MODEL_20012858d4ff434bbf662f215dd5111c",
              "IPY_MODEL_d0e9727fb15a4b99a5416d563dc8c5b5"
            ]
          }
        },
        "55597c54f8a5440481fc8a116b10f830": {
          "model_module": "@jupyter-widgets/base",
          "model_name": "LayoutModel",
          "model_module_version": "1.2.0",
          "state": {
            "_view_name": "LayoutView",
            "grid_template_rows": null,
            "right": null,
            "justify_content": null,
            "_view_module": "@jupyter-widgets/base",
            "overflow": null,
            "_model_module_version": "1.2.0",
            "_view_count": null,
            "flex_flow": null,
            "width": null,
            "min_width": null,
            "border": null,
            "align_items": null,
            "bottom": null,
            "_model_module": "@jupyter-widgets/base",
            "top": null,
            "grid_column": null,
            "overflow_y": null,
            "overflow_x": null,
            "grid_auto_flow": null,
            "grid_area": null,
            "grid_template_columns": null,
            "flex": null,
            "_model_name": "LayoutModel",
            "justify_items": null,
            "grid_row": null,
            "max_height": null,
            "align_content": null,
            "visibility": null,
            "align_self": null,
            "height": null,
            "min_height": null,
            "padding": null,
            "grid_auto_rows": null,
            "grid_gap": null,
            "max_width": null,
            "order": null,
            "_view_module_version": "1.2.0",
            "grid_template_areas": null,
            "object_position": null,
            "object_fit": null,
            "grid_auto_columns": null,
            "margin": null,
            "display": null,
            "left": null
          }
        },
        "694980e66b6640dfb4941f5692c93996": {
          "model_module": "@jupyter-widgets/controls",
          "model_name": "HTMLModel",
          "model_module_version": "1.5.0",
          "state": {
            "_view_name": "HTMLView",
            "style": "IPY_MODEL_b25758ff990f49a49d9e1b7dc3f23f09",
            "_dom_classes": [],
            "description": "",
            "_model_name": "HTMLModel",
            "placeholder": "​",
            "_view_module": "@jupyter-widgets/controls",
            "_model_module_version": "1.5.0",
            "value": "training: 100%",
            "_view_count": null,
            "_view_module_version": "1.5.0",
            "description_tooltip": null,
            "_model_module": "@jupyter-widgets/controls",
            "layout": "IPY_MODEL_332c4a71b9124b17a0445ea3e8abc584"
          }
        },
        "20012858d4ff434bbf662f215dd5111c": {
          "model_module": "@jupyter-widgets/controls",
          "model_name": "FloatProgressModel",
          "model_module_version": "1.5.0",
          "state": {
            "_view_name": "ProgressView",
            "style": "IPY_MODEL_423caf55e85e403ab33efa0bc850725a",
            "_dom_classes": [],
            "description": "",
            "_model_name": "FloatProgressModel",
            "bar_style": "success",
            "max": 12,
            "_view_module": "@jupyter-widgets/controls",
            "_model_module_version": "1.5.0",
            "value": 12,
            "_view_count": null,
            "_view_module_version": "1.5.0",
            "orientation": "horizontal",
            "min": 0,
            "description_tooltip": null,
            "_model_module": "@jupyter-widgets/controls",
            "layout": "IPY_MODEL_7bfa9fb166304ca78e36b61f683dbc60"
          }
        },
        "d0e9727fb15a4b99a5416d563dc8c5b5": {
          "model_module": "@jupyter-widgets/controls",
          "model_name": "HTMLModel",
          "model_module_version": "1.5.0",
          "state": {
            "_view_name": "HTMLView",
            "style": "IPY_MODEL_adbb94f582514ddfae264e6098729cfc",
            "_dom_classes": [],
            "description": "",
            "_model_name": "HTMLModel",
            "placeholder": "​",
            "_view_module": "@jupyter-widgets/controls",
            "_model_module_version": "1.5.0",
            "value": " 12/12 [1:17:07&lt;00:00, 385.93s/it, loss: 1.190463]",
            "_view_count": null,
            "_view_module_version": "1.5.0",
            "description_tooltip": null,
            "_model_module": "@jupyter-widgets/controls",
            "layout": "IPY_MODEL_4571da306b15498c9d5c1d2a029c9e83"
          }
        },
        "b25758ff990f49a49d9e1b7dc3f23f09": {
          "model_module": "@jupyter-widgets/controls",
          "model_name": "DescriptionStyleModel",
          "model_module_version": "1.5.0",
          "state": {
            "_view_name": "StyleView",
            "_model_name": "DescriptionStyleModel",
            "description_width": "",
            "_view_module": "@jupyter-widgets/base",
            "_model_module_version": "1.5.0",
            "_view_count": null,
            "_view_module_version": "1.2.0",
            "_model_module": "@jupyter-widgets/controls"
          }
        },
        "332c4a71b9124b17a0445ea3e8abc584": {
          "model_module": "@jupyter-widgets/base",
          "model_name": "LayoutModel",
          "model_module_version": "1.2.0",
          "state": {
            "_view_name": "LayoutView",
            "grid_template_rows": null,
            "right": null,
            "justify_content": null,
            "_view_module": "@jupyter-widgets/base",
            "overflow": null,
            "_model_module_version": "1.2.0",
            "_view_count": null,
            "flex_flow": null,
            "width": null,
            "min_width": null,
            "border": null,
            "align_items": null,
            "bottom": null,
            "_model_module": "@jupyter-widgets/base",
            "top": null,
            "grid_column": null,
            "overflow_y": null,
            "overflow_x": null,
            "grid_auto_flow": null,
            "grid_area": null,
            "grid_template_columns": null,
            "flex": null,
            "_model_name": "LayoutModel",
            "justify_items": null,
            "grid_row": null,
            "max_height": null,
            "align_content": null,
            "visibility": null,
            "align_self": null,
            "height": null,
            "min_height": null,
            "padding": null,
            "grid_auto_rows": null,
            "grid_gap": null,
            "max_width": null,
            "order": null,
            "_view_module_version": "1.2.0",
            "grid_template_areas": null,
            "object_position": null,
            "object_fit": null,
            "grid_auto_columns": null,
            "margin": null,
            "display": null,
            "left": null
          }
        },
        "423caf55e85e403ab33efa0bc850725a": {
          "model_module": "@jupyter-widgets/controls",
          "model_name": "ProgressStyleModel",
          "model_module_version": "1.5.0",
          "state": {
            "_view_name": "StyleView",
            "_model_name": "ProgressStyleModel",
            "description_width": "",
            "_view_module": "@jupyter-widgets/base",
            "_model_module_version": "1.5.0",
            "_view_count": null,
            "_view_module_version": "1.2.0",
            "bar_color": null,
            "_model_module": "@jupyter-widgets/controls"
          }
        },
        "7bfa9fb166304ca78e36b61f683dbc60": {
          "model_module": "@jupyter-widgets/base",
          "model_name": "LayoutModel",
          "model_module_version": "1.2.0",
          "state": {
            "_view_name": "LayoutView",
            "grid_template_rows": null,
            "right": null,
            "justify_content": null,
            "_view_module": "@jupyter-widgets/base",
            "overflow": null,
            "_model_module_version": "1.2.0",
            "_view_count": null,
            "flex_flow": null,
            "width": null,
            "min_width": null,
            "border": null,
            "align_items": null,
            "bottom": null,
            "_model_module": "@jupyter-widgets/base",
            "top": null,
            "grid_column": null,
            "overflow_y": null,
            "overflow_x": null,
            "grid_auto_flow": null,
            "grid_area": null,
            "grid_template_columns": null,
            "flex": null,
            "_model_name": "LayoutModel",
            "justify_items": null,
            "grid_row": null,
            "max_height": null,
            "align_content": null,
            "visibility": null,
            "align_self": null,
            "height": null,
            "min_height": null,
            "padding": null,
            "grid_auto_rows": null,
            "grid_gap": null,
            "max_width": null,
            "order": null,
            "_view_module_version": "1.2.0",
            "grid_template_areas": null,
            "object_position": null,
            "object_fit": null,
            "grid_auto_columns": null,
            "margin": null,
            "display": null,
            "left": null
          }
        },
        "adbb94f582514ddfae264e6098729cfc": {
          "model_module": "@jupyter-widgets/controls",
          "model_name": "DescriptionStyleModel",
          "model_module_version": "1.5.0",
          "state": {
            "_view_name": "StyleView",
            "_model_name": "DescriptionStyleModel",
            "description_width": "",
            "_view_module": "@jupyter-widgets/base",
            "_model_module_version": "1.5.0",
            "_view_count": null,
            "_view_module_version": "1.2.0",
            "_model_module": "@jupyter-widgets/controls"
          }
        },
        "4571da306b15498c9d5c1d2a029c9e83": {
          "model_module": "@jupyter-widgets/base",
          "model_name": "LayoutModel",
          "model_module_version": "1.2.0",
          "state": {
            "_view_name": "LayoutView",
            "grid_template_rows": null,
            "right": null,
            "justify_content": null,
            "_view_module": "@jupyter-widgets/base",
            "overflow": null,
            "_model_module_version": "1.2.0",
            "_view_count": null,
            "flex_flow": null,
            "width": null,
            "min_width": null,
            "border": null,
            "align_items": null,
            "bottom": null,
            "_model_module": "@jupyter-widgets/base",
            "top": null,
            "grid_column": null,
            "overflow_y": null,
            "overflow_x": null,
            "grid_auto_flow": null,
            "grid_area": null,
            "grid_template_columns": null,
            "flex": null,
            "_model_name": "LayoutModel",
            "justify_items": null,
            "grid_row": null,
            "max_height": null,
            "align_content": null,
            "visibility": null,
            "align_self": null,
            "height": null,
            "min_height": null,
            "padding": null,
            "grid_auto_rows": null,
            "grid_gap": null,
            "max_width": null,
            "order": null,
            "_view_module_version": "1.2.0",
            "grid_template_areas": null,
            "object_position": null,
            "object_fit": null,
            "grid_auto_columns": null,
            "margin": null,
            "display": null,
            "left": null
          }
        },
        "3cd5f33c511b42289d8995e538a1171f": {
          "model_module": "@jupyter-widgets/controls",
          "model_name": "HBoxModel",
          "model_module_version": "1.5.0",
          "state": {
            "_view_name": "HBoxView",
            "_dom_classes": [],
            "_model_name": "HBoxModel",
            "_view_module": "@jupyter-widgets/controls",
            "_model_module_version": "1.5.0",
            "_view_count": null,
            "_view_module_version": "1.5.0",
            "box_style": "",
            "layout": "IPY_MODEL_a42d1bdaff7a46ccaddef7de196e55b9",
            "_model_module": "@jupyter-widgets/controls",
            "children": [
              "IPY_MODEL_c8a4860347c44db0a0bb60a03a5ade0b",
              "IPY_MODEL_47a536fa7d1647e398a8b262ade7b3f1",
              "IPY_MODEL_ce431523ba5d4fe08e8de4a0021dbfb4"
            ]
          }
        },
        "a42d1bdaff7a46ccaddef7de196e55b9": {
          "model_module": "@jupyter-widgets/base",
          "model_name": "LayoutModel",
          "model_module_version": "1.2.0",
          "state": {
            "_view_name": "LayoutView",
            "grid_template_rows": null,
            "right": null,
            "justify_content": null,
            "_view_module": "@jupyter-widgets/base",
            "overflow": null,
            "_model_module_version": "1.2.0",
            "_view_count": null,
            "flex_flow": null,
            "width": null,
            "min_width": null,
            "border": null,
            "align_items": null,
            "bottom": null,
            "_model_module": "@jupyter-widgets/base",
            "top": null,
            "grid_column": null,
            "overflow_y": null,
            "overflow_x": null,
            "grid_auto_flow": null,
            "grid_area": null,
            "grid_template_columns": null,
            "flex": null,
            "_model_name": "LayoutModel",
            "justify_items": null,
            "grid_row": null,
            "max_height": null,
            "align_content": null,
            "visibility": null,
            "align_self": null,
            "height": null,
            "min_height": null,
            "padding": null,
            "grid_auto_rows": null,
            "grid_gap": null,
            "max_width": null,
            "order": null,
            "_view_module_version": "1.2.0",
            "grid_template_areas": null,
            "object_position": null,
            "object_fit": null,
            "grid_auto_columns": null,
            "margin": null,
            "display": null,
            "left": null
          }
        },
        "c8a4860347c44db0a0bb60a03a5ade0b": {
          "model_module": "@jupyter-widgets/controls",
          "model_name": "HTMLModel",
          "model_module_version": "1.5.0",
          "state": {
            "_view_name": "HTMLView",
            "style": "IPY_MODEL_1cf6f3a462ea47a2b1c77008e0b39b20",
            "_dom_classes": [],
            "description": "",
            "_model_name": "HTMLModel",
            "placeholder": "​",
            "_view_module": "@jupyter-widgets/controls",
            "_model_module_version": "1.5.0",
            "value": "  2%",
            "_view_count": null,
            "_view_module_version": "1.5.0",
            "description_tooltip": null,
            "_model_module": "@jupyter-widgets/controls",
            "layout": "IPY_MODEL_6d7e94165b33476f9d8c8720cfc49c17"
          }
        },
        "47a536fa7d1647e398a8b262ade7b3f1": {
          "model_module": "@jupyter-widgets/controls",
          "model_name": "FloatProgressModel",
          "model_module_version": "1.5.0",
          "state": {
            "_view_name": "ProgressView",
            "style": "IPY_MODEL_ae7a3c9b977049d6952e8d502de07fa0",
            "_dom_classes": [],
            "description": "",
            "_model_name": "FloatProgressModel",
            "bar_style": "danger",
            "max": 1000,
            "_view_module": "@jupyter-widgets/controls",
            "_model_module_version": "1.5.0",
            "value": 24,
            "_view_count": null,
            "_view_module_version": "1.5.0",
            "orientation": "horizontal",
            "min": 0,
            "description_tooltip": null,
            "_model_module": "@jupyter-widgets/controls",
            "layout": "IPY_MODEL_1b33c7cc07564ebb908a0c54d336e19f"
          }
        },
        "ce431523ba5d4fe08e8de4a0021dbfb4": {
          "model_module": "@jupyter-widgets/controls",
          "model_name": "HTMLModel",
          "model_module_version": "1.5.0",
          "state": {
            "_view_name": "HTMLView",
            "style": "IPY_MODEL_e418480c79bd49238200bff4827f29c0",
            "_dom_classes": [],
            "description": "",
            "_model_name": "HTMLModel",
            "placeholder": "​",
            "_view_module": "@jupyter-widgets/controls",
            "_model_module_version": "1.5.0",
            "value": " 24/1000 [06:26&lt;4:12:01, 15.49s/it]",
            "_view_count": null,
            "_view_module_version": "1.5.0",
            "description_tooltip": null,
            "_model_module": "@jupyter-widgets/controls",
            "layout": "IPY_MODEL_16594faa32ef4d618653acacf64ca28f"
          }
        },
        "1cf6f3a462ea47a2b1c77008e0b39b20": {
          "model_module": "@jupyter-widgets/controls",
          "model_name": "DescriptionStyleModel",
          "model_module_version": "1.5.0",
          "state": {
            "_view_name": "StyleView",
            "_model_name": "DescriptionStyleModel",
            "description_width": "",
            "_view_module": "@jupyter-widgets/base",
            "_model_module_version": "1.5.0",
            "_view_count": null,
            "_view_module_version": "1.2.0",
            "_model_module": "@jupyter-widgets/controls"
          }
        },
        "6d7e94165b33476f9d8c8720cfc49c17": {
          "model_module": "@jupyter-widgets/base",
          "model_name": "LayoutModel",
          "model_module_version": "1.2.0",
          "state": {
            "_view_name": "LayoutView",
            "grid_template_rows": null,
            "right": null,
            "justify_content": null,
            "_view_module": "@jupyter-widgets/base",
            "overflow": null,
            "_model_module_version": "1.2.0",
            "_view_count": null,
            "flex_flow": null,
            "width": null,
            "min_width": null,
            "border": null,
            "align_items": null,
            "bottom": null,
            "_model_module": "@jupyter-widgets/base",
            "top": null,
            "grid_column": null,
            "overflow_y": null,
            "overflow_x": null,
            "grid_auto_flow": null,
            "grid_area": null,
            "grid_template_columns": null,
            "flex": null,
            "_model_name": "LayoutModel",
            "justify_items": null,
            "grid_row": null,
            "max_height": null,
            "align_content": null,
            "visibility": null,
            "align_self": null,
            "height": null,
            "min_height": null,
            "padding": null,
            "grid_auto_rows": null,
            "grid_gap": null,
            "max_width": null,
            "order": null,
            "_view_module_version": "1.2.0",
            "grid_template_areas": null,
            "object_position": null,
            "object_fit": null,
            "grid_auto_columns": null,
            "margin": null,
            "display": null,
            "left": null
          }
        },
        "ae7a3c9b977049d6952e8d502de07fa0": {
          "model_module": "@jupyter-widgets/controls",
          "model_name": "ProgressStyleModel",
          "model_module_version": "1.5.0",
          "state": {
            "_view_name": "StyleView",
            "_model_name": "ProgressStyleModel",
            "description_width": "",
            "_view_module": "@jupyter-widgets/base",
            "_model_module_version": "1.5.0",
            "_view_count": null,
            "_view_module_version": "1.2.0",
            "bar_color": null,
            "_model_module": "@jupyter-widgets/controls"
          }
        },
        "1b33c7cc07564ebb908a0c54d336e19f": {
          "model_module": "@jupyter-widgets/base",
          "model_name": "LayoutModel",
          "model_module_version": "1.2.0",
          "state": {
            "_view_name": "LayoutView",
            "grid_template_rows": null,
            "right": null,
            "justify_content": null,
            "_view_module": "@jupyter-widgets/base",
            "overflow": null,
            "_model_module_version": "1.2.0",
            "_view_count": null,
            "flex_flow": null,
            "width": null,
            "min_width": null,
            "border": null,
            "align_items": null,
            "bottom": null,
            "_model_module": "@jupyter-widgets/base",
            "top": null,
            "grid_column": null,
            "overflow_y": null,
            "overflow_x": null,
            "grid_auto_flow": null,
            "grid_area": null,
            "grid_template_columns": null,
            "flex": null,
            "_model_name": "LayoutModel",
            "justify_items": null,
            "grid_row": null,
            "max_height": null,
            "align_content": null,
            "visibility": null,
            "align_self": null,
            "height": null,
            "min_height": null,
            "padding": null,
            "grid_auto_rows": null,
            "grid_gap": null,
            "max_width": null,
            "order": null,
            "_view_module_version": "1.2.0",
            "grid_template_areas": null,
            "object_position": null,
            "object_fit": null,
            "grid_auto_columns": null,
            "margin": null,
            "display": null,
            "left": null
          }
        },
        "e418480c79bd49238200bff4827f29c0": {
          "model_module": "@jupyter-widgets/controls",
          "model_name": "DescriptionStyleModel",
          "model_module_version": "1.5.0",
          "state": {
            "_view_name": "StyleView",
            "_model_name": "DescriptionStyleModel",
            "description_width": "",
            "_view_module": "@jupyter-widgets/base",
            "_model_module_version": "1.5.0",
            "_view_count": null,
            "_view_module_version": "1.2.0",
            "_model_module": "@jupyter-widgets/controls"
          }
        },
        "16594faa32ef4d618653acacf64ca28f": {
          "model_module": "@jupyter-widgets/base",
          "model_name": "LayoutModel",
          "model_module_version": "1.2.0",
          "state": {
            "_view_name": "LayoutView",
            "grid_template_rows": null,
            "right": null,
            "justify_content": null,
            "_view_module": "@jupyter-widgets/base",
            "overflow": null,
            "_model_module_version": "1.2.0",
            "_view_count": null,
            "flex_flow": null,
            "width": null,
            "min_width": null,
            "border": null,
            "align_items": null,
            "bottom": null,
            "_model_module": "@jupyter-widgets/base",
            "top": null,
            "grid_column": null,
            "overflow_y": null,
            "overflow_x": null,
            "grid_auto_flow": null,
            "grid_area": null,
            "grid_template_columns": null,
            "flex": null,
            "_model_name": "LayoutModel",
            "justify_items": null,
            "grid_row": null,
            "max_height": null,
            "align_content": null,
            "visibility": null,
            "align_self": null,
            "height": null,
            "min_height": null,
            "padding": null,
            "grid_auto_rows": null,
            "grid_gap": null,
            "max_width": null,
            "order": null,
            "_view_module_version": "1.2.0",
            "grid_template_areas": null,
            "object_position": null,
            "object_fit": null,
            "grid_auto_columns": null,
            "margin": null,
            "display": null,
            "left": null
          }
        },
        "ea762de470054f4c813c9963c0176484": {
          "model_module": "@jupyter-widgets/controls",
          "model_name": "HBoxModel",
          "model_module_version": "1.5.0",
          "state": {
            "_view_name": "HBoxView",
            "_dom_classes": [],
            "_model_name": "HBoxModel",
            "_view_module": "@jupyter-widgets/controls",
            "_model_module_version": "1.5.0",
            "_view_count": null,
            "_view_module_version": "1.5.0",
            "box_style": "",
            "layout": "IPY_MODEL_90c9beeaf72a4dabb6b9813631a864fd",
            "_model_module": "@jupyter-widgets/controls",
            "children": [
              "IPY_MODEL_5724b964ca5f4f2a9901f0d9ff57ada5",
              "IPY_MODEL_7ffe7f023bcd4a8996d58d6db9fad8ed",
              "IPY_MODEL_70f33ce20c8d4f2fbf07698caf2a21ab"
            ]
          }
        },
        "90c9beeaf72a4dabb6b9813631a864fd": {
          "model_module": "@jupyter-widgets/base",
          "model_name": "LayoutModel",
          "model_module_version": "1.2.0",
          "state": {
            "_view_name": "LayoutView",
            "grid_template_rows": null,
            "right": null,
            "justify_content": null,
            "_view_module": "@jupyter-widgets/base",
            "overflow": null,
            "_model_module_version": "1.2.0",
            "_view_count": null,
            "flex_flow": null,
            "width": null,
            "min_width": null,
            "border": null,
            "align_items": null,
            "bottom": null,
            "_model_module": "@jupyter-widgets/base",
            "top": null,
            "grid_column": null,
            "overflow_y": null,
            "overflow_x": null,
            "grid_auto_flow": null,
            "grid_area": null,
            "grid_template_columns": null,
            "flex": null,
            "_model_name": "LayoutModel",
            "justify_items": null,
            "grid_row": null,
            "max_height": null,
            "align_content": null,
            "visibility": null,
            "align_self": null,
            "height": null,
            "min_height": null,
            "padding": null,
            "grid_auto_rows": null,
            "grid_gap": null,
            "max_width": null,
            "order": null,
            "_view_module_version": "1.2.0",
            "grid_template_areas": null,
            "object_position": null,
            "object_fit": null,
            "grid_auto_columns": null,
            "margin": null,
            "display": null,
            "left": null
          }
        },
        "5724b964ca5f4f2a9901f0d9ff57ada5": {
          "model_module": "@jupyter-widgets/controls",
          "model_name": "HTMLModel",
          "model_module_version": "1.5.0",
          "state": {
            "_view_name": "HTMLView",
            "style": "IPY_MODEL_a0e89e2f3d084f359a607f39f06057d1",
            "_dom_classes": [],
            "description": "",
            "_model_name": "HTMLModel",
            "placeholder": "​",
            "_view_module": "@jupyter-widgets/controls",
            "_model_module_version": "1.5.0",
            "value": "100%",
            "_view_count": null,
            "_view_module_version": "1.5.0",
            "description_tooltip": null,
            "_model_module": "@jupyter-widgets/controls",
            "layout": "IPY_MODEL_fdfeb79b34254796bea007b0e8f27701"
          }
        },
        "7ffe7f023bcd4a8996d58d6db9fad8ed": {
          "model_module": "@jupyter-widgets/controls",
          "model_name": "FloatProgressModel",
          "model_module_version": "1.5.0",
          "state": {
            "_view_name": "ProgressView",
            "style": "IPY_MODEL_c2fbf9eceacf46d0989cae03fb289fe0",
            "_dom_classes": [],
            "description": "",
            "_model_name": "FloatProgressModel",
            "bar_style": "success",
            "max": 274751,
            "_view_module": "@jupyter-widgets/controls",
            "_model_module_version": "1.5.0",
            "value": 274751,
            "_view_count": null,
            "_view_module_version": "1.5.0",
            "orientation": "horizontal",
            "min": 0,
            "description_tooltip": null,
            "_model_module": "@jupyter-widgets/controls",
            "layout": "IPY_MODEL_a8bbb089ec534a26b2b07ef6b22e15a7"
          }
        },
        "70f33ce20c8d4f2fbf07698caf2a21ab": {
          "model_module": "@jupyter-widgets/controls",
          "model_name": "HTMLModel",
          "model_module_version": "1.5.0",
          "state": {
            "_view_name": "HTMLView",
            "style": "IPY_MODEL_e05ad8fe10494c2e838ac56761417bd3",
            "_dom_classes": [],
            "description": "",
            "_model_name": "HTMLModel",
            "placeholder": "​",
            "_view_module": "@jupyter-widgets/controls",
            "_model_module_version": "1.5.0",
            "value": " 274751/274751 [00:53&lt;00:00, 5195.38it/s]",
            "_view_count": null,
            "_view_module_version": "1.5.0",
            "description_tooltip": null,
            "_model_module": "@jupyter-widgets/controls",
            "layout": "IPY_MODEL_afa5dfea4570479796b1499f3c2b064c"
          }
        },
        "a0e89e2f3d084f359a607f39f06057d1": {
          "model_module": "@jupyter-widgets/controls",
          "model_name": "DescriptionStyleModel",
          "model_module_version": "1.5.0",
          "state": {
            "_view_name": "StyleView",
            "_model_name": "DescriptionStyleModel",
            "description_width": "",
            "_view_module": "@jupyter-widgets/base",
            "_model_module_version": "1.5.0",
            "_view_count": null,
            "_view_module_version": "1.2.0",
            "_model_module": "@jupyter-widgets/controls"
          }
        },
        "fdfeb79b34254796bea007b0e8f27701": {
          "model_module": "@jupyter-widgets/base",
          "model_name": "LayoutModel",
          "model_module_version": "1.2.0",
          "state": {
            "_view_name": "LayoutView",
            "grid_template_rows": null,
            "right": null,
            "justify_content": null,
            "_view_module": "@jupyter-widgets/base",
            "overflow": null,
            "_model_module_version": "1.2.0",
            "_view_count": null,
            "flex_flow": null,
            "width": null,
            "min_width": null,
            "border": null,
            "align_items": null,
            "bottom": null,
            "_model_module": "@jupyter-widgets/base",
            "top": null,
            "grid_column": null,
            "overflow_y": null,
            "overflow_x": null,
            "grid_auto_flow": null,
            "grid_area": null,
            "grid_template_columns": null,
            "flex": null,
            "_model_name": "LayoutModel",
            "justify_items": null,
            "grid_row": null,
            "max_height": null,
            "align_content": null,
            "visibility": null,
            "align_self": null,
            "height": null,
            "min_height": null,
            "padding": null,
            "grid_auto_rows": null,
            "grid_gap": null,
            "max_width": null,
            "order": null,
            "_view_module_version": "1.2.0",
            "grid_template_areas": null,
            "object_position": null,
            "object_fit": null,
            "grid_auto_columns": null,
            "margin": null,
            "display": null,
            "left": null
          }
        },
        "c2fbf9eceacf46d0989cae03fb289fe0": {
          "model_module": "@jupyter-widgets/controls",
          "model_name": "ProgressStyleModel",
          "model_module_version": "1.5.0",
          "state": {
            "_view_name": "StyleView",
            "_model_name": "ProgressStyleModel",
            "description_width": "",
            "_view_module": "@jupyter-widgets/base",
            "_model_module_version": "1.5.0",
            "_view_count": null,
            "_view_module_version": "1.2.0",
            "bar_color": null,
            "_model_module": "@jupyter-widgets/controls"
          }
        },
        "a8bbb089ec534a26b2b07ef6b22e15a7": {
          "model_module": "@jupyter-widgets/base",
          "model_name": "LayoutModel",
          "model_module_version": "1.2.0",
          "state": {
            "_view_name": "LayoutView",
            "grid_template_rows": null,
            "right": null,
            "justify_content": null,
            "_view_module": "@jupyter-widgets/base",
            "overflow": null,
            "_model_module_version": "1.2.0",
            "_view_count": null,
            "flex_flow": null,
            "width": null,
            "min_width": null,
            "border": null,
            "align_items": null,
            "bottom": null,
            "_model_module": "@jupyter-widgets/base",
            "top": null,
            "grid_column": null,
            "overflow_y": null,
            "overflow_x": null,
            "grid_auto_flow": null,
            "grid_area": null,
            "grid_template_columns": null,
            "flex": null,
            "_model_name": "LayoutModel",
            "justify_items": null,
            "grid_row": null,
            "max_height": null,
            "align_content": null,
            "visibility": null,
            "align_self": null,
            "height": null,
            "min_height": null,
            "padding": null,
            "grid_auto_rows": null,
            "grid_gap": null,
            "max_width": null,
            "order": null,
            "_view_module_version": "1.2.0",
            "grid_template_areas": null,
            "object_position": null,
            "object_fit": null,
            "grid_auto_columns": null,
            "margin": null,
            "display": null,
            "left": null
          }
        },
        "e05ad8fe10494c2e838ac56761417bd3": {
          "model_module": "@jupyter-widgets/controls",
          "model_name": "DescriptionStyleModel",
          "model_module_version": "1.5.0",
          "state": {
            "_view_name": "StyleView",
            "_model_name": "DescriptionStyleModel",
            "description_width": "",
            "_view_module": "@jupyter-widgets/base",
            "_model_module_version": "1.5.0",
            "_view_count": null,
            "_view_module_version": "1.2.0",
            "_model_module": "@jupyter-widgets/controls"
          }
        },
        "afa5dfea4570479796b1499f3c2b064c": {
          "model_module": "@jupyter-widgets/base",
          "model_name": "LayoutModel",
          "model_module_version": "1.2.0",
          "state": {
            "_view_name": "LayoutView",
            "grid_template_rows": null,
            "right": null,
            "justify_content": null,
            "_view_module": "@jupyter-widgets/base",
            "overflow": null,
            "_model_module_version": "1.2.0",
            "_view_count": null,
            "flex_flow": null,
            "width": null,
            "min_width": null,
            "border": null,
            "align_items": null,
            "bottom": null,
            "_model_module": "@jupyter-widgets/base",
            "top": null,
            "grid_column": null,
            "overflow_y": null,
            "overflow_x": null,
            "grid_auto_flow": null,
            "grid_area": null,
            "grid_template_columns": null,
            "flex": null,
            "_model_name": "LayoutModel",
            "justify_items": null,
            "grid_row": null,
            "max_height": null,
            "align_content": null,
            "visibility": null,
            "align_self": null,
            "height": null,
            "min_height": null,
            "padding": null,
            "grid_auto_rows": null,
            "grid_gap": null,
            "max_width": null,
            "order": null,
            "_view_module_version": "1.2.0",
            "grid_template_areas": null,
            "object_position": null,
            "object_fit": null,
            "grid_auto_columns": null,
            "margin": null,
            "display": null,
            "left": null
          }
        }
      }
    }
  },
  "cells": [
    {
      "cell_type": "markdown",
      "metadata": {
        "id": "view-in-github",
        "colab_type": "text"
      },
      "source": [
        "<a href=\"https://colab.research.google.com/github/blackpearl-09/TIL/blob/main/HAICon2021_practice_0903.ipynb\" target=\"_parent\"><img src=\"https://colab.research.google.com/assets/colab-badge.svg\" alt=\"Open In Colab\"/></a>"
      ]
    },
    {
      "cell_type": "code",
      "metadata": {
        "id": "UwdSjPkS9Fct"
      },
      "source": [
        "# WINDOW_GIVEN = 49\n",
        "# WINDOW_SIZE = 50\n",
        "# =========\n",
        "\n",
        "# 모델성능\n",
        "# N_HIDDENS = 128 # perceptron수\n",
        "# N_LAYERS = 3 # 레이어 층수 \n",
        "# BATCH_SIZE = 512 # computing 속도.\n",
        "\n",
        "# n_epochs=11\n",
        "\n",
        "# early stop\n",
        "# learningrate 조절\n",
        "# ====\n",
        "\n",
        "# 평가성능\n",
        "# THRESHOLD = 0.0183\n",
        " \n"
      ],
      "execution_count": 1,
      "outputs": []
    },
    {
      "cell_type": "code",
      "metadata": {
        "id": "yg5ngaXW9145",
        "colab": {
          "base_uri": "https://localhost:8080/"
        },
        "outputId": "c08a4917-dced-47a0-cfb2-3a8775d42bac"
      },
      "source": [
        "from google.colab import drive\n",
        "drive.mount('/content/gdrive/')"
      ],
      "execution_count": 2,
      "outputs": [
        {
          "output_type": "stream",
          "name": "stdout",
          "text": [
            "Mounted at /content/gdrive/\n"
          ]
        }
      ]
    },
    {
      "cell_type": "code",
      "metadata": {
        "colab": {
          "base_uri": "https://localhost:8080/"
        },
        "id": "-jmxWNAf6GJ2",
        "outputId": "62a09029-f0d4-42f5-e197-ce8a8eeaefc7"
      },
      "source": [
        "# 최종 Evaluate Package 설치\n",
        "!pip install ./gdrive/MyDrive/멋사_study/HAICon2021/HAICon2021_dataset/eTaPR-21.8.2-py3-none-any.whl"
      ],
      "execution_count": 3,
      "outputs": [
        {
          "output_type": "stream",
          "name": "stdout",
          "text": [
            "Processing ./gdrive/MyDrive/멋사_study/HAICon2021/HAICon2021_dataset/eTaPR-21.8.2-py3-none-any.whl\n",
            "Installing collected packages: eTaPR\n",
            "Successfully installed eTaPR-21.8.2\n"
          ]
        }
      ]
    },
    {
      "cell_type": "code",
      "metadata": {
        "id": "gG6RoGBu83mu"
      },
      "source": [
        "import numpy as np\n",
        "import matplotlib.pyplot as plt\n",
        "import pandas as pd\n",
        "import datetime\n",
        "import time\n",
        "import torch\n",
        "from torch.utils.data import Dataset, DataLoader\n",
        "\n",
        "\n",
        "\n",
        "from keras.models import Model, Sequential, load_model\n",
        "import keras\n",
        "from keras import optimizers\n",
        "from keras.layers import Input,Bidirectional ,LSTM, Dense, Activation\n",
        "from tensorflow.keras.callbacks import EarlyStopping, ModelCheckpoint\n",
        "from sklearn.metrics import mean_squared_error\n",
        "import tensorflow as tf\n",
        "from keras.callbacks import EarlyStopping, ModelCheckpoint\n",
        "\n",
        "from pathlib import Path\n",
        "from datetime import timedelta\n",
        "import dateutil\n",
        "from tqdm.notebook import trange\n",
        "from TaPR_pkg import etapr"
      ],
      "execution_count": 4,
      "outputs": []
    },
    {
      "cell_type": "code",
      "metadata": {
        "id": "MsuAnhlWBmf4"
      },
      "source": [
        "# !pip freeze > ./gdrive/MyDrive/멋사_study/HAICon2021/requirements.txt"
      ],
      "execution_count": 5,
      "outputs": []
    },
    {
      "cell_type": "code",
      "metadata": {
        "id": "F4jdPVLvTGr4"
      },
      "source": [
        "# Data Path Load\n",
        "path_train = sorted([x for x in Path(\"./gdrive/MyDrive/멋사_study/HAICon2021/HAICon2021_dataset/train\").glob(\"*.csv\")]) \n",
        "path_test = sorted([x for x in Path(\"./gdrive/MyDrive/멋사_study/HAICon2021/HAICon2021_dataset/test\").glob(\"*.csv\")]) \n",
        "path_validation = sorted([x for x in Path(\"./gdrive/MyDrive/멋사_study/HAICon2021/HAICon2021_dataset/validation\").glob(\"*.csv\")]) "
      ],
      "execution_count": 6,
      "outputs": []
    },
    {
      "cell_type": "code",
      "metadata": {
        "id": "Li86oLGLVwZN"
      },
      "source": [
        "def csv_to_df(target):\n",
        "    return pd.read_csv(target)\n",
        "\n",
        "def df_data_load(targets):\n",
        "    return pd.concat([csv_to_df(x) for x in targets])\n",
        "\n",
        "# Min-Max Regularization\n",
        "def normalize(raw):\n",
        "    ndf = raw.copy()\n",
        "    for c in raw.columns:\n",
        "        #min-max가 0인경우에는 무의미한 col으로 생각하고, 0으로 채워줌\n",
        "        if raw_train[useful_cols].min()[c] == raw_train[useful_cols].max()[c]:\n",
        "            ndf[c] = raw[c] - raw_train[useful_cols].min()[c]\n",
        "        else:\n",
        "            ndf[c] = (raw[c] - raw_train[useful_cols].min()[c]) / (raw_train[useful_cols].max()[c] - raw_train[useful_cols].min()[c])\n",
        "    return ndf"
      ],
      "execution_count": 7,
      "outputs": []
    },
    {
      "cell_type": "code",
      "metadata": {
        "id": "qmnhqoEFUBq_",
        "colab": {
          "base_uri": "https://localhost:8080/"
        },
        "outputId": "eb772d32-7332-42e1-a3ad-27b6a1667eb8"
      },
      "source": [
        "raw_train = df_data_load(path_train) # timestamp,C01~C86\n",
        "raw_validation = df_data_load(path_validation) # timestamp,C01~C86, attack\n",
        "raw_test = df_data_load(path_test) # timestamp,C01~C86\n",
        "\n",
        "# time stamp는 attack event와 관련이 없는 관계로 삭제한다.\n",
        "# time stamp는 normalize 시에 에러 발생\n",
        "\n",
        "useful_cols = raw_train.columns.drop('timestamp')\n",
        "useful_cols"
      ],
      "execution_count": 8,
      "outputs": [
        {
          "output_type": "execute_result",
          "data": {
            "text/plain": [
              "Index(['C01', 'C02', 'C03', 'C04', 'C05', 'C06', 'C07', 'C08', 'C09', 'C10',\n",
              "       'C11', 'C12', 'C13', 'C14', 'C15', 'C16', 'C17', 'C18', 'C19', 'C20',\n",
              "       'C21', 'C22', 'C23', 'C24', 'C25', 'C26', 'C27', 'C28', 'C29', 'C30',\n",
              "       'C31', 'C32', 'C33', 'C34', 'C35', 'C36', 'C37', 'C38', 'C39', 'C40',\n",
              "       'C41', 'C42', 'C43', 'C44', 'C45', 'C46', 'C47', 'C48', 'C49', 'C50',\n",
              "       'C51', 'C52', 'C53', 'C54', 'C55', 'C56', 'C57', 'C58', 'C59', 'C60',\n",
              "       'C61', 'C62', 'C63', 'C64', 'C65', 'C66', 'C67', 'C68', 'C69', 'C70',\n",
              "       'C71', 'C72', 'C73', 'C74', 'C75', 'C76', 'C77', 'C78', 'C79', 'C80',\n",
              "       'C81', 'C82', 'C83', 'C84', 'C85', 'C86'],\n",
              "      dtype='object')"
            ]
          },
          "metadata": {},
          "execution_count": 8
        }
      ]
    },
    {
      "cell_type": "code",
      "metadata": {
        "id": "_g6o255uqOPN"
      },
      "source": [
        ""
      ],
      "execution_count": 8,
      "outputs": []
    },
    {
      "cell_type": "markdown",
      "metadata": {
        "id": "hPySoON82ALf"
      },
      "source": [
        "z-score vs min-max algorithm <br>\n",
        "outlier검출 (z-score) <br>\n",
        "모든 데이터의 중요도를 동일하게(min-max)"
      ]
    },
    {
      "cell_type": "code",
      "metadata": {
        "id": "697PmM_0a_8M"
      },
      "source": [
        "# Exponential Weighted Function 통과\n",
        "# 센서에서 발생하는 noise를 **smoothing** 시켜주기 위해 적용\n",
        "df_train= normalize(raw_train[useful_cols]).ewm(alpha=0.9).mean()"
      ],
      "execution_count": 9,
      "outputs": []
    },
    {
      "cell_type": "code",
      "metadata": {
        "id": "4ggbVpf-xxgi"
      },
      "source": [
        "df_validation = normalize(raw_validation[useful_cols])"
      ],
      "execution_count": 10,
      "outputs": []
    },
    {
      "cell_type": "code",
      "metadata": {
        "id": "ZYAs45QJxqZ2"
      },
      "source": [
        "df_test= normalize(raw_test[useful_cols]).ewm(alpha=0.9).mean()"
      ],
      "execution_count": 11,
      "outputs": []
    },
    {
      "cell_type": "code",
      "metadata": {
        "id": "kdJQuohnwejV"
      },
      "source": [
        "# df_train.to_pickle(\"/content/gdrive/MyDrive/멋사_study/HAICon2021/df_train.pickle\")\n",
        "# df_validation.to_pickle(\"/content/gdrive/MyDrive/멋사_study/HAICon2021/df_validation.pickle\")\n",
        "# df_test.to_pickle(\"/content/gdrive/MyDrive/멋사_study/HAICon2021/df_test.pickle\")"
      ],
      "execution_count": 12,
      "outputs": []
    },
    {
      "cell_type": "markdown",
      "metadata": {
        "id": "AeEGP9UAy61h"
      },
      "source": [
        "# normalize 완료된 df 불러오기"
      ]
    },
    {
      "cell_type": "code",
      "metadata": {
        "id": "y1K-zdlFyB-E"
      },
      "source": [
        "# normalize 완료된 df 불러오기\n",
        "df_train = pd.read_pickle(\"/content/gdrive/MyDrive/멋사_study/HAICon2021/df_train.pickle\")\n",
        "df_validation = pd.read_pickle(\"/content/gdrive/MyDrive/멋사_study/HAICon2021/df_validation.pickle\")\n",
        "df_test = pd.read_pickle(\"/content/gdrive/MyDrive/멋사_study/HAICon2021/df_test.pickle\")\n"
      ],
      "execution_count": 13,
      "outputs": []
    },
    {
      "cell_type": "code",
      "metadata": {
        "id": "4NlesCazhqcY"
      },
      "source": [
        "# min_max reg를 진행하고, boundary인 [0,1] 이외의 값이 존재하는지 체크하는 함수\n",
        "# Reguralizaion 제대로 됐는지 체크\n",
        "def boundary_check(df):\n",
        "    x = np.array(df, dtype=np.float32)\n",
        "    return np.any(x > 1.0), np.any(x < 0), np.any(np.isnan(x))"
      ],
      "execution_count": 14,
      "outputs": []
    },
    {
      "cell_type": "code",
      "metadata": {
        "colab": {
          "base_uri": "https://localhost:8080/"
        },
        "id": "te6LRhEdDXnD",
        "outputId": "4bc40c85-8f8a-4bcb-aa9f-9aca764f9d1f"
      },
      "source": [
        "boundary_check(df_train)"
      ],
      "execution_count": 15,
      "outputs": [
        {
          "output_type": "execute_result",
          "data": {
            "text/plain": [
              "(False, False, False)"
            ]
          },
          "metadata": {},
          "execution_count": 15
        }
      ]
    },
    {
      "cell_type": "code",
      "metadata": {
        "colab": {
          "base_uri": "https://localhost:8080/"
        },
        "id": "UPHkCa5F74Ia",
        "outputId": "cef4396f-59f5-4776-89c5-2704e2e67b8d"
      },
      "source": [
        "boundary_check(df_validation)"
      ],
      "execution_count": 16,
      "outputs": [
        {
          "output_type": "execute_result",
          "data": {
            "text/plain": [
              "(True, True, False)"
            ]
          },
          "metadata": {},
          "execution_count": 16
        }
      ]
    },
    {
      "cell_type": "code",
      "metadata": {
        "colab": {
          "base_uri": "https://localhost:8080/"
        },
        "id": "3iOKbLc178TX",
        "outputId": "2db60d4f-0224-4a22-d90c-cf9eab6e2117"
      },
      "source": [
        "boundary_check(df_test)"
      ],
      "execution_count": 17,
      "outputs": [
        {
          "output_type": "execute_result",
          "data": {
            "text/plain": [
              "(True, True, False)"
            ]
          },
          "metadata": {},
          "execution_count": 17
        }
      ]
    },
    {
      "cell_type": "markdown",
      "metadata": {
        "id": "20PvUOeKAfK8"
      },
      "source": [
        "# HaiDataset 저장/불러오기"
      ]
    },
    {
      "cell_type": "code",
      "metadata": {
        "id": "nb77wFR3EAUR"
      },
      "source": [
        "# Model의 출력값과 실제 값의 차이가 클 때 이상상황으로 정의\n",
        "# Stacked RNN(GRU cells)\n",
        "# Unsupervised Learning\n",
        "# shingle size = 90\n",
        "\n",
        "WINDOW_GIVEN = 49\n",
        "WINDOW_SIZE = 50\n",
        "\n",
        "\n",
        "\n",
        "class HaiDataset(Dataset): # pytorch의 Dataset class 활용\n",
        "    def __init__(self, timestamps, df, stride=1, attacks=None):\n",
        "        self.ts = np.array(timestamps)\n",
        "        self.tag_values = np.array(df, dtype=np.float32) # dataset을 array로 바꾼거.\n",
        "        self.valid_idxs = []\n",
        "        for L in trange(len(self.ts) - WINDOW_SIZE + 1): # L 1번째,  100번째 ts 9461번째\n",
        "            R = L + WINDOW_SIZE - 1 # R 60번째, 159번째. 10000번째.\n",
        "            if dateutil.parser.parse(self.ts[R]) - dateutil.parser.parse( # 60번째-1번째 = 59 . 이게 윈도우사이즈 크기와 동일한지 점검하는 조건\n",
        "                self.ts[L]\n",
        "            ) == timedelta(seconds=WINDOW_SIZE - 1):\n",
        "                self.valid_idxs.append(L) # valid idx에 L시점의 ts를 쭉 저장. 1~9461 저장(리스트형태로)\n",
        "        self.valid_idxs = np.array(self.valid_idxs, dtype=np.int32)[::stride] # valid idx array 형태로 바꿔주기\n",
        "        self.n_idxs = len(self.valid_idxs) # n_idxs 는 갯수.\n",
        "        print(f\"# of valid windows: {self.n_idxs}\")\n",
        "        if attacks is not None:\n",
        "            self.attacks = np.array(attacks, dtype=np.float32) # attack이 있으면 self.attacks함수에 Attack 표시나게하고\n",
        "            self.with_attack = True # with_attack함수로 boolean 검증\n",
        "        else:\n",
        "            self.with_attack = False\n",
        "\n",
        "    def __len__(self):\n",
        "        return self.n_idxs # n_idxs WIndow에서 왼쪽 bounday가 될 수 있는 ts 갯수.\n",
        "\n",
        "    def __getitem__(self, idx): ## slicing을 구현하기 위한 메소드\n",
        "        i = self.valid_idxs[idx] # Left boundary\n",
        "        last = i + WINDOW_SIZE - 1 # Right boundary\n",
        "        item = {\"attack\": self.attacks[last]} if self.with_attack else {} # with_attack이 true면 item에 attack 표기 (right boundary기준)\n",
        "        item[\"ts\"] = self.ts[i + WINDOW_SIZE - 1]\n",
        "        item[\"given\"] = torch.from_numpy(self.tag_values[i : i + WINDOW_GIVEN]) # left boundary부터, right bounday까지, 80개의 window boundary안에있는 모든 데이터 값.\n",
        "        item[\"answer\"] = torch.from_numpy(self.tag_values[last]) # given의 마지막 row 는 그 이전 스텝의 answer의 값과 동일하다.\n",
        "        return item"
      ],
      "execution_count": 18,
      "outputs": []
    },
    {
      "cell_type": "code",
      "metadata": {
        "id": "sOBeCtaXGOwf",
        "colab": {
          "base_uri": "https://localhost:8080/",
          "height": 164,
          "referenced_widgets": [
            "c5fa5ee213844806a886e33e84ac6100",
            "0bddafb7f7b1457281aa1e21156f7c5c",
            "658a4ac31bc74432a26041f5029ded4c",
            "dc2d2163df394b3d8e697f5e51928a66",
            "91004164875d4bfc8a7450e14f50ef38",
            "1b191a7691ef464bb4e69dfebbe59f80",
            "cf266edf2ef24f80880b7f0cc1721d4e",
            "07d28aef61f644e9932d97eb7d09314e",
            "edeb62e770e8462b917936efd73d7683",
            "2915a3727fc44a1cb6f0ced77a903ebb",
            "03afb983879c4c8d8d27effcebab470b",
            "629dbd8f125e4f0c87d534abdcb24184",
            "01a8374ffb0a41d08f1a9ac15a7d41a4",
            "eaecf27676164b1c987f5ace350ac7dd",
            "534585ed198b44b29ec4a0c8bc4d71fb",
            "bccce38c29374ca0ac4a9dacc4591dfe",
            "adf0e2d8749f4156a6331b25319eeef8",
            "98d61f4ee9f54ac7b6f6ff37472df31c",
            "5722e70fcb8947fe9ce389b745cad1a0",
            "940e6291527c48db995e84fda32b65e5",
            "6b9e3352684348bd8cb3b5b12a7ba155",
            "943900e154704c6eb9c03a1a4e902061",
            "55884e99f2854f2c94959cc06b3b3106",
            "1c37192923f644a6ac936b44b49c25d6",
            "e41dd489315d468d81fca5a14c413469",
            "623e0bbdb6e14a088e252437a56010ce",
            "c428a9cae06c4dec84e426eef1ad1d1b",
            "df9b8f6511424afbb6e47923f05c8318",
            "cfcd9963f49342cc893f93a4fdc2a4f3",
            "1664d96eda6e409aa81775d47f5a36b0",
            "565f96a85ed44bc7b9841509ea639f90",
            "9af9d88fd2b04beb85abe6207e9516e7",
            "9a56789c544f450da5ea6911dd6d26c5"
          ]
        },
        "outputId": "086c8a0c-ab53-49d1-8ecb-84988326451c"
      },
      "source": [
        "train_data = HaiDataset(raw_train['timestamp'],df_train, stride=1)\n",
        "validation_data = HaiDataset(raw_validation['timestamp'],df_validation, stride=1)\n",
        "test_data = HaiDataset(raw_test['timestamp'],df_test, stride=1)"
      ],
      "execution_count": 20,
      "outputs": [
        {
          "output_type": "display_data",
          "data": {
            "application/vnd.jupyter.widget-view+json": {
              "model_id": "c5fa5ee213844806a886e33e84ac6100",
              "version_minor": 0,
              "version_major": 2
            },
            "text/plain": [
              "  0%|          | 0/1004353 [00:00<?, ?it/s]"
            ]
          },
          "metadata": {}
        },
        {
          "output_type": "stream",
          "name": "stdout",
          "text": [
            "# of valid windows: 1004108\n"
          ]
        },
        {
          "output_type": "display_data",
          "data": {
            "application/vnd.jupyter.widget-view+json": {
              "model_id": "629dbd8f125e4f0c87d534abdcb24184",
              "version_minor": 0,
              "version_major": 2
            },
            "text/plain": [
              "  0%|          | 0/86351 [00:00<?, ?it/s]"
            ]
          },
          "metadata": {}
        },
        {
          "output_type": "stream",
          "name": "stdout",
          "text": [
            "# of valid windows: 86351\n"
          ]
        },
        {
          "output_type": "display_data",
          "data": {
            "application/vnd.jupyter.widget-view+json": {
              "model_id": "55884e99f2854f2c94959cc06b3b3106",
              "version_minor": 0,
              "version_major": 2
            },
            "text/plain": [
              "  0%|          | 0/274751 [00:00<?, ?it/s]"
            ]
          },
          "metadata": {}
        },
        {
          "output_type": "stream",
          "name": "stdout",
          "text": [
            "# of valid windows: 274653\n"
          ]
        }
      ]
    },
    {
      "cell_type": "code",
      "metadata": {
        "id": "U0ywwxI4_O9v"
      },
      "source": [
        "import pickle\n",
        "# # # HaiDataset 저장\n",
        "# with open( \"/content/gdrive/MyDrive/멋사_study/HAICon2021/HaiDataset/train_data_{}\".format(WINDOW_SIZE), \"wb\" ) as file:\n",
        "#     pickle.dump( train_data, file)\n",
        "# with open( \"/content/gdrive/MyDrive/멋사_study/HAICon2021/HaiDataset/validation_data_{}\".format(WINDOW_SIZE), \"wb\" ) as file:\n",
        "#     pickle.dump( validation_data, file)\n",
        "# with open( \"/content/gdrive/MyDrive/멋사_study/HAICon2021/HaiDataset/test_data_{}\".format(WINDOW_SIZE), \"wb\" ) as file:\n",
        "#     pickle.dump( test_data, file)\n",
        "\n",
        "# HaiDataset 불러오기\n",
        "with open( \"/content/gdrive/MyDrive/멋사_study/HAICon2021/HaiDataset/train_data_{}\".format(WINDOW_SIZE), \"rb\" ) as file:\n",
        "    train_data = pickle.load(file)\n",
        "\n",
        "with open( \"/content/gdrive/MyDrive/멋사_study/HAICon2021/HaiDataset/validation_data_{}\".format(WINDOW_SIZE), \"rb\" ) as file:\n",
        "    validation_data = pickle.load(file)\n",
        "\n",
        "with open( \"/content/gdrive/MyDrive/멋사_study/HAICon2021/HaiDataset/test_data_{}\".format(WINDOW_SIZE), \"rb\" ) as file:\n",
        "    test_data = pickle.load(file)"
      ],
      "execution_count": 21,
      "outputs": []
    },
    {
      "cell_type": "markdown",
      "metadata": {
        "id": "9kRKGcu4A_qN"
      },
      "source": [
        "## 모델링 시작"
      ]
    },
    {
      "cell_type": "code",
      "metadata": {
        "id": "rTJTnUupQf61"
      },
      "source": [
        ""
      ],
      "execution_count": 21,
      "outputs": []
    },
    {
      "cell_type": "code",
      "metadata": {
        "id": "OVWah2BBXTLC"
      },
      "source": [
        "N_HIDDENS = 128 # perceptron수\n",
        "N_LAYERS = 3\n",
        "BATCH_SIZE = 128\n",
        "\n",
        "class StackedGRU(torch.nn.Module):\n",
        "    def __init__(self, n_tags):\n",
        "        super().__init__() # torch.nn.Module에 담겨있는 함수를 사용하겠다.\n",
        "        self.rnn = torch.nn.GRU(\n",
        "            input_size=n_tags,\n",
        "            hidden_size=N_HIDDENS,# perceptron수\n",
        "            num_layers=N_LAYERS,\n",
        "            bidirectional=True, #양방향으로 할지 말지 forward + backward 두번씩 하니까 feature가 두배로 변함\n",
        "            dropout=0,\n",
        "        )\n",
        "        self.fc = torch.nn.Linear(N_HIDDENS * 2, n_tags)\n",
        "\n",
        "    def forward(self, x):\n",
        "        x = x.transpose(0, 1)  # (batch, seq, params) -> (seq, batch, params)\n",
        "        self.rnn.flatten_parameters()\n",
        "        outs, _ = self.rnn(x)\n",
        "        out = self.fc(outs[-1])\n",
        "        return x[0] + out"
      ],
      "execution_count": 22,
      "outputs": []
    },
    {
      "cell_type": "code",
      "metadata": {
        "id": "lpgGjOMdtdkp",
        "colab": {
          "base_uri": "https://localhost:8080/"
        },
        "outputId": "566008f8-1e4c-4a20-d061-b09f3c9950f2"
      },
      "source": [
        "MODEL = StackedGRU(n_tags=df_train.shape[1]) # input사이즈를 train data columns수로 하겠다는뜻\n",
        "MODEL.cuda() # GPU 메모리 할당"
      ],
      "execution_count": 23,
      "outputs": [
        {
          "output_type": "execute_result",
          "data": {
            "text/plain": [
              "StackedGRU(\n",
              "  (rnn): GRU(86, 128, num_layers=3, bidirectional=True)\n",
              "  (fc): Linear(in_features=256, out_features=86, bias=True)\n",
              ")"
            ]
          },
          "metadata": {},
          "execution_count": 23
        }
      ]
    },
    {
      "cell_type": "code",
      "metadata": {
        "id": "hTd31JEXviEg"
      },
      "source": [
        "def train(dataset, model, batch_size, n_epochs):\n",
        "    dataloader = DataLoader(dataset, batch_size=batch_size, shuffle=True) # Dataloader는 Mini Batch만들어 주는 역할. # 전체 데이터가 mini batch Size로 슬라이스됨. \n",
        "    optimizer = torch.optim.AdamW(model.parameters())\n",
        "    loss_fn = torch.nn.MSELoss()\n",
        "    epochs = trange(n_epochs, desc=\"training\")\n",
        "    best = {\"loss\": sys.float_info.max}\n",
        "    loss_history = []\n",
        "    for e in epochs:\n",
        "        epoch_loss = 0\n",
        "        for batch in dataloader:\n",
        "            optimizer.zero_grad()\n",
        "            given = batch[\"given\"].cuda()\n",
        "            guess = model(given)\n",
        "            answer = batch[\"answer\"].cuda()\n",
        "            loss = loss_fn(answer, guess)\n",
        "            loss.backward()\n",
        "            epoch_loss += loss.item()\n",
        "            optimizer.step()\n",
        "        loss_history.append(epoch_loss)\n",
        "        epochs.set_postfix_str(f\"loss: {epoch_loss:.6f}\")\n",
        "        if epoch_loss < best[\"loss\"]:\n",
        "            best[\"state\"] = model.state_dict()\n",
        "            best[\"loss\"] = epoch_loss\n",
        "            best[\"epoch\"] = e + 1\n",
        "    return best, loss_history"
      ],
      "execution_count": 24,
      "outputs": []
    },
    {
      "cell_type": "code",
      "metadata": {
        "id": "oCr-iVPvwKw9"
      },
      "source": [
        "import sys"
      ],
      "execution_count": 25,
      "outputs": []
    },
    {
      "cell_type": "code",
      "metadata": {
        "id": "OO39vFC7v2TH",
        "colab": {
          "base_uri": "https://localhost:8080/",
          "height": 83,
          "referenced_widgets": [
            "b30e7713c9ff4928b8832a0136a6619b",
            "55597c54f8a5440481fc8a116b10f830",
            "694980e66b6640dfb4941f5692c93996",
            "20012858d4ff434bbf662f215dd5111c",
            "d0e9727fb15a4b99a5416d563dc8c5b5",
            "b25758ff990f49a49d9e1b7dc3f23f09",
            "332c4a71b9124b17a0445ea3e8abc584",
            "423caf55e85e403ab33efa0bc850725a",
            "7bfa9fb166304ca78e36b61f683dbc60",
            "adbb94f582514ddfae264e6098729cfc",
            "4571da306b15498c9d5c1d2a029c9e83"
          ]
        },
        "outputId": "dd1ad0bc-ae6e-48df-c4ff-12e4ee3067a3"
      },
      "source": [
        "%%time\n",
        "n_epochs = 12\n",
        "MODEL.train()\n",
        "BEST_MODEL, LOSS_HISTORY = train(train_data, MODEL, BATCH_SIZE,n_epochs=n_epochs)"
      ],
      "execution_count": 26,
      "outputs": [
        {
          "output_type": "display_data",
          "data": {
            "application/vnd.jupyter.widget-view+json": {
              "model_id": "b30e7713c9ff4928b8832a0136a6619b",
              "version_minor": 0,
              "version_major": 2
            },
            "text/plain": [
              "training:   0%|          | 0/12 [00:00<?, ?it/s]"
            ]
          },
          "metadata": {}
        },
        {
          "output_type": "stream",
          "name": "stdout",
          "text": [
            "CPU times: user 1h 16min 50s, sys: 27.7 s, total: 1h 17min 18s\n",
            "Wall time: 1h 17min 7s\n"
          ]
        }
      ]
    },
    {
      "cell_type": "markdown",
      "metadata": {
        "id": "0oe-YWMgzl9u"
      },
      "source": [
        "### 모델저장 , 불러오기"
      ]
    },
    {
      "cell_type": "code",
      "metadata": {
        "id": "HRiIJjcSY-ba"
      },
      "source": [
        "with open(\"/content/gdrive/MyDrive/멋사_study/HAICon2021/model_W{}_B{}_P{}_D{}_E{}.pt\".format(WINDOW_SIZE,BATCH_SIZE,N_HIDDENS,N_LAYERS,n_epochs), \"wb\") as f:\n",
        "    torch.save(\n",
        "        {\n",
        "            \"state\": BEST_MODEL[\"state\"],\n",
        "            \"best_epoch\": BEST_MODEL[\"epoch\"],\n",
        "            \"loss_history\": LOSS_HISTORY,\n",
        "        },\n",
        "        f,\n",
        "    )"
      ],
      "execution_count": 27,
      "outputs": []
    },
    {
      "cell_type": "code",
      "metadata": {
        "id": "Ch4YGJE2ZTtD",
        "colab": {
          "base_uri": "https://localhost:8080/"
        },
        "outputId": "7f72d6a6-c595-477e-d2ee-7cd2d153c0f3"
      },
      "source": [
        "with open(\"/content/gdrive/MyDrive/멋사_study/HAICon2021/model_W{}_B{}_P{}_D{}_E{}.pt\".format(WINDOW_SIZE,BATCH_SIZE,N_HIDDENS,N_LAYERS,n_epochs), \"rb\") as f:\n",
        "    SAVED_MODEL = torch.load(f)\n",
        "\n",
        "MODEL.load_state_dict(SAVED_MODEL[\"state\"])\n",
        "\n",
        "# 변수명 SAVED_MODEL"
      ],
      "execution_count": 28,
      "outputs": [
        {
          "output_type": "execute_result",
          "data": {
            "text/plain": [
              "<All keys matched successfully>"
            ]
          },
          "metadata": {},
          "execution_count": 28
        }
      ]
    },
    {
      "cell_type": "code",
      "metadata": {
        "id": "SNmqi8wQ0EPk",
        "colab": {
          "base_uri": "https://localhost:8080/"
        },
        "outputId": "613e2d7c-22fd-4e42-e5d5-4b50d2a15469"
      },
      "source": [
        "SAVED_MODEL"
      ],
      "execution_count": 29,
      "outputs": [
        {
          "output_type": "execute_result",
          "data": {
            "text/plain": [
              "{'best_epoch': 12,\n",
              " 'loss_history': [5.0689889721543295,\n",
              "  1.8632999250257853,\n",
              "  1.6556861361750634,\n",
              "  1.5174737687484594,\n",
              "  1.4356739393770113,\n",
              "  1.3972928668081295,\n",
              "  1.3354762099697837,\n",
              "  1.3066276466997806,\n",
              "  1.2761098863120424,\n",
              "  1.2601744062631042,\n",
              "  1.2005278766155243,\n",
              "  1.1904633069425472],\n",
              " 'state': OrderedDict([('rnn.weight_ih_l0',\n",
              "               tensor([[ 9.2653e-02,  2.4179e-04, -2.5150e-02,  ...,  2.9111e-02,\n",
              "                         1.3323e-03,  3.1004e-02],\n",
              "                       [-3.1090e-02,  7.0209e-03,  2.3221e-02,  ..., -1.6551e-01,\n",
              "                         2.5907e-02, -6.8651e-02],\n",
              "                       [ 1.4098e-01, -1.4689e-02,  7.2272e-02,  ...,  1.3839e-02,\n",
              "                         2.1344e-02,  1.7117e-01],\n",
              "                       ...,\n",
              "                       [ 3.8701e-03,  3.5975e-03, -9.6111e-02,  ...,  2.3979e-01,\n",
              "                        -2.0295e-02, -2.4774e-02],\n",
              "                       [ 1.4478e-02,  4.2484e-03,  2.2012e-02,  ...,  5.0355e-01,\n",
              "                         3.1873e-02, -1.3595e-02],\n",
              "                       [ 8.6294e-02, -2.9778e-02, -5.4522e-02,  ..., -1.0068e-01,\n",
              "                         2.4100e-02,  5.9321e-02]], device='cuda:0')),\n",
              "              ('rnn.weight_hh_l0',\n",
              "               tensor([[ 0.3574, -0.0209, -0.1579,  ...,  0.0616, -0.2010,  0.0740],\n",
              "                       [ 0.6001,  0.3123, -0.0269,  ..., -0.3287,  0.2083,  0.1387],\n",
              "                       [ 0.3511,  0.2893,  0.0325,  ...,  0.0513, -0.0933, -0.1110],\n",
              "                       ...,\n",
              "                       [ 0.1549, -0.1428,  0.0116,  ..., -0.5188,  0.1775,  0.1319],\n",
              "                       [-0.0457,  0.0233,  0.1440,  ...,  0.0109, -0.9628, -0.4894],\n",
              "                       [-0.2959,  0.0476,  0.2447,  ..., -0.0392,  0.3600,  0.2233]],\n",
              "                      device='cuda:0')),\n",
              "              ('rnn.bias_ih_l0',\n",
              "               tensor([ 7.4310e-02,  1.3903e-02,  2.7569e-01,  1.9768e-01,  2.4632e-01,\n",
              "                       -1.4012e-01,  2.0691e-01,  1.8088e-01,  2.0287e-01, -1.3980e-01,\n",
              "                        1.2358e-01,  8.5215e-03,  3.8217e-02,  2.2575e-01,  1.4020e-01,\n",
              "                        4.2072e-02,  1.4985e-01,  2.9855e-01,  2.2880e-01,  1.4528e-01,\n",
              "                        1.2128e-01,  1.9937e-01,  5.4883e-03, -7.9687e-02,  1.6203e-01,\n",
              "                        1.1483e-01, -1.7332e-01, -1.3673e-01, -6.7387e-02, -5.7049e-02,\n",
              "                        2.0255e-01, -6.8088e-02, -2.2506e-02,  1.6422e-01, -1.7828e-01,\n",
              "                        1.6113e-01,  5.2757e-02,  2.6681e-01, -1.4597e-02,  1.8664e-01,\n",
              "                       -6.1676e-04,  1.6802e-01,  1.7904e-01, -1.4521e-01, -1.0603e-01,\n",
              "                        1.0436e-01, -1.5584e-01, -1.3501e-01,  2.2642e-01,  1.1752e-01,\n",
              "                        4.7696e-04,  1.2380e-01, -1.1359e-01, -1.9783e-01,  9.2322e-02,\n",
              "                        3.2123e-02, -1.4837e-01,  1.6537e-01, -7.7087e-02, -2.1998e-01,\n",
              "                       -1.9328e-02,  2.1273e-01,  2.7771e-01, -1.1616e-01,  2.1913e-01,\n",
              "                        2.1986e-01,  2.0994e-01, -1.3423e-01, -9.0529e-02,  5.4599e-02,\n",
              "                        1.3395e-01,  1.4999e-01,  7.4223e-02,  1.9594e-03,  2.0124e-01,\n",
              "                        2.8760e-01,  1.2256e-01,  2.4136e-02,  5.7912e-03, -1.4487e-01,\n",
              "                       -1.2964e-01,  2.6597e-02,  6.5270e-04,  1.8204e-01,  9.2896e-02,\n",
              "                       -1.0046e-01, -7.6641e-02,  1.6485e-01, -1.1623e-01,  2.5252e-01,\n",
              "                        6.5015e-02,  3.7302e-02,  7.9369e-02, -1.5901e-02,  1.7936e-01,\n",
              "                        1.3463e-01,  2.0331e-01,  1.9695e-01,  1.3386e-01,  7.0211e-02,\n",
              "                        1.5481e-01, -7.5445e-02,  5.9247e-02,  1.1978e-01,  3.4562e-03,\n",
              "                        1.7725e-01,  2.6214e-02,  1.0163e-01, -7.5288e-03,  1.2196e-01,\n",
              "                       -1.1095e-01,  7.9145e-02,  1.6415e-02, -5.6691e-02, -4.8455e-02,\n",
              "                        4.8094e-03,  1.3053e-01,  1.6161e-01,  1.6017e-01,  1.4589e-01,\n",
              "                        2.8873e-01,  1.7653e-01,  1.8220e-01,  1.0180e-01,  1.5320e-01,\n",
              "                        7.7224e-02,  1.0512e-01, -8.5030e-02, -2.1431e-01, -4.0643e-01,\n",
              "                       -1.2281e-01,  2.8029e-01,  6.4130e-02, -2.2424e-01,  1.5605e-01,\n",
              "                        1.1666e-01, -2.6846e-02, -2.1801e-01,  8.7835e-02, -1.6004e-01,\n",
              "                        1.5324e-01,  2.7681e-01, -1.3084e-01, -1.2862e-01,  1.8768e-01,\n",
              "                        6.0787e-02,  9.4919e-02,  1.6090e-01,  1.2785e-01,  1.6263e-01,\n",
              "                        1.7682e-01, -1.7621e-01, -5.0487e-02,  1.5787e-01, -1.7391e-01,\n",
              "                       -1.3981e-01,  9.0435e-02, -9.5397e-02, -1.5424e-01, -1.3931e-01,\n",
              "                        8.8826e-02,  2.9541e-01, -2.0604e-01, -8.4452e-02,  2.0611e-01,\n",
              "                        1.0135e-01,  2.2356e-01, -1.0379e-01,  1.9750e-02, -1.2900e-01,\n",
              "                        2.1343e-01, -1.1028e-01, -1.5696e-01,  1.5824e-01, -1.8019e-01,\n",
              "                       -1.9446e-01,  1.8786e-01,  2.6258e-01, -1.2403e-01, -8.1719e-02,\n",
              "                       -1.7688e-01, -2.3573e-01, -1.1375e-03,  3.5324e-02, -1.5523e-01,\n",
              "                        2.1733e-03, -2.0934e-01, -2.3343e-01, -5.5020e-02, -3.6292e-02,\n",
              "                        1.3486e-01, -1.6033e-01,  1.8697e-01, -1.0181e-01, -1.5015e-01,\n",
              "                       -1.6147e-01, -1.5762e-01, -3.1931e-02,  7.4930e-03,  1.7960e-01,\n",
              "                       -2.2143e-01, -3.0642e-01, -3.4954e-03,  1.2807e-01,  2.1251e-01,\n",
              "                       -1.0892e-01, -2.5728e-02, -2.1673e-01, -2.3551e-01,  4.1601e-02,\n",
              "                        2.0177e-01,  2.8025e-01,  1.9602e-01, -2.5285e-01, -1.3965e-01,\n",
              "                        2.7039e-01, -1.1839e-01,  9.7646e-02,  9.9022e-02, -3.8879e-02,\n",
              "                        1.7489e-01,  2.3901e-02, -1.8280e-02,  1.5468e-01,  2.8846e-01,\n",
              "                       -8.7902e-02,  1.7658e-01,  1.0262e-01,  2.8127e-01, -1.9143e-01,\n",
              "                        9.4978e-02,  2.0872e-01, -4.7827e-02, -5.8867e-02, -1.3845e-01,\n",
              "                        2.1857e-01, -1.7226e-01, -8.2545e-02, -8.5120e-02,  1.7906e-01,\n",
              "                        2.1632e-02, -2.8285e-01, -1.9252e-01,  6.9408e-02,  1.2644e-01,\n",
              "                       -7.3633e-02,  1.1373e-01,  1.6428e-01, -1.7857e-01,  2.5438e-01,\n",
              "                       -1.3380e-01,  1.6794e-01,  1.3152e-01,  1.8727e-01, -8.0363e-02,\n",
              "                       -2.5984e-01,  8.2356e-02,  2.3881e-01, -4.3550e-02, -6.4694e-02,\n",
              "                       -2.2843e-04, -5.5137e-02, -2.6000e-02, -1.7435e-02,  2.1779e-02,\n",
              "                        7.8891e-02, -2.1410e-02, -1.1744e-01, -5.1529e-02,  9.7091e-03,\n",
              "                       -6.0801e-03,  2.3895e-02, -3.4042e-03, -5.0183e-02,  2.3336e-02,\n",
              "                       -1.6860e-02,  9.0439e-03,  7.8730e-03, -7.4233e-02,  1.2521e-02,\n",
              "                       -1.1370e-02, -2.8124e-02, -8.5599e-02, -5.0083e-02,  4.9037e-02,\n",
              "                        1.8746e-01, -1.9583e-02, -1.7693e-01,  1.1381e-02,  3.8948e-02,\n",
              "                        5.0944e-02, -3.7367e-02, -1.0049e-02, -2.1924e-03, -3.0261e-02,\n",
              "                       -1.6940e-02, -4.5051e-02, -2.5479e-03, -1.9864e-02,  4.4079e-02,\n",
              "                       -3.4147e-02, -2.6017e-02,  8.2339e-02, -1.0518e-01, -1.3332e-02,\n",
              "                        7.6661e-03,  9.9836e-03,  1.4094e-03,  2.3110e-02, -3.9866e-03,\n",
              "                        1.0227e-01, -3.8407e-02, -8.6362e-02, -3.5875e-02,  1.3746e-01,\n",
              "                        9.4407e-02,  1.3553e-02, -2.6685e-03,  2.4476e-02, -9.9768e-03,\n",
              "                        6.0413e-02,  3.1023e-02,  8.7887e-03, -2.7705e-02,  4.5831e-03,\n",
              "                       -2.4544e-02, -3.5776e-03,  1.1652e-02,  7.1657e-02, -3.3027e-02,\n",
              "                       -1.4368e-03,  1.4562e-03,  2.4301e-02,  2.2223e-02, -7.4702e-02,\n",
              "                       -2.1914e-02, -7.4679e-02, -1.8108e-03, -2.0222e-02,  4.1834e-02,\n",
              "                       -3.1408e-02, -5.5419e-02,  2.3552e-02,  4.0524e-02,  2.3114e-02,\n",
              "                        2.4736e-02, -1.8164e-02, -1.5639e-01, -2.1453e-02,  2.7269e-02,\n",
              "                       -2.3499e-02,  2.0959e-02,  1.8338e-02, -2.8441e-02,  7.7496e-03,\n",
              "                       -8.5381e-03,  4.4404e-02, -8.8339e-02, -1.5638e-02,  2.8460e-02,\n",
              "                        7.3843e-02,  1.0362e-02, -6.0809e-02,  6.1900e-02,  6.1763e-02,\n",
              "                        3.6603e-02, -1.0404e-02,  2.5879e-02,  8.8575e-02, -7.0346e-02,\n",
              "                        2.0324e-02, -1.3045e-02,  3.4962e-02,  1.1217e-02, -3.1958e-02,\n",
              "                        6.2497e-03, -6.8186e-03,  4.1599e-02, -1.7108e-03,  8.1570e-03,\n",
              "                        2.4361e-02, -1.6752e-03, -6.7259e-03, -5.8816e-03], device='cuda:0')),\n",
              "              ('rnn.bias_hh_l0',\n",
              "               tensor([ 1.2853e-01,  5.3718e-02,  2.2718e-01,  1.6344e-01,  2.6560e-01,\n",
              "                       -1.3037e-01,  1.9357e-01,  1.6193e-01,  1.8858e-01, -1.2888e-01,\n",
              "                        1.0834e-01,  2.7732e-02,  5.0986e-02,  2.1395e-01,  1.8459e-01,\n",
              "                        3.6655e-02,  1.3072e-01,  2.5431e-01,  2.4668e-01,  1.7850e-01,\n",
              "                        1.8987e-01,  2.1139e-01,  1.5379e-03, -1.1223e-01,  1.8906e-01,\n",
              "                        1.2010e-01, -1.2862e-01, -1.2310e-01, -6.5860e-02, -1.2214e-02,\n",
              "                        2.6082e-01, -6.3275e-02, -1.8439e-02,  1.5438e-01, -2.0483e-01,\n",
              "                        1.4590e-01,  5.9880e-02,  2.8125e-01,  7.4185e-03,  1.8007e-01,\n",
              "                       -3.0072e-02,  1.4693e-01,  1.6722e-01, -1.0836e-01, -1.1849e-01,\n",
              "                        8.5633e-02, -1.0907e-01, -1.0615e-01,  2.6452e-01,  5.8643e-02,\n",
              "                       -8.3496e-05,  1.1888e-01, -8.5245e-02, -1.6956e-01,  7.4765e-02,\n",
              "                        2.7758e-02, -1.1934e-01,  1.7385e-01, -1.0245e-01, -2.1352e-01,\n",
              "                       -2.2151e-02,  2.1212e-01,  2.9849e-01, -1.1074e-01,  2.2895e-01,\n",
              "                        2.5022e-01,  2.0803e-01, -1.6072e-01, -7.6626e-02,  6.5416e-02,\n",
              "                        1.6187e-01,  1.8540e-01,  2.6738e-02, -3.7083e-02,  2.2817e-01,\n",
              "                        2.6858e-01,  1.4847e-01,  5.7738e-02,  2.5333e-02, -1.0749e-01,\n",
              "                       -1.1101e-01,  7.9592e-02, -1.4711e-02,  1.5629e-01,  8.0356e-02,\n",
              "                       -1.0602e-01, -1.3654e-01,  1.1358e-01, -1.4229e-01,  2.8064e-01,\n",
              "                        9.1142e-02,  2.8229e-02,  1.3248e-01,  1.1503e-02,  1.9121e-01,\n",
              "                        1.5540e-01,  1.7001e-01,  2.1664e-01,  1.5802e-01,  1.0463e-01,\n",
              "                        1.2562e-01, -7.3835e-02,  7.8509e-02,  6.9117e-02, -1.8645e-02,\n",
              "                        1.6217e-01,  8.2827e-03,  9.4058e-02, -1.9431e-02,  7.3416e-02,\n",
              "                       -1.1238e-01,  1.0706e-01,  1.4857e-02, -8.2869e-03, -4.1119e-02,\n",
              "                        4.0519e-02,  1.7959e-01,  1.3176e-01,  1.9055e-01,  1.6099e-01,\n",
              "                        2.3137e-01,  1.6186e-01,  2.0563e-01,  7.7654e-02,  1.4393e-01,\n",
              "                        7.9279e-02,  1.1382e-01, -6.3611e-02, -1.5838e-01, -3.5373e-01,\n",
              "                       -1.3250e-01,  3.1327e-01,  1.2283e-01, -2.5540e-01,  2.0653e-01,\n",
              "                        1.1163e-01, -4.3497e-02, -2.1792e-01,  7.9168e-02, -1.5019e-01,\n",
              "                        1.3160e-01,  3.3254e-01, -9.6605e-02, -1.2642e-01,  1.8420e-01,\n",
              "                        5.5686e-02,  1.1098e-01,  1.1894e-01,  1.4482e-01,  1.7579e-01,\n",
              "                        1.2946e-01, -1.6244e-01, -6.9401e-03,  1.5791e-01, -1.5634e-01,\n",
              "                       -1.6212e-01,  1.0306e-01, -9.1229e-02, -1.3097e-01, -9.4223e-02,\n",
              "                        1.0779e-01,  3.2900e-01, -2.0856e-01, -5.8797e-02,  2.3316e-01,\n",
              "                        9.1596e-02,  1.8694e-01, -1.2780e-01,  2.2093e-02, -1.3410e-01,\n",
              "                        2.2639e-01, -1.1754e-01, -1.9090e-01,  1.8318e-01, -1.7623e-01,\n",
              "                       -2.2258e-01,  1.7750e-01,  2.7628e-01, -1.5207e-01, -9.4750e-02,\n",
              "                       -1.5861e-01, -2.1228e-01,  2.3193e-02,  5.0328e-02, -1.7195e-01,\n",
              "                        3.9709e-02, -2.1972e-01, -2.6509e-01, -4.1975e-02, -4.8593e-02,\n",
              "                        1.7380e-01, -1.2088e-01,  1.5452e-01, -1.5753e-01, -1.8910e-01,\n",
              "                       -1.5251e-01, -1.1612e-01, -8.6331e-02, -1.2976e-02,  1.9778e-01,\n",
              "                       -1.9388e-01, -2.5150e-01, -1.9202e-02,  1.3705e-01,  2.1048e-01,\n",
              "                       -9.1751e-02, -4.5164e-02, -2.1766e-01, -2.1689e-01,  3.8278e-02,\n",
              "                        2.4620e-01,  2.8346e-01,  2.2824e-01, -2.5631e-01, -1.2313e-01,\n",
              "                        2.2883e-01, -1.0620e-01,  7.4230e-02,  9.2409e-02, -6.4917e-02,\n",
              "                        1.8957e-01,  3.6814e-02, -3.8187e-03,  1.6494e-01,  3.2896e-01,\n",
              "                       -5.5473e-02,  1.4163e-01,  9.8849e-02,  3.3589e-01, -1.6671e-01,\n",
              "                        8.0839e-02,  2.2017e-01, -9.7007e-02, -8.0256e-02, -1.9150e-01,\n",
              "                        2.2057e-01, -2.0414e-01, -8.3338e-02, -1.3708e-01,  1.6240e-01,\n",
              "                        1.5191e-02, -2.7656e-01, -1.4546e-01,  1.2568e-01,  7.6820e-02,\n",
              "                       -4.1203e-02,  1.4182e-01,  1.8160e-01, -1.5219e-01,  2.4308e-01,\n",
              "                       -1.2267e-01,  1.6509e-01,  1.0698e-01,  1.9230e-01, -9.3294e-02,\n",
              "                       -2.0696e-01,  2.4219e-02,  8.1061e-02, -1.0065e-02, -6.4757e-02,\n",
              "                       -1.4971e-02,  1.4622e-02, -5.5088e-02, -2.9636e-02, -1.7136e-02,\n",
              "                        7.7267e-02, -2.2656e-02, -1.8306e-01, -1.8930e-02,  5.0070e-02,\n",
              "                       -7.8456e-03,  2.6726e-02,  2.8211e-02, -1.6625e-02,  1.8192e-02,\n",
              "                        1.1502e-02, -1.4693e-02,  6.4489e-02,  4.7567e-03,  2.7353e-02,\n",
              "                       -2.8711e-02, -6.5266e-04, -2.7689e-02, -9.9887e-04,  3.1289e-02,\n",
              "                        6.8521e-02,  9.7212e-03, -1.3233e-01,  7.9736e-02, -1.8256e-02,\n",
              "                        2.8444e-02,  1.2661e-02,  1.6010e-02, -1.5713e-02, -6.6756e-02,\n",
              "                        3.0451e-02, -1.2677e-01,  3.3192e-02, -2.8011e-02, -6.8750e-03,\n",
              "                       -3.1006e-03,  1.7421e-02,  7.5713e-02, -8.8393e-02,  2.2145e-02,\n",
              "                        5.0822e-02, -5.5546e-02,  1.4147e-04,  6.6452e-03, -5.6004e-02,\n",
              "                        6.5527e-02, -8.0586e-02, -9.8310e-02, -2.6117e-02,  1.2254e-01,\n",
              "                        4.6678e-03,  1.0359e-01,  9.2731e-03,  3.2708e-02,  4.0402e-02,\n",
              "                        3.2461e-02,  4.8931e-02, -1.3012e-02,  3.4778e-02,  2.0598e-02,\n",
              "                       -3.7637e-02,  6.2200e-03, -9.7036e-03,  7.7926e-03,  3.2077e-02,\n",
              "                       -1.9849e-03, -1.0267e-02, -2.6634e-02, -1.1952e-02, -8.2954e-02,\n",
              "                       -2.7809e-02, -9.4479e-02,  5.2439e-02,  4.0073e-02,  3.2120e-02,\n",
              "                       -1.9249e-02, -1.9919e-02, -3.8356e-03,  3.4171e-02,  9.3936e-03,\n",
              "                       -3.7746e-03, -2.3300e-02, -2.0557e-01, -7.2664e-02,  2.6119e-02,\n",
              "                       -5.6989e-02,  2.6623e-02, -1.4184e-02,  1.6251e-02,  2.5385e-02,\n",
              "                        7.4271e-02,  4.2943e-03, -1.2780e-01,  3.6009e-02,  5.6728e-03,\n",
              "                        1.1392e-01,  2.6274e-02, -3.5064e-02,  1.2003e-02,  9.1218e-02,\n",
              "                       -1.3683e-02,  1.3276e-02,  2.3453e-02,  6.8858e-02, -4.3694e-02,\n",
              "                       -1.6106e-02,  1.1721e-02,  1.1068e-02, -1.9985e-03, -4.5712e-02,\n",
              "                       -4.5339e-02,  3.1526e-04,  2.4464e-02, -4.0487e-03,  5.4717e-03,\n",
              "                       -1.7398e-02,  3.5195e-02,  5.3410e-04, -5.0156e-03], device='cuda:0')),\n",
              "              ('rnn.weight_ih_l0_reverse',\n",
              "               tensor([[ 0.1903,  0.0200,  0.0855,  ...,  0.0905,  0.0211,  0.0617],\n",
              "                       [ 0.1109, -0.0136,  0.0479,  ..., -0.0048,  0.0276,  0.0851],\n",
              "                       [-0.2622, -0.0140,  0.1982,  ..., -0.0113, -0.0082,  0.0782],\n",
              "                       ...,\n",
              "                       [-0.0698,  0.0334,  0.1356,  ..., -0.0597, -0.0223,  0.2154],\n",
              "                       [ 0.1239,  0.0142,  0.2368,  ...,  0.0103, -0.0265,  0.0929],\n",
              "                       [ 0.4290, -0.0166, -0.0005,  ...,  0.2060,  0.0031, -0.0982]],\n",
              "                      device='cuda:0')),\n",
              "              ('rnn.weight_hh_l0_reverse',\n",
              "               tensor([[ 0.2107,  0.0347,  0.0651,  ...,  0.1490,  0.0263,  0.2302],\n",
              "                       [ 0.1048, -0.0064, -0.0318,  ...,  0.0725, -0.0446, -0.0454],\n",
              "                       [ 0.0622, -0.0767, -0.0805,  ...,  0.0192, -0.0019,  0.0509],\n",
              "                       ...,\n",
              "                       [ 0.0932, -0.0289,  0.1352,  ..., -0.5423, -0.0614,  0.1019],\n",
              "                       [ 0.5290,  0.1219, -0.0271,  ..., -0.3334, -1.3028,  0.0101],\n",
              "                       [-0.0674, -0.1739, -0.0966,  ..., -0.0131, -0.0015, -0.3613]],\n",
              "                      device='cuda:0')),\n",
              "              ('rnn.bias_ih_l0_reverse',\n",
              "               tensor([ 0.0425,  0.1991, -0.1540, -0.1271, -0.1539, -0.1752,  0.1553, -0.2034,\n",
              "                       -0.1593, -0.2019, -0.1619,  0.1205, -0.2335, -0.1856,  0.0072, -0.2307,\n",
              "                        0.1114,  0.0500, -0.1590, -0.2385, -0.2292, -0.1280, -0.2421, -0.2282,\n",
              "                        0.2308,  0.1158,  0.0983,  0.0762, -0.1043, -0.1529,  0.1869,  0.0755,\n",
              "                       -0.1430, -0.1920,  0.0566,  0.0407,  0.2374, -0.0217, -0.0973, -0.1621,\n",
              "                       -0.1700, -0.1514, -0.1931,  0.2527, -0.1100, -0.1770,  0.0693,  0.0933,\n",
              "                        0.2830, -0.1993, -0.1683, -0.2115, -0.1172, -0.0007,  0.0036, -0.1949,\n",
              "                        0.1513,  0.1905, -0.2121,  0.1374, -0.1811, -0.1611,  0.1182, -0.2296,\n",
              "                       -0.0319,  0.1095, -0.2589, -0.0696, -0.1235, -0.2023, -0.1792, -0.2022,\n",
              "                       -0.1606, -0.1750, -0.1674,  0.1882,  0.0448, -0.1602,  0.0383, -0.1709,\n",
              "                       -0.0507,  0.0944, -0.1764, -0.2640, -0.1984,  0.0134,  0.1990, -0.0963,\n",
              "                       -0.1982,  0.2375, -0.2100,  0.1189, -0.1789, -0.0576, -0.1478, -0.0778,\n",
              "                       -0.0830, -0.1551, -0.1677, -0.2281,  0.2167,  0.1331, -0.1392, -0.1455,\n",
              "                        0.0986, -0.0771, -0.2583, -0.1870, -0.2357, -0.3062, -0.0381, -0.1775,\n",
              "                        0.0111, -0.0631, -0.2103,  0.2457, -0.1493,  0.1393,  0.2368,  0.0972,\n",
              "                        0.0521, -0.1078,  0.0337, -0.2398,  0.0784, -0.1388,  0.1783, -0.2364,\n",
              "                        0.0480,  0.1999, -0.2330, -0.2455, -0.1958, -0.1677,  0.1531, -0.1984,\n",
              "                       -0.3052, -0.2177, -0.1905,  0.1918, -0.2232, -0.2259,  0.0296, -0.1294,\n",
              "                        0.1534,  0.1299, -0.1328, -0.3237, -0.3424, -0.0952, -0.2790, -0.1560,\n",
              "                        0.1168, -0.0180,  0.1209,  0.0850, -0.0142, -0.0791,  0.0093,  0.0129,\n",
              "                       -0.2219, -0.3772, -0.0670,  0.1145, -0.0044, -0.0023, -0.0559, -0.2987,\n",
              "                       -0.2411, -0.2874, -0.2227,  0.2441, -0.2650, -0.1178,  0.1017,  0.3283,\n",
              "                        0.1573, -0.2894, -0.1006, -0.2327, -0.1649, -0.0427,  0.1392, -0.1678,\n",
              "                        0.1424,  0.2548, -0.2365,  0.1270, -0.3297, -0.2534,  0.2052, -0.2624,\n",
              "                       -0.1597,  0.1049, -0.2874,  0.3505, -0.3227, -0.1261, -0.2364, -0.2986,\n",
              "                       -0.1763, -0.2258, -0.1900,  0.0496,  0.0569, -0.1130,  0.0648,  0.0680,\n",
              "                        0.1021,  0.2008, -0.2927, -0.1341, -0.3601, -0.0936,  0.1498,  0.3100,\n",
              "                       -0.2243,  0.0845, -0.2741,  0.2408, -0.2711,  0.0042, -0.2343, -0.0533,\n",
              "                       -0.0681, -0.2517, -0.1635, -0.2529,  0.1375,  0.4264, -0.2380, -0.2695,\n",
              "                        0.4258, -0.0374, -0.3128, -0.2816, -0.2421, -0.2903,  0.0801, -0.2157,\n",
              "                        0.0846, -0.0084, -0.3181,  0.2424, -0.2996,  0.3152,  0.1100,  0.0612,\n",
              "                        0.1094, -0.1729,  0.1074, -0.3518,  0.1294, -0.2803,  0.3331, -0.2752,\n",
              "                       -0.0190,  0.0005, -0.1013,  0.0230,  0.1502, -0.0402, -0.1138, -0.0888,\n",
              "                       -0.0363, -0.0870, -0.0787, -0.0312,  0.0406,  0.0649, -0.0451, -0.0349,\n",
              "                        0.0786,  0.0218, -0.0507,  0.0033, -0.0049,  0.0244,  0.0051, -0.0042,\n",
              "                        0.0034,  0.0292,  0.0488, -0.0325,  0.0259,  0.0777,  0.0197,  0.0799,\n",
              "                        0.0472, -0.0137,  0.0031, -0.0637, -0.0877, -0.0091,  0.0583,  0.1010,\n",
              "                       -0.0079,  0.0988,  0.1164, -0.0172, -0.0879,  0.0279, -0.0684, -0.0352,\n",
              "                       -0.0106, -0.0209,  0.0867,  0.0216, -0.0672, -0.0737,  0.0105,  0.0019,\n",
              "                       -0.0820, -0.0767, -0.0184, -0.0092, -0.0423, -0.1092, -0.0019, -0.0162,\n",
              "                       -0.0562, -0.0296, -0.0682,  0.0021,  0.1087, -0.0614, -0.0025, -0.0230,\n",
              "                        0.0067,  0.0743,  0.0230,  0.0267,  0.0515,  0.0359,  0.0419,  0.0168,\n",
              "                       -0.0571, -0.0483,  0.0551,  0.0288, -0.0930, -0.0016,  0.0121, -0.0280,\n",
              "                        0.0009, -0.0976,  0.0475,  0.0581,  0.0529, -0.1329,  0.0161, -0.0889,\n",
              "                       -0.0851, -0.0205,  0.0521, -0.0447, -0.0644,  0.0315,  0.0151,  0.0343,\n",
              "                       -0.0193, -0.1536, -0.0237, -0.0880, -0.0223,  0.0718, -0.0508,  0.0493,\n",
              "                       -0.0542, -0.0227, -0.0543,  0.0330,  0.0402,  0.0346,  0.0604,  0.0507,\n",
              "                       -0.0259, -0.0771, -0.0253,  0.0145,  0.0250, -0.1144, -0.0067,  0.0022],\n",
              "                      device='cuda:0')),\n",
              "              ('rnn.bias_hh_l0_reverse',\n",
              "               tensor([ 3.1041e-02,  2.0920e-01, -1.6469e-01, -1.6213e-01, -1.8409e-01,\n",
              "                       -1.9795e-01,  1.5562e-01, -2.2519e-01, -1.5645e-01, -2.3282e-01,\n",
              "                       -1.4316e-01,  1.6685e-01, -1.8308e-01, -2.0965e-01,  4.4760e-02,\n",
              "                       -1.8685e-01,  1.0473e-01,  6.7924e-02, -1.3446e-01, -2.5377e-01,\n",
              "                       -2.3165e-01, -1.4814e-01, -2.0493e-01, -2.2084e-01,  2.1254e-01,\n",
              "                        1.0163e-01,  4.9086e-02,  5.4422e-02, -1.3816e-01, -1.2856e-01,\n",
              "                        1.6249e-01,  1.0951e-01, -1.7054e-01, -1.3849e-01,  5.4711e-02,\n",
              "                        3.2275e-02,  2.1863e-01, -3.1167e-02, -4.5365e-02, -1.5698e-01,\n",
              "                       -2.0673e-01, -1.6975e-01, -1.6600e-01,  2.3456e-01, -1.2373e-01,\n",
              "                       -1.7606e-01,  1.1005e-01,  4.1194e-02,  2.2769e-01, -1.8280e-01,\n",
              "                       -1.7223e-01, -2.4983e-01, -1.3962e-01,  3.9972e-03,  1.4749e-02,\n",
              "                       -2.0474e-01,  1.3715e-01,  2.4338e-01, -2.0949e-01,  1.7710e-01,\n",
              "                       -1.8390e-01, -1.7261e-01,  9.9678e-02, -2.4866e-01,  9.2266e-03,\n",
              "                        7.5561e-02, -2.2108e-01, -1.0751e-01, -1.4514e-01, -2.0499e-01,\n",
              "                       -1.6788e-01, -2.2598e-01, -2.0919e-01, -1.8369e-01, -1.4141e-01,\n",
              "                        1.3435e-01,  3.0030e-02, -1.6379e-01,  4.8415e-02, -1.6800e-01,\n",
              "                       -3.7028e-02,  6.8331e-02, -1.1778e-01, -2.6086e-01, -1.9649e-01,\n",
              "                        6.7072e-03,  1.7585e-01, -4.3754e-02, -1.6416e-01,  2.5960e-01,\n",
              "                       -2.0823e-01,  7.9655e-02, -1.6078e-01, -8.1182e-02, -1.4259e-01,\n",
              "                       -6.5310e-02, -6.4581e-02, -1.6415e-01, -1.3866e-01, -2.2652e-01,\n",
              "                        1.7617e-01,  1.3823e-01, -1.9077e-01, -1.2162e-01,  9.9715e-02,\n",
              "                       -9.4148e-02, -2.2999e-01, -2.0984e-01, -2.4404e-01, -2.8785e-01,\n",
              "                       -3.7031e-02, -2.0712e-01,  2.0545e-02, -5.0311e-02, -2.0710e-01,\n",
              "                        2.7736e-01, -1.3274e-01,  9.5762e-02,  2.0842e-01,  1.1501e-01,\n",
              "                        6.2237e-02, -1.4180e-01,  8.2512e-02, -2.5322e-01,  7.0057e-02,\n",
              "                       -1.5427e-01,  1.9239e-01, -2.0937e-01,  1.6807e-02,  2.0952e-01,\n",
              "                       -2.2202e-01, -2.4417e-01, -1.6772e-01, -1.3482e-01,  1.7753e-01,\n",
              "                       -2.0009e-01, -3.0161e-01, -1.8846e-01, -1.8012e-01,  1.3168e-01,\n",
              "                       -2.6534e-01, -2.1430e-01,  3.2065e-02, -1.5795e-01,  1.2028e-01,\n",
              "                        9.5586e-02, -1.2595e-01, -2.9034e-01, -3.3644e-01, -1.0013e-01,\n",
              "                       -2.8350e-01, -1.5733e-01,  6.6196e-02, -3.4523e-02,  1.0795e-01,\n",
              "                        8.5021e-02, -7.7402e-03, -8.3246e-02, -3.3653e-02,  2.8446e-02,\n",
              "                       -1.6190e-01, -3.7215e-01, -9.3926e-02,  1.0463e-01,  6.0912e-02,\n",
              "                        6.3916e-03, -6.7597e-02, -2.6638e-01, -2.9181e-01, -2.6389e-01,\n",
              "                       -2.3312e-01,  1.8780e-01, -2.7727e-01, -1.3904e-01,  1.0399e-01,\n",
              "                        3.1418e-01,  1.6962e-01, -3.0247e-01, -1.0701e-01, -2.3436e-01,\n",
              "                       -1.7908e-01, -2.5737e-02,  1.0808e-01, -1.1191e-01,  1.5704e-01,\n",
              "                        3.2006e-01, -2.0486e-01,  1.5193e-01, -3.1719e-01, -2.7558e-01,\n",
              "                        1.7715e-01, -2.4176e-01, -1.9514e-01,  8.6951e-02, -3.1273e-01,\n",
              "                        4.0506e-01, -2.9898e-01, -1.6093e-01, -2.5157e-01, -3.1608e-01,\n",
              "                       -1.4793e-01, -1.7456e-01, -2.3669e-01,  1.0607e-01,  6.0870e-02,\n",
              "                       -1.5517e-01,  9.9851e-02,  7.2707e-02,  5.8961e-02,  1.6293e-01,\n",
              "                       -3.2746e-01, -1.2326e-01, -3.4425e-01, -5.8684e-02,  1.0277e-01,\n",
              "                        3.0807e-01, -2.3910e-01,  9.9340e-02, -2.6470e-01,  2.0604e-01,\n",
              "                       -2.8965e-01, -2.4493e-02, -2.7211e-01, -5.6050e-02, -6.0523e-02,\n",
              "                       -2.2391e-01, -1.5025e-01, -2.0930e-01,  1.1819e-01,  3.7238e-01,\n",
              "                       -2.4396e-01, -2.7025e-01,  4.3430e-01, -5.2278e-02, -2.6710e-01,\n",
              "                       -3.1729e-01, -2.3694e-01, -2.8934e-01,  4.0412e-02, -2.2258e-01,\n",
              "                        7.3519e-02, -3.2035e-02, -3.0795e-01,  2.0550e-01, -3.1150e-01,\n",
              "                        3.0202e-01,  1.6483e-01,  1.0236e-01,  8.1345e-02, -1.3267e-01,\n",
              "                        1.1616e-01, -3.4361e-01,  1.7512e-01, -2.5755e-01,  3.1688e-01,\n",
              "                       -2.7060e-01, -2.0359e-02,  1.7823e-02, -7.2268e-02,  1.9208e-01,\n",
              "                        3.5870e-01, -1.2251e-01, -1.4359e-01, -1.5994e-01,  1.7559e-01,\n",
              "                       -1.6276e-01, -1.9553e-01,  1.6964e-02, -1.0936e-01,  8.9193e-02,\n",
              "                        5.8005e-02, -4.2296e-02,  6.2210e-02,  1.0070e-02, -6.7213e-02,\n",
              "                        4.4500e-02, -5.0831e-02,  8.7430e-02,  1.2294e-01, -3.1321e-04,\n",
              "                        5.0689e-02,  1.2665e-01,  2.0547e-02, -5.6726e-02,  5.4626e-02,\n",
              "                        8.6274e-02, -2.3831e-02,  2.0185e-03,  1.2371e-01,  2.6412e-01,\n",
              "                        1.1566e-01, -6.1507e-02, -5.5268e-02, -5.1648e-04,  2.5997e-01,\n",
              "                        1.7576e-01,  4.6552e-02,  1.7029e-01,  2.3923e-01,  1.4897e-02,\n",
              "                       -2.3969e-01,  1.7362e-02, -5.7687e-02, -5.7689e-02,  1.4063e-02,\n",
              "                       -1.1215e-02,  6.7352e-02,  1.9221e-02, -9.3570e-02, -5.9532e-02,\n",
              "                        5.9804e-02, -6.1910e-03, -5.3216e-02, -9.4770e-02, -6.4523e-02,\n",
              "                       -4.6683e-02,  4.0491e-03, -2.6945e-01, -1.8964e-02,  5.7342e-03,\n",
              "                       -3.4904e-01,  2.0140e-02, -4.4418e-02,  3.2804e-02,  3.3427e-01,\n",
              "                        1.6258e-02,  8.0763e-02, -7.6950e-02, -1.6487e-01,  8.6051e-02,\n",
              "                        1.1008e-01,  4.0923e-03, -1.7334e-02,  1.3388e-01,  5.6122e-02,\n",
              "                       -5.9470e-02,  1.1079e-02, -8.8417e-02,  4.0105e-01,  2.7681e-02,\n",
              "                       -2.3479e-01, -1.8082e-01,  3.9495e-02, -4.4580e-02,  1.8824e-02,\n",
              "                       -5.0309e-02,  1.3632e-01,  4.7118e-02,  1.9154e-01, -2.1543e-02,\n",
              "                        2.7639e-01, -1.3581e-01, -1.2445e-01,  5.4491e-02,  2.3224e-01,\n",
              "                       -1.0629e-01, -3.4019e-02,  3.6787e-02,  5.3947e-02,  7.4294e-02,\n",
              "                        2.4510e-02, -2.0172e-01, -8.2737e-02, -2.5785e-01, -1.3053e-02,\n",
              "                        4.6674e-02, -1.1665e-01,  7.2356e-02,  2.3447e-02, -4.9499e-02,\n",
              "                       -1.6864e-01,  6.6822e-02,  1.1451e-01,  4.2180e-02,  6.6398e-02,\n",
              "                       -3.0254e-02, -6.4218e-02, -1.8723e-01,  4.7069e-02, -9.8600e-02,\n",
              "                        1.4769e-02, -1.8076e-01, -1.0371e-03,  2.2087e-02], device='cuda:0')),\n",
              "              ('rnn.weight_ih_l1',\n",
              "               tensor([[ 0.1779, -0.0530, -0.1423,  ...,  0.0029,  0.0353, -0.1080],\n",
              "                       [-0.0130, -0.0148, -0.0188,  ..., -0.0792, -0.0115,  0.0397],\n",
              "                       [-0.2479,  0.0065,  0.0711,  ..., -0.1074, -0.1127, -0.2531],\n",
              "                       ...,\n",
              "                       [ 0.0632,  0.0200,  0.1579,  ..., -0.0571, -0.0629, -0.0360],\n",
              "                       [ 0.0731, -0.0274,  0.1602,  ...,  0.0699, -0.0824,  0.2425],\n",
              "                       [ 0.0568, -0.0938,  0.0007,  ..., -0.2161, -0.0985,  0.1245]],\n",
              "                      device='cuda:0')),\n",
              "              ('rnn.weight_hh_l1',\n",
              "               tensor([[-0.0706, -0.2852,  0.0813,  ...,  0.0464,  0.0602, -0.2315],\n",
              "                       [-0.1263, -0.4162, -0.1630,  ..., -0.0541,  0.0082,  0.1808],\n",
              "                       [ 0.0458, -0.3944, -0.0861,  ...,  0.1239, -0.0873, -0.0340],\n",
              "                       ...,\n",
              "                       [ 0.1995,  0.0552,  0.1243,  ..., -0.8549,  0.1392, -0.0957],\n",
              "                       [-0.0528, -0.0779,  0.3091,  ..., -0.0096, -1.2309, -0.0795],\n",
              "                       [ 0.3348,  0.0966,  0.2416,  ...,  0.2184, -0.1173, -0.7901]],\n",
              "                      device='cuda:0')),\n",
              "              ('rnn.bias_ih_l1',\n",
              "               tensor([ 0.2430,  0.2602,  0.2756,  0.2118, -0.3100,  0.1499,  0.1475,  0.2983,\n",
              "                        0.1667,  0.4021,  0.1931,  0.3272,  0.1964,  0.1786,  0.2291,  0.2439,\n",
              "                        0.1152,  0.2989,  0.2304,  0.2468, -0.0018,  0.1916, -0.2735,  0.0446,\n",
              "                        0.3237,  0.3313,  0.1548,  0.2678, -0.2055,  0.1602,  0.2447,  0.2705,\n",
              "                        0.3027,  0.2360,  0.3385,  0.3754,  0.1940,  0.1318, -0.5318,  0.2563,\n",
              "                        0.1574,  0.1455,  0.2208, -0.5803,  0.2014, -0.3553,  0.1141,  0.2195,\n",
              "                        0.1589,  0.1547,  0.3139,  0.1562,  0.2969, -0.2685, -0.2992,  0.2337,\n",
              "                        0.1066,  0.2326,  0.1797,  0.2125,  0.2195,  0.1167, -0.1637,  0.2180,\n",
              "                        0.2199,  0.1895,  0.1731,  0.2043,  0.1494,  0.2698,  0.1592, -0.3727,\n",
              "                        0.1787, -0.3550,  0.4061,  0.1983,  0.2078,  0.3204,  0.2993, -0.0921,\n",
              "                        0.1424,  0.0388,  0.3240,  0.1378,  0.1839,  0.2138, -0.4193, -0.4412,\n",
              "                        0.1693, -0.1901, -0.1809,  0.2929,  0.1534,  0.2996,  0.3674,  0.1265,\n",
              "                        0.1790,  0.1774,  0.1635,  0.2444,  0.1246,  0.2955,  0.2962,  0.1916,\n",
              "                        0.2527,  0.2869,  0.2218,  0.1760,  0.1483,  0.1440,  0.2191, -0.0095,\n",
              "                        0.2121,  0.2156,  0.2564,  0.3086,  0.0434,  0.1808,  0.2530,  0.2407,\n",
              "                       -0.4428,  0.0444,  0.2661,  0.3237, -0.1872,  0.2296,  0.2299,  0.2621,\n",
              "                        0.1561, -0.1582,  0.3185, -0.1299,  0.1251, -0.0223,  0.1052, -0.1388,\n",
              "                        0.1425,  0.2253, -0.0787,  0.1090, -0.0072, -0.1334, -0.1271, -0.1252,\n",
              "                       -0.1229, -0.0956, -0.2117, -0.0607, -0.0571, -0.0467,  0.2796,  0.2891,\n",
              "                        0.3389,  0.2213, -0.0186, -0.2130,  0.4589,  0.0450,  0.0008,  0.0076,\n",
              "                       -0.1395, -0.1511,  0.3249,  0.4110, -0.0009,  0.0040, -0.1390, -0.2309,\n",
              "                        0.2784, -0.0453, -0.0931, -0.2507, -0.0689,  0.2897, -0.0929,  0.0223,\n",
              "                        0.3977,  0.1277,  0.3859,  0.2879, -0.0544,  0.3302,  0.0764, -0.1897,\n",
              "                       -0.1818, -0.0957, -0.1196,  0.2116, -0.1956, -0.2417,  0.4469, -0.2069,\n",
              "                       -0.1100, -0.0810, -0.0452, -0.0115, -0.0049,  0.0828,  0.1266,  0.1846,\n",
              "                       -0.1080,  0.2161,  0.2542, -0.0679,  0.2224, -0.1744, -0.1559,  0.4619,\n",
              "                        0.0705,  0.0997,  0.1163,  0.6553, -0.0855, -0.0789,  0.0570, -0.0644,\n",
              "                       -0.1006,  0.1921,  0.0618, -0.0694,  0.0023,  0.0384,  0.3860, -0.0078,\n",
              "                       -0.2263,  0.1566, -0.1573,  0.1566, -0.0472,  0.2755, -0.2204, -0.0735,\n",
              "                       -0.0537, -0.0877,  0.0560,  0.0205, -0.1883, -0.1357, -0.0043,  0.1441,\n",
              "                        0.0529, -0.0519,  0.1549, -0.1646,  0.4834, -0.0063, -0.0237, -0.0541,\n",
              "                        0.2003,  0.1931, -0.2470,  0.3587,  0.1944, -0.0064,  0.1158,  0.5025,\n",
              "                        0.0365,  0.0217, -0.0057,  0.0385,  0.0081,  0.0070, -0.0348, -0.0094,\n",
              "                       -0.0747,  0.0165,  0.0055, -0.0337, -0.0284,  0.0064,  0.0318, -0.0412,\n",
              "                       -0.0274, -0.0217,  0.0379, -0.0246,  0.0041, -0.0242, -0.0121,  0.0145,\n",
              "                        0.0353, -0.0216, -0.0030, -0.0154, -0.0380, -0.0204,  0.0313, -0.0258,\n",
              "                        0.0188, -0.0130,  0.0174,  0.0088, -0.0204, -0.0071,  0.0249, -0.0142,\n",
              "                        0.0962,  0.0010, -0.0273,  0.0082,  0.0376, -0.0128,  0.0311, -0.0087,\n",
              "                       -0.0428, -0.0052,  0.0513, -0.0138,  0.0255, -0.0058, -0.0326, -0.0249,\n",
              "                       -0.0133, -0.0155,  0.0330,  0.0499,  0.0113,  0.0068, -0.0326, -0.0127,\n",
              "                        0.0149,  0.0752, -0.0595, -0.0503, -0.0014,  0.0561,  0.0198,  0.0064,\n",
              "                        0.0077, -0.0061,  0.0027, -0.0475,  0.0201,  0.0166,  0.0148,  0.0228,\n",
              "                        0.0039,  0.0122,  0.0212,  0.0160,  0.0236, -0.0386,  0.0290, -0.0332,\n",
              "                       -0.0216, -0.0117, -0.0237, -0.0302, -0.0364, -0.0217,  0.0790,  0.0029,\n",
              "                       -0.0130,  0.1223, -0.0193, -0.0132, -0.0233, -0.0287,  0.0208, -0.0036,\n",
              "                       -0.0200,  0.0012,  0.0062, -0.0199, -0.0126, -0.0065,  0.0222, -0.0229,\n",
              "                        0.0038,  0.0179,  0.0452, -0.0347,  0.0462,  0.0290, -0.0433, -0.0171,\n",
              "                       -0.0226,  0.0108,  0.0219, -0.0051, -0.0070, -0.0101, -0.0020,  0.0465],\n",
              "                      device='cuda:0')),\n",
              "              ('rnn.bias_hh_l1',\n",
              "               tensor([ 2.1011e-01,  2.7690e-01,  2.6485e-01,  1.9185e-01, -2.5343e-01,\n",
              "                        1.4331e-01,  1.4108e-01,  2.6045e-01,  1.3662e-01,  4.1790e-01,\n",
              "                        1.3943e-01,  2.9513e-01,  2.0267e-01,  1.8959e-01,  2.3335e-01,\n",
              "                        2.5760e-01,  1.3657e-01,  2.8017e-01,  2.7140e-01,  2.6864e-01,\n",
              "                       -2.7660e-02,  1.9665e-01, -2.2347e-01,  3.4104e-02,  3.0457e-01,\n",
              "                        3.5096e-01,  1.9560e-01,  2.4622e-01, -2.0731e-01,  1.6091e-01,\n",
              "                        2.4000e-01,  3.0522e-01,  3.1020e-01,  2.2976e-01,  3.3855e-01,\n",
              "                        3.9854e-01,  1.9459e-01,  1.0290e-01, -5.3581e-01,  2.4107e-01,\n",
              "                        1.1031e-01,  1.8051e-01,  2.4671e-01, -5.9749e-01,  1.9362e-01,\n",
              "                       -3.3727e-01,  1.5595e-01,  2.2956e-01,  1.0281e-01,  1.7047e-01,\n",
              "                        2.8110e-01,  1.9418e-01,  2.4470e-01, -2.9051e-01, -3.2437e-01,\n",
              "                        2.7779e-01,  1.2185e-01,  2.1034e-01,  1.5639e-01,  2.2025e-01,\n",
              "                        2.2469e-01,  1.6264e-01, -1.7419e-01,  2.0581e-01,  1.9811e-01,\n",
              "                        1.6691e-01,  1.4146e-01,  2.2476e-01,  2.0130e-01,  2.2936e-01,\n",
              "                        1.8872e-01, -3.8133e-01,  1.7082e-01, -3.8480e-01,  4.1905e-01,\n",
              "                        1.4702e-01,  1.7668e-01,  2.7549e-01,  2.6773e-01, -1.3774e-01,\n",
              "                        1.2560e-01,  8.8411e-02,  3.2025e-01,  1.1696e-01,  1.5860e-01,\n",
              "                        1.7396e-01, -3.6725e-01, -4.6498e-01,  1.8813e-01, -1.9174e-01,\n",
              "                       -1.6404e-01,  2.4426e-01,  1.6979e-01,  3.0479e-01,  4.2662e-01,\n",
              "                        1.3082e-01,  1.7343e-01,  2.2970e-01,  1.8969e-01,  2.5540e-01,\n",
              "                        1.5802e-01,  2.8427e-01,  2.7783e-01,  1.7543e-01,  2.1858e-01,\n",
              "                        2.2001e-01,  2.4783e-01,  2.0371e-01,  1.6827e-01,  8.9093e-02,\n",
              "                        2.3962e-01,  3.2073e-03,  2.0239e-01,  2.4107e-01,  2.8925e-01,\n",
              "                        2.8419e-01,  6.6813e-02,  1.8112e-01,  2.1689e-01,  1.9254e-01,\n",
              "                       -4.7728e-01,  4.0164e-02,  2.7148e-01,  3.4031e-01, -1.7591e-01,\n",
              "                        2.4093e-01,  2.3776e-01,  2.1740e-01,  1.6664e-01, -1.7805e-01,\n",
              "                        3.6601e-01, -1.4590e-01,  1.3656e-01, -2.4902e-02,  1.1578e-01,\n",
              "                       -1.6880e-01,  1.6010e-01,  1.7799e-01, -8.9717e-02,  1.2938e-01,\n",
              "                       -6.0411e-02, -1.4915e-01, -1.2780e-01, -1.2406e-01, -7.3178e-02,\n",
              "                       -3.9174e-02, -2.4063e-01, -6.7000e-02, -1.3067e-02, -5.9065e-02,\n",
              "                        2.2653e-01,  2.4585e-01,  3.4891e-01,  1.8935e-01, -1.4072e-02,\n",
              "                       -1.8634e-01,  4.3710e-01,  7.0416e-02,  2.9190e-02,  3.0155e-02,\n",
              "                       -1.6253e-01, -1.0935e-01,  3.2673e-01,  4.0175e-01, -2.6361e-02,\n",
              "                        1.9460e-02, -1.0846e-01, -1.8606e-01,  2.6938e-01, -2.2900e-02,\n",
              "                       -1.3262e-01, -1.9847e-01, -9.7851e-03,  2.8366e-01, -8.8861e-02,\n",
              "                        1.1051e-02,  3.9343e-01,  1.1258e-01,  4.2794e-01,  3.1228e-01,\n",
              "                       -4.5712e-02,  3.5232e-01,  7.2064e-02, -1.5599e-01, -1.8886e-01,\n",
              "                       -8.2555e-02, -1.3009e-01,  2.2405e-01, -2.0885e-01, -2.1204e-01,\n",
              "                        4.1042e-01, -1.7291e-01, -6.7971e-02, -5.4417e-02, -6.9192e-02,\n",
              "                       -4.1389e-02, -3.7090e-02,  1.0915e-01,  8.9211e-02,  1.8580e-01,\n",
              "                       -1.2353e-01,  2.2477e-01,  2.3273e-01, -1.5660e-02,  2.1488e-01,\n",
              "                       -1.6027e-01, -1.5767e-01,  4.8662e-01,  7.1250e-02,  1.1409e-01,\n",
              "                        1.3897e-01,  6.2981e-01, -8.8857e-02, -6.6122e-02,  5.4069e-02,\n",
              "                       -8.9863e-02, -6.4152e-02,  1.9905e-01,  7.5434e-02, -6.9514e-02,\n",
              "                        2.6249e-02,  2.3839e-02,  3.4044e-01,  9.3522e-03, -2.4651e-01,\n",
              "                        1.5994e-01, -1.6148e-01,  1.7040e-01, -4.1651e-02,  2.5985e-01,\n",
              "                       -2.3454e-01, -7.4772e-02, -3.3783e-02, -4.7966e-02,  6.3547e-02,\n",
              "                        2.4454e-02, -2.1632e-01, -1.3786e-01, -7.1103e-04,  1.2140e-01,\n",
              "                        5.3644e-02, -9.5940e-02,  1.8888e-01, -1.3363e-01,  4.5051e-01,\n",
              "                       -5.0645e-03, -7.4511e-02, -5.4498e-02,  2.0035e-01,  1.7453e-01,\n",
              "                       -2.5453e-01,  3.0900e-01,  1.5423e-01, -3.0248e-02,  1.0931e-01,\n",
              "                        5.1981e-01,  5.1831e-02,  1.8704e-02,  3.5490e-03,  2.3961e-02,\n",
              "                        6.9265e-03,  2.2732e-02,  5.4397e-03, -4.3015e-03, -4.2659e-02,\n",
              "                        1.2563e-02,  8.5610e-03,  1.6761e-03, -9.2776e-03,  1.9296e-02,\n",
              "                       -1.9963e-01,  1.8815e-02,  6.5546e-02, -1.4555e-02,  2.0605e-02,\n",
              "                       -2.0218e-02,  4.0887e-02, -1.5259e-02,  3.0837e-03, -9.6235e-03,\n",
              "                        2.5257e-02,  1.1366e-02,  3.4692e-02, -1.1093e-02,  6.4974e-03,\n",
              "                       -9.0810e-02, -1.3744e-02, -5.9713e-03,  4.2370e-02,  2.3432e-02,\n",
              "                        1.6006e-02,  1.8432e-02,  1.2764e-02, -1.8005e-02, -1.4665e-02,\n",
              "                        2.8224e-02,  9.9040e-02, -3.0904e-02, -7.6513e-04,  1.3132e-02,\n",
              "                       -1.5338e-02, -2.0681e-02,  1.3644e-04, -3.0666e-02, -4.3071e-04,\n",
              "                       -1.3576e-02,  3.8281e-02, -7.9147e-03,  4.4884e-02,  2.5214e-02,\n",
              "                       -1.7591e-02,  1.3052e-02,  5.4208e-03, -2.0119e-02, -1.8092e-02,\n",
              "                        3.9131e-02, -1.8251e-02,  2.5236e-01,  3.0996e-02,  9.3797e-03,\n",
              "                        1.7411e-02, -2.1457e-01, -8.4342e-02, -8.7858e-02,  3.4318e-03,\n",
              "                        1.2040e-02, -2.3925e-02, -1.5197e-03,  2.1816e-02, -1.4926e-02,\n",
              "                        4.2025e-02,  1.4246e-01,  2.8067e-02,  5.7382e-03,  3.9548e-02,\n",
              "                        1.8285e-02,  2.5195e-02, -1.2321e-03,  2.5771e-02, -2.6005e-02,\n",
              "                        3.3824e-03, -2.2322e-02, -5.1094e-03, -1.5123e-02, -2.9946e-02,\n",
              "                        1.2401e-02,  1.0320e-02, -2.9477e-02,  4.5892e-02, -2.7168e-02,\n",
              "                        4.3802e-03, -4.0433e-02, -2.0080e-02,  5.2964e-02, -6.6711e-03,\n",
              "                        4.8077e-03, -1.4424e-02, -2.1049e-02,  2.9059e-02, -3.9603e-02,\n",
              "                       -3.1904e-03, -2.2636e-03, -1.1012e-02,  2.0181e-02, -3.4100e-01,\n",
              "                       -3.0728e-02, -2.3597e-03,  1.8716e-02,  9.0901e-03, -5.8745e-02,\n",
              "                       -1.4061e-02,  2.4862e-02,  3.1343e-02,  1.2238e-02, -2.1736e-02,\n",
              "                        3.2877e-02,  6.4345e-03,  5.6343e-02, -3.9342e-03, -2.4982e-02,\n",
              "                        2.1529e-02,  2.5277e-03, -3.0389e-02,  1.1976e-02], device='cuda:0')),\n",
              "              ('rnn.weight_ih_l1_reverse',\n",
              "               tensor([[ 0.0207,  0.0406,  0.0865,  ...,  0.0415,  0.0068,  0.0030],\n",
              "                       [-0.0635,  0.0084, -0.0304,  ..., -0.0429,  0.0431, -0.0480],\n",
              "                       [ 0.1044, -0.1145,  0.0267,  ...,  0.3065,  0.0333,  0.1027],\n",
              "                       ...,\n",
              "                       [-0.1313,  0.1491, -0.0340,  ..., -0.0386, -0.2612,  0.1549],\n",
              "                       [-0.0347,  0.0043, -0.0092,  ..., -0.3465, -0.0910,  0.0268],\n",
              "                       [-0.0607, -0.4206,  0.1069,  ...,  0.1558, -0.1082, -0.0116]],\n",
              "                      device='cuda:0')),\n",
              "              ('rnn.weight_hh_l1_reverse',\n",
              "               tensor([[ 0.0483,  0.0466, -0.0363,  ...,  0.0591,  0.0327, -0.1029],\n",
              "                       [-0.0562, -0.0343,  0.1678,  ..., -0.0623,  0.0201,  0.0462],\n",
              "                       [-0.0505,  0.0148,  0.2705,  ...,  0.0467,  0.0324, -0.2118],\n",
              "                       ...,\n",
              "                       [ 0.2096,  0.0032, -0.0638,  ...,  0.3614, -0.1463, -0.0093],\n",
              "                       [ 0.1512,  0.0302,  0.1181,  ..., -0.0433, -0.4662,  0.1657],\n",
              "                       [ 0.1227, -0.0070, -0.1486,  ...,  0.1213,  0.1616, -1.2419]],\n",
              "                      device='cuda:0')),\n",
              "              ('rnn.bias_ih_l1_reverse',\n",
              "               tensor([-4.4791e-02, -1.5791e-01, -1.7343e-02,  6.2131e-03,  5.0289e-02,\n",
              "                        6.4858e-03, -1.2035e-01,  1.2967e-01,  7.2210e-02, -8.9016e-02,\n",
              "                        2.0269e-01,  7.2827e-02, -1.0796e-02,  1.8307e-01,  1.2079e-01,\n",
              "                        1.0387e-01,  2.0420e-01,  1.6341e-01,  5.9121e-02, -1.0457e-01,\n",
              "                        1.9553e-01,  7.2377e-02,  4.1754e-02,  1.0360e-01,  5.1194e-02,\n",
              "                        5.0621e-02, -1.2301e-02, -2.0928e-02,  7.6289e-03, -9.2031e-03,\n",
              "                       -6.0716e-02,  1.1558e-01,  1.5171e-01,  1.4395e-01,  1.6312e-01,\n",
              "                        6.8398e-02, -5.9809e-02, -1.9748e-01,  1.9128e-01,  1.1028e-02,\n",
              "                       -1.1825e-02, -1.4507e-02,  9.1983e-02,  9.8377e-02,  2.6286e-02,\n",
              "                       -4.6461e-03, -3.3379e-02, -3.0026e-01,  4.4859e-02,  1.8793e-01,\n",
              "                        6.8563e-02, -2.0813e-01,  3.0549e-01,  9.5709e-03, -1.6297e-01,\n",
              "                        5.8631e-02,  4.4050e-03, -1.7473e-02,  2.1899e-01,  3.6318e-02,\n",
              "                        5.5958e-02, -4.6263e-02, -2.4336e-02,  9.9787e-02,  7.8473e-02,\n",
              "                        2.1376e-01,  4.2088e-02,  5.5054e-02,  4.3679e-02,  1.5787e-01,\n",
              "                       -7.0918e-02,  1.0990e-01, -5.7822e-03, -1.3955e-02,  2.1978e-01,\n",
              "                        1.4449e-01,  7.2509e-02,  5.9349e-02,  1.5005e-02,  8.3436e-02,\n",
              "                        1.3940e-01, -9.8500e-02,  9.9156e-02,  1.2640e-01,  5.0340e-02,\n",
              "                        5.8389e-02,  8.4942e-02, -9.0734e-03, -7.6610e-02,  9.9031e-02,\n",
              "                        1.5334e-02,  1.8082e-01,  1.1412e-01,  7.5021e-02,  1.9334e-01,\n",
              "                        2.2460e-01, -2.3281e-02,  9.1113e-02,  4.9672e-02, -7.1572e-02,\n",
              "                        1.0631e-01, -2.1480e-02,  5.8946e-02, -5.7911e-03,  4.1556e-02,\n",
              "                       -1.4999e-02,  3.9964e-02,  4.2638e-02, -1.8861e-01,  7.9765e-02,\n",
              "                       -9.9612e-02,  3.6343e-02,  7.6580e-02, -3.6946e-03,  8.3007e-02,\n",
              "                        7.0890e-02, -3.4120e-02,  8.3696e-02, -1.4830e-01,  2.1032e-01,\n",
              "                       -4.1904e-02, -5.5081e-02,  1.2164e-01, -1.1868e-01, -1.8297e-02,\n",
              "                        2.5067e-01,  9.2162e-02,  7.1808e-02,  3.3014e-01,  3.3440e-01,\n",
              "                        2.3532e-01,  2.5805e-01,  3.4581e-01,  3.4476e-01,  2.1727e-01,\n",
              "                        2.6761e-01, -2.0362e-02,  2.8919e-01, -4.6843e-03,  3.4301e-01,\n",
              "                        3.6642e-01,  2.7016e-01,  1.1028e-01,  2.2655e-01,  1.9398e-01,\n",
              "                        2.3707e-01,  2.3145e-01,  1.2596e-01,  3.3419e-01,  2.9535e-01,\n",
              "                        1.4428e-01,  2.8878e-01,  3.5800e-01,  1.8634e-01,  4.1060e-01,\n",
              "                        2.7952e-01,  3.4140e-01,  3.4493e-01,  3.4811e-01,  2.3773e-01,\n",
              "                        8.7898e-02,  2.3673e-01,  3.6266e-01,  2.5747e-01,  4.1307e-01,\n",
              "                        1.9233e-01,  1.3656e-01,  4.2659e-01,  4.3547e-01,  1.5132e-01,\n",
              "                        1.8435e-01,  2.2649e-01,  3.1572e-01,  3.2142e-01,  3.6395e-01,\n",
              "                        4.2806e-02,  1.2402e-01,  2.7925e-01,  3.7459e-01,  2.3491e-01,\n",
              "                        3.1243e-01,  2.7971e-01,  3.5157e-01,  2.5381e-01,  2.7674e-01,\n",
              "                        3.0523e-01,  2.2511e-01,  3.6876e-01,  2.9959e-01,  5.8309e-02,\n",
              "                        2.5127e-01,  2.2348e-01,  1.4562e-01, -1.0825e-02,  2.7103e-01,\n",
              "                        2.9193e-01,  2.6638e-01,  3.7648e-02,  2.1025e-01,  2.4244e-01,\n",
              "                        3.6562e-01,  3.4602e-01,  2.6599e-01,  2.5969e-01,  2.4401e-01,\n",
              "                        2.9349e-01,  3.0335e-01,  2.3614e-01,  1.2896e-01,  9.1349e-02,\n",
              "                        2.1069e-01,  3.4069e-01,  1.3556e-01,  2.7057e-01,  3.2451e-01,\n",
              "                        1.8078e-01,  3.8615e-01,  3.0611e-01,  3.3028e-01,  1.9097e-01,\n",
              "                        1.6946e-01,  3.0598e-01,  3.5619e-01,  1.6199e-01,  2.9786e-01,\n",
              "                        2.0118e-01,  3.8241e-01,  3.8610e-01,  2.8580e-01,  3.1768e-01,\n",
              "                        2.4424e-01,  3.0449e-01,  3.2963e-01,  1.0170e-01,  3.3781e-01,\n",
              "                        2.6850e-01,  3.7571e-01,  2.1983e-01,  2.9254e-01,  3.0803e-01,\n",
              "                        3.1587e-01,  8.2611e-02,  3.6402e-01,  2.2776e-01,  1.0642e-01,\n",
              "                        2.2807e-01,  2.2030e-01,  3.6112e-01,  1.7970e-01,  3.3809e-01,\n",
              "                        2.2872e-01,  2.1413e-01,  3.1625e-01,  2.8426e-01,  3.3258e-01,\n",
              "                        2.4459e-01, -3.0325e-02, -2.6911e-02,  7.2840e-02, -8.8805e-03,\n",
              "                       -3.0654e-02, -3.6730e-02,  3.5996e-02, -1.9465e-03,  4.6496e-02,\n",
              "                        2.5154e-02, -8.6395e-03,  3.4187e-02,  2.7373e-03,  5.8236e-04,\n",
              "                       -5.7775e-02,  8.1853e-03,  5.3987e-02, -3.9123e-02, -1.4809e-02,\n",
              "                        6.2513e-02,  1.7906e-02, -2.2958e-02, -4.1459e-02, -3.0343e-02,\n",
              "                       -2.9690e-02,  7.5014e-03,  5.0394e-02, -1.6939e-02,  3.1744e-04,\n",
              "                        1.2201e-02, -8.1542e-02, -2.1819e-02, -2.0769e-02,  1.5619e-02,\n",
              "                       -4.7267e-02, -2.4555e-03,  1.5245e-02, -3.3140e-02,  1.1576e-02,\n",
              "                       -3.2797e-03, -1.3043e-02,  7.8076e-03,  1.6514e-02,  6.4991e-03,\n",
              "                       -2.2385e-02,  3.8430e-03,  3.6613e-03, -4.8845e-04, -1.4671e-01,\n",
              "                        8.9910e-02, -9.2030e-02,  6.2051e-03, -2.4905e-02,  3.4030e-02,\n",
              "                        2.8189e-02, -2.7753e-02,  1.3518e-02,  1.4384e-02,  4.4856e-02,\n",
              "                       -6.6503e-04,  3.2395e-02,  8.5146e-02,  8.7328e-03, -3.6932e-02,\n",
              "                       -9.9954e-02, -2.8098e-02, -5.1649e-03,  6.0336e-02, -1.4208e-02,\n",
              "                        2.6203e-02, -3.0625e-02,  1.9019e-02, -9.5074e-03,  4.2153e-02,\n",
              "                       -1.9628e-02,  3.4285e-02,  9.4259e-03, -2.9718e-02, -1.0438e-02,\n",
              "                        3.9321e-02,  2.6672e-02,  8.8378e-03,  2.6809e-02, -3.0272e-02,\n",
              "                        8.9050e-03, -2.0007e-02,  3.7844e-02,  1.7401e-02,  3.6066e-02,\n",
              "                        3.8793e-02, -2.6117e-02,  5.5158e-02,  1.8259e-02, -2.4939e-02,\n",
              "                        2.9784e-02,  2.7504e-02,  3.0271e-04,  1.1639e-02,  9.6742e-03,\n",
              "                        1.0634e-02,  3.5438e-02,  4.6009e-03,  1.3787e-02,  1.5688e-02,\n",
              "                       -8.8101e-02,  1.2070e-02,  2.2280e-02, -1.4126e-02, -2.6141e-02,\n",
              "                       -1.8281e-03,  6.1326e-02,  3.9253e-02, -1.2003e-04, -1.4834e-03,\n",
              "                       -2.4197e-02,  1.5522e-03,  9.4889e-03, -1.6988e-02,  3.3296e-02,\n",
              "                        1.8960e-02,  4.5285e-02, -1.7138e-02, -1.2793e-02,  5.3195e-02,\n",
              "                       -8.0296e-02,  2.0869e-02,  2.5624e-02, -3.9261e-02], device='cuda:0')),\n",
              "              ('rnn.bias_hh_l1_reverse',\n",
              "               tensor([-0.1011, -0.1475, -0.0106,  0.0075,  0.0099,  0.0276, -0.1141,  0.1066,\n",
              "                        0.0393, -0.0809,  0.1660,  0.0638, -0.0024,  0.1360,  0.0828,  0.1011,\n",
              "                        0.1746,  0.1935,  0.0883, -0.1255,  0.1425,  0.0931, -0.0111,  0.1063,\n",
              "                        0.0268,  0.0242, -0.0239, -0.0108,  0.0073, -0.0232, -0.1015,  0.1540,\n",
              "                        0.1427,  0.1293,  0.1797,  0.0888, -0.0836, -0.2007,  0.1441, -0.0024,\n",
              "                       -0.0580, -0.0116,  0.0869,  0.0660,  0.0356,  0.0294, -0.0519, -0.3162,\n",
              "                        0.0750,  0.1805,  0.0186, -0.2381,  0.3103,  0.0030, -0.1436,  0.0765,\n",
              "                       -0.0054,  0.0147,  0.2258, -0.0171,  0.0137, -0.0843, -0.0503,  0.1162,\n",
              "                        0.0937,  0.1733,  0.0361,  0.0984,  0.0415,  0.1551, -0.0660,  0.1058,\n",
              "                        0.0016, -0.0431,  0.2012,  0.2061,  0.0289,  0.0689, -0.0258,  0.0750,\n",
              "                        0.1575, -0.0722,  0.1261,  0.1332,  0.0585,  0.0917,  0.0741, -0.0509,\n",
              "                       -0.1063,  0.0958,  0.0671,  0.1724,  0.1008,  0.0908,  0.1806,  0.2523,\n",
              "                       -0.0045,  0.1064,  0.0365, -0.0729,  0.0934, -0.0122,  0.0823, -0.0249,\n",
              "                        0.0419, -0.0436,  0.0259,  0.0237, -0.1898,  0.0853, -0.1259,  0.0522,\n",
              "                        0.1067,  0.0390,  0.1140,  0.0719,  0.0242,  0.0636, -0.1161,  0.1646,\n",
              "                       -0.0954, -0.0283,  0.1053, -0.0957, -0.0129,  0.2672,  0.0825,  0.1167,\n",
              "                        0.3443,  0.3259,  0.2303,  0.2829,  0.2980,  0.3114,  0.1739,  0.2550,\n",
              "                        0.0165,  0.3522, -0.0149,  0.3586,  0.3239,  0.2528,  0.0707,  0.2008,\n",
              "                        0.1998,  0.2614,  0.2547,  0.1670,  0.3024,  0.3206,  0.1627,  0.2589,\n",
              "                        0.3816,  0.1959,  0.3946,  0.2857,  0.3574,  0.3414,  0.3241,  0.2045,\n",
              "                        0.0994,  0.2912,  0.3811,  0.2861,  0.4354,  0.1968,  0.1199,  0.3627,\n",
              "                        0.4365,  0.1983,  0.1377,  0.2210,  0.3257,  0.2977,  0.3824,  0.0807,\n",
              "                        0.0956,  0.2804,  0.3999,  0.2242,  0.2749,  0.2345,  0.3067,  0.2101,\n",
              "                        0.2658,  0.2892,  0.2305,  0.3366,  0.2546,  0.0482,  0.2504,  0.2241,\n",
              "                        0.1190, -0.0086,  0.3093,  0.3078,  0.2599,  0.0398,  0.1959,  0.2364,\n",
              "                        0.3859,  0.3338,  0.2294,  0.2430,  0.2192,  0.2453,  0.3150,  0.2819,\n",
              "                        0.1692,  0.0982,  0.1854,  0.3243,  0.1079,  0.2734,  0.3112,  0.2033,\n",
              "                        0.4216,  0.2896,  0.3465,  0.2083,  0.1611,  0.2719,  0.3383,  0.1560,\n",
              "                        0.3287,  0.2450,  0.3400,  0.4040,  0.2841,  0.3215,  0.2478,  0.3584,\n",
              "                        0.2895,  0.1210,  0.2991,  0.2186,  0.3378,  0.2253,  0.3185,  0.3225,\n",
              "                        0.2918,  0.0904,  0.3611,  0.2015,  0.1491,  0.2510,  0.2107,  0.3718,\n",
              "                        0.1986,  0.3276,  0.2869,  0.1962,  0.3524,  0.2285,  0.3064,  0.2412,\n",
              "                       -0.0354,  0.0123, -0.0287, -0.0290,  0.0069, -0.0478,  0.0224, -0.0138,\n",
              "                        0.0365,  0.0166,  0.0530,  0.0441,  0.0195,  0.0090, -0.0117,  0.0557,\n",
              "                        0.1376, -0.0225, -0.0024,  0.0023,  0.0484, -0.0381,  0.0524,  0.0133,\n",
              "                       -0.0648,  0.0128, -0.0017, -0.0202, -0.0224, -0.0151,  0.0832,  0.0476,\n",
              "                       -0.0188, -0.0677, -0.0223,  0.0083,  0.0592, -0.0246, -0.0534,  0.0124,\n",
              "                       -0.0069,  0.0741,  0.0715,  0.0112, -0.0555,  0.0407,  0.0729, -0.4921,\n",
              "                       -0.0121,  0.1178, -0.1607, -0.0377, -0.0289,  0.1126,  0.0584, -0.0060,\n",
              "                       -0.0133, -0.0130,  0.0348, -0.0812,  0.0254, -0.0214, -0.0500, -0.0215,\n",
              "                       -0.0578,  0.0211,  0.0162,  0.0342, -0.0841, -0.0076,  0.0403,  0.0075,\n",
              "                       -0.0030,  0.0447, -0.0489, -0.0132, -0.1262,  0.0693,  0.0929,  0.0287,\n",
              "                       -0.0136, -0.0124,  0.0837,  0.0228,  0.0101, -0.0109, -0.0616, -0.0167,\n",
              "                       -0.0320,  0.1058,  0.0110,  0.0690, -0.0403, -0.0061,  0.0627, -0.0177,\n",
              "                        0.0147, -0.0231, -0.0127, -0.0357,  0.0116,  0.0323, -0.0418,  0.0248,\n",
              "                       -0.0301,  0.0425, -0.0794,  0.0664,  0.0055, -0.0248,  0.0289,  0.0148,\n",
              "                        0.0118,  0.0436, -0.0530, -0.0324,  0.0280, -0.0186,  0.0521,  0.0512,\n",
              "                        0.0296,  0.0085, -0.0137,  0.0600, -0.0548, -0.0024, -0.0026,  0.0120],\n",
              "                      device='cuda:0')),\n",
              "              ('rnn.weight_ih_l2',\n",
              "               tensor([[ 0.1414, -0.0645,  0.0371,  ...,  0.1113, -0.1497, -0.0203],\n",
              "                       [-0.0755, -0.0022,  0.0028,  ...,  0.0051, -0.0677,  0.0300],\n",
              "                       [ 0.0019, -0.0605, -0.1079,  ..., -0.0392,  0.1669, -0.0271],\n",
              "                       ...,\n",
              "                       [-0.0398, -0.0250,  0.0413,  ...,  0.0600, -0.1320, -0.0400],\n",
              "                       [ 0.0400,  0.0486,  0.1160,  ...,  0.0403, -0.0988, -0.0871],\n",
              "                       [-0.0274,  0.0368,  0.0616,  ...,  0.0231,  0.0121, -0.0291]],\n",
              "                      device='cuda:0')),\n",
              "              ('rnn.weight_hh_l2',\n",
              "               tensor([[ 0.0703, -0.0299, -0.2217,  ...,  0.1007,  0.1604, -0.0214],\n",
              "                       [-0.1933, -0.1467, -0.1556,  ...,  0.0919, -0.0552, -0.0437],\n",
              "                       [-0.3066,  0.1121,  0.0943,  ..., -0.2972, -0.3448, -0.1593],\n",
              "                       ...,\n",
              "                       [-0.0557, -0.1449, -0.1874,  ..., -0.8400,  0.0229, -0.0417],\n",
              "                       [-0.3929, -0.0554,  0.1119,  ...,  0.0992, -1.0104, -0.0425],\n",
              "                       [-0.1231,  0.0476, -0.0986,  ...,  0.0350,  0.1633, -2.7927]],\n",
              "                      device='cuda:0')),\n",
              "              ('rnn.bias_ih_l2',\n",
              "               tensor([ 5.2642e-01,  4.6613e-01,  2.0943e-01,  1.5939e-01,  3.8412e-01,\n",
              "                        6.0383e-01,  4.9950e-01,  7.0371e-01,  2.2697e-01,  4.3619e-01,\n",
              "                       -3.4688e-02,  4.2646e-01,  3.4423e-01,  6.2597e-01,  6.1170e-01,\n",
              "                        3.9449e-01,  4.5552e-01,  3.4278e-01, -3.0498e-01,  3.0389e-01,\n",
              "                        5.1216e-01,  6.6505e-01,  5.5556e-01,  3.3924e-01, -2.2791e-01,\n",
              "                        4.5513e-01,  3.6483e-01,  1.2837e-01,  5.5434e-01,  1.6914e-01,\n",
              "                        1.0151e-02,  1.6908e-01,  1.9523e-01,  2.2561e-01,  2.2385e-01,\n",
              "                        3.7753e-01,  5.4860e-01,  3.1552e-01,  5.4999e-01, -6.0234e-02,\n",
              "                        3.6190e-01, -3.2914e-01,  6.2389e-01,  7.7211e-01,  2.2596e-01,\n",
              "                        1.6856e-01,  4.2511e-01,  4.8806e-01,  7.5961e-02,  3.0695e-01,\n",
              "                        5.8417e-01,  1.1036e-01,  2.0687e-01,  5.2516e-01,  3.3675e-01,\n",
              "                        1.3216e-01,  5.5409e-01,  4.5520e-01, -4.7855e-02, -1.9467e-01,\n",
              "                        3.9146e-01,  3.2963e-01,  2.2344e-01,  3.6918e-01,  7.2062e-01,\n",
              "                        3.1663e-01,  4.3795e-01,  4.5825e-01, -2.5819e-02,  1.1369e-01,\n",
              "                        4.3324e-01,  7.0542e-01,  1.7820e-01,  6.6469e-01, -1.0436e-02,\n",
              "                        3.4294e-01,  5.1613e-01,  4.0336e-01,  1.9905e-01,  4.5045e-01,\n",
              "                        2.7535e-03,  4.9354e-01,  4.9706e-01,  2.9761e-01,  1.0207e-01,\n",
              "                       -3.3106e-01,  9.8132e-03,  2.2465e-01,  3.4619e-01,  5.9825e-01,\n",
              "                       -1.3508e-01,  5.2270e-01,  5.8073e-01,  1.5287e-01,  4.4622e-01,\n",
              "                        4.6282e-01,  5.2771e-01,  1.1743e-01, -1.2663e-01,  1.4106e-01,\n",
              "                        1.3378e-01, -9.0500e-02,  8.6560e-02, -1.1276e-02,  6.6696e-01,\n",
              "                       -4.4343e-01,  3.5970e-01,  5.2850e-01,  5.8032e-01,  1.1969e-01,\n",
              "                        3.9147e-01,  4.4589e-01,  2.5237e-01,  3.7859e-01,  1.8183e-01,\n",
              "                        2.6757e-01,  6.5448e-01,  1.2495e-01,  3.1392e-01,  5.3201e-01,\n",
              "                        4.7045e-01,  5.6771e-01,  5.5712e-01,  3.7868e-01,  3.6904e-01,\n",
              "                        3.0887e-01,  1.3730e-01, -1.1731e-01,  6.0749e-01,  6.1654e-01,\n",
              "                        3.5080e-02,  3.2416e-01,  3.6533e-01,  4.2912e-01,  4.7488e-01,\n",
              "                        3.8047e-01,  1.3422e-01,  6.2810e-01,  6.4445e-03,  5.7977e-02,\n",
              "                        1.8689e-01,  5.2264e-01,  7.3927e-01,  4.4155e-01,  5.5125e-01,\n",
              "                        4.6180e-01,  2.7668e-01,  4.5952e-01,  7.5569e-01,  5.7425e-01,\n",
              "                        7.3959e-01,  9.2026e-01,  1.0406e-01,  7.1340e-01,  3.4237e-01,\n",
              "                        2.3438e-01,  5.2254e-01,  3.4017e-01,  7.2927e-01, -3.1235e-01,\n",
              "                        4.1102e-01,  5.6250e-01,  3.1203e-01,  2.8629e-01,  4.5437e-01,\n",
              "                        2.5473e-01,  1.8545e-01,  1.1149e-01,  5.5063e-01,  1.8031e-01,\n",
              "                        6.8053e-01,  2.9315e-01,  5.2611e-01,  5.8388e-01,  3.2947e-01,\n",
              "                        4.6860e-01, -1.4805e-01,  5.1484e-01,  4.3800e-01,  4.5786e-01,\n",
              "                        3.4806e-01,  6.9226e-01,  3.6259e-01,  3.5292e-01,  6.8008e-01,\n",
              "                        5.6358e-01,  1.7772e-01,  1.3563e-02,  2.3648e-01, -3.0545e-02,\n",
              "                        3.3452e-01,  5.5843e-01,  6.8510e-01,  2.7186e-01,  5.5593e-01,\n",
              "                       -1.7067e-01,  1.5260e-01,  3.1419e-01,  3.9436e-01,  6.4634e-01,\n",
              "                        1.1504e-01,  8.4267e-02,  2.6450e-01,  3.1775e-01,  5.9434e-01,\n",
              "                        2.8105e-01,  3.6577e-01,  5.8826e-01,  3.2969e-01,  4.7471e-01,\n",
              "                        4.0341e-01,  6.6009e-01,  3.1995e-01,  5.3744e-01, -5.7794e-02,\n",
              "                        5.4997e-01,  5.2848e-01,  1.1728e-01,  2.2070e-01,  4.5994e-02,\n",
              "                        8.4695e-01,  5.3166e-01,  4.4639e-01,  3.4165e-01,  4.2954e-01,\n",
              "                        3.6406e-01,  1.9453e-01,  1.8524e-01,  1.3385e+00,  2.3525e-01,\n",
              "                        3.2692e-01,  4.0356e-01,  6.8318e-01,  1.8005e-01, -3.7272e-02,\n",
              "                        4.5007e-01,  5.0606e-01,  5.1736e-01,  4.0007e-01,  2.5487e-01,\n",
              "                        6.6970e-01,  8.2715e-01,  2.2345e-01,  2.8730e-01,  6.7777e-01,\n",
              "                       -1.5827e-02,  2.2213e-01,  2.8041e-01,  2.4964e-01,  4.1700e-01,\n",
              "                        6.9788e-01,  4.7006e-01,  2.8097e-01,  1.5094e-01,  1.1075e-01,\n",
              "                        4.5197e-01,  3.3715e-02,  4.3127e-03,  6.1701e-02,  1.8063e-02,\n",
              "                       -2.0884e-02,  2.8606e-02, -1.3890e-02, -8.3746e-03, -3.4572e-02,\n",
              "                       -2.0623e-03, -1.8137e-02, -1.5898e-02, -2.9675e-02, -1.2390e-02,\n",
              "                        4.1421e-02,  5.4320e-03,  2.9897e-03, -2.5612e-02, -3.9045e-02,\n",
              "                        2.3270e-02, -1.7452e-03, -1.5108e-02,  3.3402e-02, -3.7828e-02,\n",
              "                        2.9119e-02, -2.4248e-02,  3.0741e-02,  2.8558e-02, -5.7956e-04,\n",
              "                       -1.9935e-02,  3.4009e-02,  1.0000e-01,  2.6410e-02,  5.2317e-03,\n",
              "                        3.8908e-03,  7.8670e-03, -6.2010e-04,  3.9587e-02,  1.1559e-02,\n",
              "                       -3.1535e-02,  2.9498e-02,  8.5019e-02, -1.7534e-02, -1.5404e-02,\n",
              "                        3.0993e-02,  3.2539e-02,  1.2139e-02,  4.3274e-03, -3.3574e-03,\n",
              "                       -8.7785e-04, -4.2225e-03,  3.3369e-02,  5.7750e-03,  1.4056e-02,\n",
              "                       -2.0581e-02,  6.4701e-03, -1.1750e-02,  7.4335e-03, -5.0139e-02,\n",
              "                       -1.5125e-02,  1.3433e-02,  1.3032e-02,  1.4821e-02,  8.0424e-03,\n",
              "                        6.8678e-03,  4.9796e-03,  1.6893e-02, -2.4365e-02, -5.4813e-02,\n",
              "                        1.3996e-02,  3.3886e-02,  1.4052e-02,  4.8058e-03, -1.4157e-02,\n",
              "                       -5.5775e-02, -5.5649e-02,  4.7246e-03, -1.2069e-02, -3.7194e-03,\n",
              "                        8.7367e-04,  3.1583e-02,  2.7488e-02, -7.1929e-03, -4.8621e-03,\n",
              "                        7.6527e-02,  8.1620e-02,  1.8192e-02,  2.1882e-02, -2.4934e-02,\n",
              "                       -1.3866e-02, -5.1236e-02,  6.8567e-03,  1.2074e-02, -5.7751e-03,\n",
              "                       -9.3148e-03, -1.1089e-02,  4.2260e-02,  5.1567e-02,  7.4236e-02,\n",
              "                       -1.4701e-02,  2.8418e-02,  1.0923e-02,  2.7725e-02,  4.8559e-02,\n",
              "                        1.7177e-02,  1.0363e-02, -4.6475e-02,  2.2158e-02, -9.4997e-03,\n",
              "                       -5.6536e-03, -2.4732e-02,  2.6794e-02, -3.1022e-02, -1.1421e-02,\n",
              "                       -1.2791e-02, -9.4728e-03,  1.5880e-02,  5.5377e-02,  2.0505e-02,\n",
              "                        1.5401e-02,  3.2391e-02,  1.6304e-02,  3.1921e-02, -9.0880e-03,\n",
              "                        4.0787e-02,  4.1489e-02,  5.1539e-02,  2.7411e-02], device='cuda:0')),\n",
              "              ('rnn.bias_hh_l2',\n",
              "               tensor([ 5.1779e-01,  4.4494e-01,  2.3333e-01,  1.7316e-01,  4.0397e-01,\n",
              "                        5.7531e-01,  4.7165e-01,  6.8366e-01,  2.6741e-01,  4.1798e-01,\n",
              "                       -2.7762e-02,  4.5661e-01,  3.9362e-01,  6.3663e-01,  6.4682e-01,\n",
              "                        4.1509e-01,  4.6123e-01,  3.5566e-01, -3.1430e-01,  3.1663e-01,\n",
              "                        5.2080e-01,  6.6795e-01,  5.4330e-01,  3.4715e-01, -1.8711e-01,\n",
              "                        4.8275e-01,  3.5532e-01,  1.7825e-01,  5.7063e-01,  1.7833e-01,\n",
              "                       -3.0017e-02,  1.8894e-01,  1.6502e-01,  2.6637e-01,  1.8886e-01,\n",
              "                        3.7739e-01,  5.4542e-01,  2.7352e-01,  5.3390e-01, -6.0574e-02,\n",
              "                        3.8225e-01, -2.9641e-01,  6.4987e-01,  8.0500e-01,  2.6286e-01,\n",
              "                        1.7624e-01,  4.5068e-01,  5.0855e-01,  8.3877e-02,  3.3497e-01,\n",
              "                        5.9174e-01,  7.4555e-02,  1.4802e-01,  5.3268e-01,  3.4611e-01,\n",
              "                        1.7717e-01,  5.3369e-01,  4.5286e-01, -9.3455e-02, -2.2320e-01,\n",
              "                        3.8041e-01,  2.7788e-01,  1.6556e-01,  3.6879e-01,  7.0097e-01,\n",
              "                        3.0118e-01,  4.1507e-01,  4.5095e-01, -8.1327e-02,  1.0775e-01,\n",
              "                        4.4084e-01,  7.0429e-01,  1.8908e-01,  6.6243e-01, -2.8509e-02,\n",
              "                        3.5076e-01,  5.2161e-01,  3.7941e-01,  2.1847e-01,  4.1064e-01,\n",
              "                        6.9103e-03,  4.6281e-01,  4.6539e-01,  2.7732e-01,  8.3582e-02,\n",
              "                       -3.1501e-01,  3.6477e-02,  2.0539e-01,  3.5383e-01,  5.7635e-01,\n",
              "                       -1.0893e-01,  4.5832e-01,  5.3423e-01,  1.1093e-01,  4.7186e-01,\n",
              "                        5.2066e-01,  5.2027e-01,  1.3380e-01, -1.2952e-01,  1.6303e-01,\n",
              "                        1.6611e-01, -9.7320e-02,  1.0740e-01, -2.4541e-03,  6.7780e-01,\n",
              "                       -4.8861e-01,  3.4343e-01,  5.3090e-01,  5.5811e-01,  9.9889e-02,\n",
              "                        3.5738e-01,  3.9003e-01,  2.4086e-01,  3.2421e-01,  1.4971e-01,\n",
              "                        2.6953e-01,  6.8838e-01,  9.0801e-02,  3.7504e-01,  4.9170e-01,\n",
              "                        4.3283e-01,  6.0663e-01,  5.5530e-01,  3.9137e-01,  3.6776e-01,\n",
              "                        3.6017e-01,  1.0833e-01, -9.3218e-02,  6.3470e-01,  5.9953e-01,\n",
              "                        5.1085e-02,  2.8687e-01,  3.5036e-01,  4.3137e-01,  4.5036e-01,\n",
              "                        4.0228e-01,  1.5004e-01,  6.4513e-01, -8.3755e-04,  4.7777e-02,\n",
              "                        2.0588e-01,  4.7411e-01,  7.6082e-01,  4.6157e-01,  4.9160e-01,\n",
              "                        4.9933e-01,  2.9656e-01,  4.6238e-01,  7.0667e-01,  5.5428e-01,\n",
              "                        7.4370e-01,  9.1361e-01,  1.2242e-01,  7.0640e-01,  3.8230e-01,\n",
              "                        2.7840e-01,  5.1886e-01,  3.1522e-01,  7.0333e-01, -3.3466e-01,\n",
              "                        4.2601e-01,  5.5740e-01,  2.7388e-01,  2.7854e-01,  4.6521e-01,\n",
              "                        2.7038e-01,  1.6866e-01,  1.4718e-01,  5.2478e-01,  2.0322e-01,\n",
              "                        6.3662e-01,  2.5240e-01,  4.9420e-01,  6.0259e-01,  3.5089e-01,\n",
              "                        4.6608e-01, -1.5381e-01,  5.5301e-01,  4.4645e-01,  4.7878e-01,\n",
              "                        3.4393e-01,  6.8046e-01,  3.8951e-01,  3.4681e-01,  6.9160e-01,\n",
              "                        5.7968e-01,  1.3026e-01,  1.0977e-02,  1.9175e-01, -3.2200e-02,\n",
              "                        2.9530e-01,  5.6430e-01,  6.8570e-01,  2.4454e-01,  5.0964e-01,\n",
              "                       -1.1732e-01,  1.5182e-01,  3.0099e-01,  3.7861e-01,  6.2957e-01,\n",
              "                        8.3250e-02,  9.5450e-02,  2.8667e-01,  2.9760e-01,  6.2206e-01,\n",
              "                        3.4204e-01,  3.3826e-01,  6.1395e-01,  2.8316e-01,  5.3767e-01,\n",
              "                        4.3166e-01,  6.5600e-01,  3.0554e-01,  4.9887e-01, -2.6748e-02,\n",
              "                        6.0616e-01,  5.2786e-01,  1.0979e-01,  2.5688e-01,  9.1503e-02,\n",
              "                        8.3485e-01,  5.3580e-01,  4.2919e-01,  3.4915e-01,  4.7531e-01,\n",
              "                        3.5331e-01,  1.9160e-01,  1.3775e-01,  1.3210e+00,  2.2372e-01,\n",
              "                        2.8994e-01,  4.6042e-01,  7.1530e-01,  1.8693e-01, -3.7039e-02,\n",
              "                        5.0130e-01,  5.1749e-01,  4.5871e-01,  3.5869e-01,  2.5091e-01,\n",
              "                        6.5467e-01,  8.1519e-01,  2.6029e-01,  2.5261e-01,  6.7996e-01,\n",
              "                        1.4735e-02,  2.2290e-01,  2.9203e-01,  1.9623e-01,  3.8480e-01,\n",
              "                        7.0667e-01,  4.8874e-01,  2.3199e-01,  1.2142e-01,  8.6676e-02,\n",
              "                        4.7553e-01,  4.7712e-03,  2.8072e-02, -9.7932e-02,  8.1798e-03,\n",
              "                       -1.5172e-02, -4.9280e-03, -1.3324e-02,  6.8392e-03, -1.9891e-02,\n",
              "                        1.9372e-02,  8.8404e-02,  2.1156e-02,  3.1376e-02,  6.2602e-03,\n",
              "                       -1.2941e-02,  6.2445e-02, -1.0303e-02, -7.6067e-03,  1.5841e-01,\n",
              "                       -6.5468e-03,  1.7381e-02,  3.0997e-02, -1.6405e-02,  6.8803e-02,\n",
              "                        1.3873e-01, -2.1281e-02,  5.2937e-02, -4.8015e-02, -7.6077e-03,\n",
              "                        3.4105e-03, -2.9288e-02, -1.9808e-01, -7.0878e-02,  4.5207e-02,\n",
              "                       -3.2757e-02,  4.4188e-02, -4.0028e-02, -1.9508e-02, -1.3787e-02,\n",
              "                        9.1770e-02,  8.4074e-03,  9.2347e-02, -2.9799e-02, -2.0059e-02,\n",
              "                       -5.7787e-02, -1.0114e-02,  4.5917e-02, -1.7550e-02, -6.2816e-02,\n",
              "                       -2.9190e-02,  2.1513e-02,  7.4473e-02, -1.8132e-02, -5.1085e-03,\n",
              "                       -2.9064e-02,  2.4952e-03, -2.0971e-02,  4.1504e-02,  1.3566e-02,\n",
              "                       -2.2621e-02, -1.9658e-03, -7.8735e-02,  4.7821e-02,  1.6442e-03,\n",
              "                       -3.9664e-02, -1.9751e-02,  1.8384e-03, -5.6572e-02,  1.1042e-01,\n",
              "                        2.5510e-02,  6.9572e-02, -3.0328e-02, -2.2610e-03,  6.3845e-02,\n",
              "                        1.0596e-01, -2.0193e-02,  3.1232e-02,  4.6957e-03, -7.4355e-02,\n",
              "                        1.2215e-02, -7.2964e-02, -1.0953e-02, -8.6636e-05, -1.1072e-02,\n",
              "                       -7.5237e-02, -6.5068e-02, -4.2087e-02,  9.5217e-03, -3.6226e-02,\n",
              "                        1.8442e-02, -8.3996e-02, -4.9674e-02, -2.3706e-02, -1.4630e-02,\n",
              "                       -3.2343e-02, -1.3746e-02,  3.5834e-03, -3.1066e-02, -1.0939e-01,\n",
              "                       -9.2144e-04, -3.3369e-02, -1.2622e-01,  3.6036e-02, -6.8664e-02,\n",
              "                        8.3939e-03, -3.0004e-01, -1.0265e-01,  2.8318e-02,  3.2082e-02,\n",
              "                       -1.4585e-02,  4.5921e-02, -3.5283e-02,  2.1297e-02, -4.7676e-02,\n",
              "                        2.0626e-02,  8.8245e-03,  6.0324e-03, -1.0999e-01,  4.9433e-03,\n",
              "                       -2.2395e-04, -8.9490e-03,  1.1165e-02,  8.1759e-03,  3.2466e-02,\n",
              "                        5.2368e-03,  5.5023e-02,  6.8259e-03,  3.7672e-03], device='cuda:0')),\n",
              "              ('rnn.weight_ih_l2_reverse',\n",
              "               tensor([[-0.0210,  0.0012,  0.0127,  ..., -0.0114,  0.0103, -0.0039],\n",
              "                       [ 0.0038,  0.0131,  0.0223,  ..., -0.0091,  0.0320,  0.0083],\n",
              "                       [ 0.0132, -0.0250, -0.0043,  ..., -0.0358, -0.0076, -0.0844],\n",
              "                       ...,\n",
              "                       [-0.0067,  0.0698,  0.0662,  ..., -0.0166, -0.8740, -0.0985],\n",
              "                       [ 0.0281,  0.1697,  0.0475,  ..., -0.0631, -0.1087, -0.0186],\n",
              "                       [ 0.2393,  0.1149, -0.1548,  ..., -0.2591,  0.0562, -0.1203]],\n",
              "                      device='cuda:0')),\n",
              "              ('rnn.weight_hh_l2_reverse',\n",
              "               tensor([[ 0.0227, -0.0329, -0.0118,  ..., -0.0232,  0.0201, -0.0343],\n",
              "                       [ 0.0068,  0.0090,  0.0157,  ...,  0.0008,  0.0108, -0.0045],\n",
              "                       [-0.0285, -0.0343, -0.0108,  ...,  0.0129, -0.0241, -0.0132],\n",
              "                       ...,\n",
              "                       [ 0.0249, -0.0095, -0.0225,  ..., -0.0294, -0.0092,  0.0318],\n",
              "                       [-0.0272, -0.0195, -0.0134,  ...,  0.0032,  0.0270, -0.0314],\n",
              "                       [-0.0144, -0.0141,  0.0047,  ..., -0.0018,  0.0236,  0.0132]],\n",
              "                      device='cuda:0')),\n",
              "              ('rnn.bias_ih_l2_reverse',\n",
              "               tensor([-4.9632e-01, -5.7009e-01, -1.1693e-01, -3.1526e-01, -3.4848e-01,\n",
              "                       -4.3773e-01, -2.4986e-01, -7.9657e-01, -1.4578e-01, -3.0419e-01,\n",
              "                       -1.8934e-01,  4.2661e-03, -5.5822e-01, -3.1809e-01, -3.8359e-01,\n",
              "                       -3.3311e-01, -1.9263e-01, -2.6554e-01, -3.4386e-01, -5.9387e-01,\n",
              "                       -2.6775e-01, -2.6497e-01, -6.4080e-01, -1.8371e-01, -3.3417e-01,\n",
              "                       -5.7086e-01, -1.8715e-01, -3.4634e-01, -9.5201e-02, -4.8325e-01,\n",
              "                       -3.7143e-01, -7.1009e-01, -1.6113e-01, -7.9707e-01, -3.6971e-01,\n",
              "                       -2.4579e-01, -2.5773e-01, -2.3981e-01, -8.6454e-01, -4.1712e-01,\n",
              "                       -3.7485e-01, -2.7201e-01, -4.8872e-01, -4.1602e-01, -8.1514e-01,\n",
              "                       -1.7603e-01, -5.5445e-01, -4.1480e-01, -3.4724e-01, -3.4593e-01,\n",
              "                       -1.9241e-01, -4.1206e-01, -4.6346e-01, -6.8220e-01, -2.7692e-01,\n",
              "                       -2.3502e-01, -2.2277e-01, -3.3566e-01, -6.1550e-01, -1.9325e-01,\n",
              "                       -4.0387e-01, -2.9379e-01, -6.2297e-01, -4.7263e-01, -5.2427e-01,\n",
              "                       -2.2645e-01, -2.2997e-01, -4.1650e-01, -5.5891e-01, -3.3065e-01,\n",
              "                       -4.5901e-01, -5.6477e-01, -6.3797e-01, -4.1556e-01, -2.5070e-01,\n",
              "                       -2.4003e-01, -2.9630e-01, -4.7646e-01, -4.8445e-01, -8.2413e-01,\n",
              "                       -2.5864e-01, -8.0294e-01, -4.4021e-01, -6.0105e-01, -4.6213e-01,\n",
              "                       -7.7935e-01, -3.6899e-01, -5.6612e-01, -1.0948e+00, -3.3439e-01,\n",
              "                       -8.6909e-01, -4.2092e-01, -5.0483e-01, -1.6741e-01, -4.7596e-01,\n",
              "                       -5.2538e-01, -1.9931e-01, -3.8318e-01, -4.2677e-01, -5.7563e-01,\n",
              "                       -5.0809e-01, -4.4224e-01, -5.3912e-01, -5.6681e-01, -2.3154e-01,\n",
              "                       -6.4312e-01, -2.0617e-01, -2.0027e-01, -1.2986e-01, -2.1606e-01,\n",
              "                       -4.7398e-01, -5.6274e-01, -1.7554e-01, -8.3773e-01, -5.1264e-01,\n",
              "                       -4.1968e-01, -5.8374e-02, -6.5923e-01, -1.3306e-01, -1.1978e+00,\n",
              "                       -4.4574e-01, -4.5178e-01, -3.7456e-01, -5.8371e-01, -1.9905e-01,\n",
              "                       -1.2161e-01, -2.8751e-01, -2.9329e-01,  1.1082e+00,  7.0664e-01,\n",
              "                        1.4959e+00,  9.9049e-01,  8.7838e-01,  6.4276e-01,  8.5296e-01,\n",
              "                        9.0532e-01,  5.7589e-01,  6.9522e-01,  1.1496e+00,  1.3165e+00,\n",
              "                        6.7967e-01,  1.2791e-01,  1.0789e+00,  1.2252e+00,  9.8788e-01,\n",
              "                        1.1708e+00,  1.1810e+00,  8.4572e-01,  1.2591e+00,  8.9453e-01,\n",
              "                        7.9422e-01,  9.7521e-01,  1.4170e+00,  9.9443e-01,  4.2127e-01,\n",
              "                        1.0173e+00,  2.0335e-01,  1.2643e+00,  1.1458e+00,  1.1332e+00,\n",
              "                        8.8423e-01,  6.1339e-01,  8.9803e-01,  5.2555e-01,  5.1684e-02,\n",
              "                        9.3078e-01,  8.1792e-01,  1.2792e+00,  6.3398e-01,  9.3701e-01,\n",
              "                        1.0116e+00,  7.1981e-01,  6.3538e-01,  1.0413e+00,  1.2297e+00,\n",
              "                        1.0930e+00,  1.0194e+00,  1.3360e+00,  9.2263e-01,  1.0390e+00,\n",
              "                        1.1287e+00,  7.1944e-01,  9.8269e-01,  8.8845e-01,  1.3562e+00,\n",
              "                        1.4022e+00,  5.2558e-01,  1.3211e-01,  9.9410e-01,  3.6276e-01,\n",
              "                        6.9688e-01, -3.4773e-02,  1.0825e+00,  1.0767e+00,  7.5088e-01,\n",
              "                        1.2295e+00,  6.1215e-01,  1.4030e+00,  1.2597e+00,  1.0709e+00,\n",
              "                        6.6948e-01,  1.0761e+00,  8.2757e-01,  8.5536e-01,  1.0344e+00,\n",
              "                        1.0691e+00,  8.0821e-01,  7.4526e-01,  8.5985e-01,  8.8069e-01,\n",
              "                        3.3536e-01,  1.0151e+00,  7.8755e-01,  9.8392e-01,  4.2571e-01,\n",
              "                        1.0002e+00,  6.5432e-01,  9.9512e-01,  7.6450e-01,  1.4336e+00,\n",
              "                        7.9668e-01,  7.7168e-01,  1.1270e+00,  8.1104e-01,  9.7100e-01,\n",
              "                        3.5375e-01,  9.5365e-01,  9.9247e-01,  7.6561e-01,  1.2612e+00,\n",
              "                        9.9582e-01,  1.2456e+00,  9.1293e-01,  1.0035e+00,  8.2484e-01,\n",
              "                        1.1426e+00,  1.1034e-01,  8.9329e-01,  1.3063e+00,  8.4415e-01,\n",
              "                        6.2433e-01,  3.4885e-01,  1.1119e+00,  9.0808e-01,  7.3614e-02,\n",
              "                        7.3086e-01,  8.2718e-01,  7.2562e-01,  1.0411e+00,  8.2978e-01,\n",
              "                        6.5534e-01,  1.1055e+00,  1.6736e-01,  1.1106e+00,  8.5541e-01,\n",
              "                        8.2834e-01, -1.2189e-02, -9.4093e-03, -6.6017e-02,  1.0398e-01,\n",
              "                       -1.1432e-02,  8.2635e-03, -2.0794e-02,  1.0855e-02,  1.9961e-02,\n",
              "                        2.6410e-03,  2.5699e-03, -2.1436e-01, -1.3841e-03,  7.6358e-03,\n",
              "                        2.0988e-03,  2.7103e-02, -8.7178e-03, -7.6290e-02, -4.5066e-02,\n",
              "                        2.6329e-02, -1.4162e-02, -2.8725e-02, -3.2720e-02,  8.7041e-03,\n",
              "                       -3.1482e-03, -2.4034e-02,  9.1869e-03, -5.6475e-02, -9.6902e-03,\n",
              "                        1.9245e-02, -6.8614e-04, -1.3948e-02, -4.4969e-03, -1.7741e-02,\n",
              "                        2.8432e-02,  1.1758e-02, -1.2984e-02,  7.5738e-03,  1.7736e-02,\n",
              "                       -8.0766e-03,  3.5908e-03, -9.1448e-03,  2.0817e-04, -2.4376e-02,\n",
              "                       -2.6231e-02,  2.2224e-02, -2.4343e-02,  3.2559e-03,  2.5418e-03,\n",
              "                        3.9851e-02,  1.8509e-03, -2.3640e-02, -5.1416e-03,  1.5947e-03,\n",
              "                       -2.1014e-02, -3.2838e-02,  3.4849e-02,  3.1696e-02, -9.3476e-03,\n",
              "                       -1.4118e-02, -1.5599e-02,  9.3617e-03,  1.8606e-02, -1.2306e-02,\n",
              "                        3.9622e-03,  1.1854e-02,  5.5177e-03, -4.0684e-02, -1.7643e-02,\n",
              "                       -6.8757e-03, -2.7158e-02,  1.7816e-03, -4.4491e-02,  2.9868e-02,\n",
              "                        2.4585e-02,  7.5226e-03, -2.8727e-02,  1.9413e-02,  2.3667e-02,\n",
              "                       -3.0659e-02,  1.7036e-02,  5.5039e-03,  9.0365e-04, -2.2788e-02,\n",
              "                       -8.1547e-03,  1.5638e-02, -1.6980e-03, -3.6226e-02, -3.5595e-02,\n",
              "                        1.6487e-02, -6.7586e-04,  2.1715e-03, -1.7569e-02,  2.0713e-03,\n",
              "                       -2.8727e-03,  1.1645e-02, -1.1936e-02, -1.0968e-02, -2.4524e-02,\n",
              "                       -9.7112e-03, -1.1081e-02,  8.7074e-02, -1.7445e-02, -6.8709e-02,\n",
              "                       -2.6340e-02, -2.5494e-02, -5.9282e-04, -2.6167e-02,  7.3565e-03,\n",
              "                       -6.5495e-03,  2.3083e-02, -1.0995e-02, -1.8662e-02,  1.7858e-02,\n",
              "                       -4.1214e-03, -9.0884e-03, -2.2302e-02, -1.0324e-02,  1.7025e-02,\n",
              "                        1.0315e-02,  4.7979e-03,  7.3743e-04,  1.2657e-02, -2.5241e-02,\n",
              "                        1.3298e-02, -4.9114e-02, -2.0952e-02,  1.9919e-02], device='cuda:0')),\n",
              "              ('rnn.bias_hh_l2_reverse',\n",
              "               tensor([-4.9082e-01, -6.2293e-01, -1.2476e-01, -3.1153e-01, -3.3639e-01,\n",
              "                       -4.4171e-01, -2.5387e-01, -8.2278e-01, -1.6671e-01, -3.1896e-01,\n",
              "                       -2.1665e-01, -1.3942e-02, -5.9667e-01, -3.0912e-01, -4.2302e-01,\n",
              "                       -3.3965e-01, -2.0213e-01, -2.4765e-01, -3.7861e-01, -5.7466e-01,\n",
              "                       -2.5131e-01, -2.6186e-01, -6.5462e-01, -1.8510e-01, -3.7813e-01,\n",
              "                       -5.5067e-01, -2.2768e-01, -2.9169e-01, -9.1632e-02, -4.6499e-01,\n",
              "                       -3.9479e-01, -7.0567e-01, -1.6800e-01, -7.6657e-01, -3.6392e-01,\n",
              "                       -2.3557e-01, -2.2982e-01, -2.4241e-01, -9.2399e-01, -4.2632e-01,\n",
              "                       -3.6512e-01, -2.8324e-01, -4.8874e-01, -4.5535e-01, -8.5359e-01,\n",
              "                       -1.5976e-01, -5.4726e-01, -4.5730e-01, -3.4934e-01, -3.2892e-01,\n",
              "                       -2.0056e-01, -4.0350e-01, -5.2264e-01, -6.6873e-01, -2.1605e-01,\n",
              "                       -2.2089e-01, -2.1150e-01, -3.7529e-01, -5.7560e-01, -2.2871e-01,\n",
              "                       -4.1926e-01, -2.8664e-01, -6.1512e-01, -5.3187e-01, -5.1330e-01,\n",
              "                       -2.0025e-01, -2.1415e-01, -3.7466e-01, -5.4071e-01, -3.2476e-01,\n",
              "                       -4.0806e-01, -5.6379e-01, -5.8145e-01, -4.0687e-01, -2.2730e-01,\n",
              "                       -2.2320e-01, -3.1495e-01, -5.1294e-01, -4.9412e-01, -8.4469e-01,\n",
              "                       -2.8372e-01, -8.3058e-01, -4.5369e-01, -6.1351e-01, -4.3228e-01,\n",
              "                       -8.1875e-01, -3.1310e-01, -6.1392e-01, -1.1028e+00, -3.5958e-01,\n",
              "                       -8.7528e-01, -3.9839e-01, -5.2313e-01, -1.8960e-01, -5.0308e-01,\n",
              "                       -5.0310e-01, -1.8940e-01, -3.9321e-01, -4.2076e-01, -5.8597e-01,\n",
              "                       -5.1139e-01, -4.2143e-01, -5.0947e-01, -5.5348e-01, -2.6346e-01,\n",
              "                       -6.6347e-01, -2.0013e-01, -1.9872e-01, -1.5949e-01, -1.8932e-01,\n",
              "                       -4.2859e-01, -5.4285e-01, -1.9655e-01, -8.3911e-01, -5.3556e-01,\n",
              "                       -4.2447e-01, -8.1743e-02, -6.3021e-01, -1.3576e-01, -1.2105e+00,\n",
              "                       -4.7454e-01, -4.4938e-01, -3.5928e-01, -5.3578e-01, -1.5693e-01,\n",
              "                       -1.3164e-01, -2.8598e-01, -2.9754e-01,  1.1070e+00,  6.9855e-01,\n",
              "                        1.4917e+00,  9.9743e-01,  8.6561e-01,  6.7922e-01,  7.8987e-01,\n",
              "                        9.0048e-01,  5.7036e-01,  6.4665e-01,  1.1803e+00,  1.3067e+00,\n",
              "                        6.4323e-01,  8.1583e-02,  1.0465e+00,  1.1761e+00,  9.7055e-01,\n",
              "                        1.1478e+00,  1.1892e+00,  8.6854e-01,  1.2881e+00,  9.4615e-01,\n",
              "                        7.5708e-01,  9.9558e-01,  1.4473e+00,  9.8685e-01,  4.3069e-01,\n",
              "                        1.0082e+00,  1.8261e-01,  1.2310e+00,  1.1422e+00,  1.1552e+00,\n",
              "                        8.9466e-01,  6.2444e-01,  8.5915e-01,  4.7026e-01,  2.4178e-02,\n",
              "                        8.8585e-01,  8.1511e-01,  1.3113e+00,  6.4666e-01,  9.0217e-01,\n",
              "                        9.7262e-01,  7.3781e-01,  6.3741e-01,  1.0355e+00,  1.2164e+00,\n",
              "                        1.0704e+00,  1.0074e+00,  1.3113e+00,  9.0458e-01,  1.0081e+00,\n",
              "                        1.1528e+00,  7.2630e-01,  9.8869e-01,  8.7653e-01,  1.3640e+00,\n",
              "                        1.4367e+00,  5.7114e-01,  1.2886e-01,  9.6217e-01,  3.9070e-01,\n",
              "                        7.1495e-01, -2.4843e-02,  1.0641e+00,  1.0815e+00,  7.2609e-01,\n",
              "                        1.2028e+00,  6.0043e-01,  1.3984e+00,  1.2992e+00,  1.0931e+00,\n",
              "                        6.9109e-01,  1.0758e+00,  8.3769e-01,  8.7129e-01,  1.0112e+00,\n",
              "                        1.0681e+00,  8.2826e-01,  7.4121e-01,  8.6657e-01,  8.7718e-01,\n",
              "                        3.5077e-01,  1.0606e+00,  8.2734e-01,  9.9485e-01,  3.9711e-01,\n",
              "                        1.0023e+00,  6.6597e-01,  1.0321e+00,  7.4281e-01,  1.4089e+00,\n",
              "                        7.7892e-01,  8.1711e-01,  1.1359e+00,  8.5130e-01,  9.8902e-01,\n",
              "                        3.4205e-01,  9.5470e-01,  9.9842e-01,  7.5123e-01,  1.2256e+00,\n",
              "                        9.9305e-01,  1.3050e+00,  9.1358e-01,  1.0441e+00,  8.1499e-01,\n",
              "                        1.1060e+00,  7.0939e-02,  9.0459e-01,  1.2737e+00,  8.0660e-01,\n",
              "                        6.6799e-01,  3.9753e-01,  1.0802e+00,  8.9833e-01,  9.9705e-02,\n",
              "                        7.8447e-01,  7.8380e-01,  7.7335e-01,  1.0400e+00,  8.8708e-01,\n",
              "                        7.0862e-01,  1.1145e+00,  1.4774e-01,  1.1096e+00,  8.3346e-01,\n",
              "                        8.4709e-01, -3.1014e-03, -2.3800e-03, -5.7884e-02,  3.6307e-02,\n",
              "                       -9.5323e-03,  4.8741e-03, -3.2897e-02,  2.0361e-03, -1.8152e-02,\n",
              "                        9.9955e-03, -1.4183e-02, -1.9232e-01, -5.0113e-03,  5.0947e-03,\n",
              "                        8.2932e-03,  1.2944e-02,  2.8201e-02, -4.1309e-02, -2.8685e-02,\n",
              "                       -1.3277e-03,  3.0760e-02, -3.0825e-02,  2.7049e-03,  2.9643e-02,\n",
              "                        1.2014e-02, -8.2296e-03, -2.4245e-02, -2.6353e-02,  2.7235e-02,\n",
              "                        7.6861e-03, -1.0576e-02, -4.7653e-03, -1.7277e-02, -3.7340e-03,\n",
              "                       -9.1936e-04,  1.2058e-02,  4.6939e-03,  1.9003e-02, -1.6674e-03,\n",
              "                       -9.7980e-03,  7.9277e-03,  1.5427e-02, -6.1694e-03,  3.5806e-03,\n",
              "                        1.2787e-03, -1.4255e-02, -1.2119e-02,  1.5461e-02, -3.6093e-03,\n",
              "                       -1.7322e-02, -2.1753e-02, -1.5666e-02, -4.7131e-03, -2.6103e-03,\n",
              "                       -1.7268e-02,  1.3663e-02,  5.2086e-04,  3.5267e-02, -5.2154e-03,\n",
              "                        5.6979e-03, -9.5443e-03, -7.0881e-03, -9.5253e-04,  1.4330e-03,\n",
              "                       -2.3441e-04, -1.5359e-02, -1.6254e-02, -1.7107e-02, -6.5631e-03,\n",
              "                       -1.5029e-03, -1.0376e-02, -6.8253e-03,  5.7686e-03,  1.2562e-02,\n",
              "                       -2.0868e-02, -2.6726e-02, -1.1885e-03,  5.3970e-03, -3.8968e-03,\n",
              "                       -5.6596e-03, -1.3215e-02,  1.0025e-02, -2.3876e-03, -2.1601e-04,\n",
              "                        2.2692e-03,  1.3410e-02,  6.9871e-03, -7.4934e-03,  5.4538e-04,\n",
              "                        2.3201e-02, -2.4466e-03,  8.6653e-04,  1.0487e-04,  2.5926e-02,\n",
              "                        4.7501e-03,  1.8831e-03,  3.0162e-02,  1.1617e-03, -7.4500e-03,\n",
              "                       -2.8904e-03,  2.3884e-03,  2.0735e-02, -2.5180e-03, -9.7587e-03,\n",
              "                        1.6981e-02, -9.1893e-05, -4.3705e-02, -2.2918e-02, -1.1826e-02,\n",
              "                        1.6258e-02,  8.2649e-03, -2.7159e-03,  1.3320e-02,  4.6400e-04,\n",
              "                       -4.1285e-04,  7.6090e-03,  2.7862e-02,  2.9957e-04, -3.3584e-02,\n",
              "                        1.8819e-03, -1.5137e-03,  9.6054e-03,  2.2744e-02, -7.1824e-03,\n",
              "                        1.0632e-02, -6.6789e-02, -1.4633e-02,  1.1942e-02], device='cuda:0')),\n",
              "              ('fc.weight',\n",
              "               tensor([[-1.8708e-04,  2.2237e-02,  6.9614e-03,  ...,  7.0659e-03,\n",
              "                        -2.2707e-03,  1.3414e-02],\n",
              "                       [-2.3364e-04,  2.3604e-03, -1.8847e-04,  ..., -3.4068e-04,\n",
              "                         7.2627e-04,  2.2350e-04],\n",
              "                       [ 1.8900e-03,  3.0774e-03,  6.6449e-04,  ...,  3.7727e-03,\n",
              "                         1.0510e-01,  5.2976e-05],\n",
              "                       ...,\n",
              "                       [-4.9364e-04,  3.4971e-03,  9.1916e-04,  ..., -5.2584e-03,\n",
              "                         1.1233e-01,  1.4940e-03],\n",
              "                       [-1.0620e-04,  2.2440e-03, -9.3982e-05,  ..., -2.8127e-04,\n",
              "                        -6.1929e-04,  2.0905e-04],\n",
              "                       [-1.2072e-03, -1.3050e-03,  2.5314e-05,  ...,  1.6644e-02,\n",
              "                         2.2046e-01, -5.4062e-03]], device='cuda:0')),\n",
              "              ('fc.bias',\n",
              "               tensor([ 1.9341e-03,  3.1260e-05, -3.2251e-04, -1.1182e-04,  1.0136e-04,\n",
              "                        1.0457e-03, -2.9226e-04,  7.0728e-05, -1.0949e-05, -7.5687e-05,\n",
              "                       -2.0605e-03, -1.3848e-03, -1.8223e-05, -5.0418e-05, -1.7863e-03,\n",
              "                        6.9658e-04, -1.0888e-04,  3.6919e-05, -5.5513e-05, -6.5170e-04,\n",
              "                        7.1133e-04,  9.8989e-05, -2.0388e-03, -2.3167e-03,  5.9398e-03,\n",
              "                        8.0904e-05, -2.1394e-03, -4.5408e-04, -4.9541e-05, -1.2653e-03,\n",
              "                       -1.7102e-04,  3.9947e-04,  1.1472e-03, -6.4536e-05, -6.6338e-05,\n",
              "                        3.8448e-05,  5.2074e-04, -1.0428e-04, -7.4728e-05,  1.2169e-03,\n",
              "                        2.9783e-04,  3.0117e-04, -2.2826e-03,  3.1377e-03,  9.0718e-03,\n",
              "                       -1.9361e-05, -3.8335e-04,  6.4643e-05,  9.2142e-05,  2.1024e-03,\n",
              "                       -7.8105e-04,  9.1972e-05, -9.0299e-04,  1.1980e-03,  1.4331e-05,\n",
              "                       -1.6699e-03, -1.4969e-04, -3.2654e-04,  2.0491e-03, -4.5234e-04,\n",
              "                        1.0889e-04, -1.1767e-04, -9.0911e-05, -1.0886e-04, -2.8956e-03,\n",
              "                       -3.7003e-04,  1.7096e-03,  1.3756e-03,  2.1919e-07,  4.8846e-04,\n",
              "                       -1.1757e-03,  6.1409e-04,  1.3806e-03,  2.6604e-04,  3.0166e-03,\n",
              "                        8.4481e-05,  2.2164e-03,  4.0785e-04,  6.9477e-03, -4.4788e-04,\n",
              "                       -4.1992e-03,  5.6687e-06,  3.0697e-03, -2.9261e-04,  4.2734e-05,\n",
              "                        2.0133e-03], device='cuda:0'))])}"
            ]
          },
          "metadata": {},
          "execution_count": 29
        }
      ]
    },
    {
      "cell_type": "code",
      "metadata": {
        "id": "A_hsmdEitgWt",
        "colab": {
          "base_uri": "https://localhost:8080/",
          "height": 295
        },
        "outputId": "7ffde184-594b-4a5f-f54a-ba20bc0f1268"
      },
      "source": [
        "plt.figure(figsize=(16, 4))\n",
        "plt.title(\"Training Loss Graph\")\n",
        "plt.xlabel(\"epochs\")\n",
        "plt.ylabel(\"loss\")\n",
        "plt.yscale(\"log\")\n",
        "plt.plot(SAVED_MODEL[\"loss_history\"])\n",
        "plt.show()"
      ],
      "execution_count": 30,
      "outputs": [
        {
          "output_type": "display_data",
          "data": {
            "image/png": "[encoded data removed]",
            "text/plain": [
              "<Figure size 1152x288 with 1 Axes>"
            ]
          },
          "metadata": {
            "needs_background": "light"
          }
        }
      ]
    },
    {
      "cell_type": "code",
      "metadata": {
        "id": "s8dr_JO1xcN6"
      },
      "source": [
        "def inference(dataset, model, batch_size): # ????????????????????????????????????\n",
        "    dataloader = DataLoader(dataset, batch_size=batch_size)\n",
        "    ts, dist, att = [], [], []\n",
        "    with torch.no_grad():\n",
        "        for batch in dataloader:\n",
        "            given = batch[\"given\"].cuda()\n",
        "            answer = batch[\"answer\"].cuda()\n",
        "            guess = model(given)\n",
        "            ts.append(np.array(batch[\"ts\"]))\n",
        "            dist.append(torch.abs(answer - guess).cpu().numpy()) # 예측값과 정답값의 차이를 기록\n",
        "            try:\n",
        "                att.append(np.array(batch[\"attack\"]))\n",
        "            except:\n",
        "                att.append(np.zeros(batch_size))\n",
        "            \n",
        "    return (\n",
        "        np.concatenate(ts),\n",
        "        np.concatenate(dist),\n",
        "        np.concatenate(att),\n",
        "    )\n",
        "   "
      ],
      "execution_count": 31,
      "outputs": []
    },
    {
      "cell_type": "code",
      "metadata": {
        "id": "5g1iie3kxvyV",
        "colab": {
          "base_uri": "https://localhost:8080/"
        },
        "outputId": "5286f81a-28ec-476f-dde2-3e03da0e92a5"
      },
      "source": [
        "%%time\n",
        "MODEL.eval() # nn.Module에서 train time과 eval time에서 수행하는 다른 작업을 수행할 수 있도록 switching 하는 함수라고 한다.\n",
        "valid_CHECK_TS, valid_CHECK_DIST, valid_CHECK_ATT = inference(validation_data, MODEL, BATCH_SIZE)\n",
        "# CHECK_DIST = 모든 시간대에서 전체 feature(field) 차이"
      ],
      "execution_count": 32,
      "outputs": [
        {
          "output_type": "stream",
          "name": "stdout",
          "text": [
            "CPU times: user 11.8 s, sys: 129 ms, total: 11.9 s\n",
            "Wall time: 11.9 s\n"
          ]
        }
      ]
    },
    {
      "cell_type": "code",
      "metadata": {
        "id": "rha9Aa8MyUsY"
      },
      "source": [
        "valid_ANOMALY_SCORE = np.mean(valid_CHECK_DIST, axis=1)\n",
        "# 그 차이의 평균을 스코어 지수로 표현"
      ],
      "execution_count": 33,
      "outputs": []
    },
    {
      "cell_type": "code",
      "metadata": {
        "id": "qzVj2r_iOM5L",
        "colab": {
          "base_uri": "https://localhost:8080/"
        },
        "outputId": "af75d04a-8a70-4003-bcdd-9817641f8832"
      },
      "source": [
        "valid_ANOMALY_SCORE.shape[0]"
      ],
      "execution_count": 34,
      "outputs": [
        {
          "output_type": "execute_result",
          "data": {
            "text/plain": [
              "86351"
            ]
          },
          "metadata": {},
          "execution_count": 34
        }
      ]
    },
    {
      "cell_type": "code",
      "metadata": {
        "id": "hUVwlv5PODlu",
        "colab": {
          "base_uri": "https://localhost:8080/"
        },
        "outputId": "f0071b38-df2a-4a14-80ac-1e7e380b0295"
      },
      "source": [
        "valid_ANOMALY_SCORE.max()"
      ],
      "execution_count": 35,
      "outputs": [
        {
          "output_type": "execute_result",
          "data": {
            "text/plain": [
              "0.07195654"
            ]
          },
          "metadata": {},
          "execution_count": 35
        }
      ]
    },
    {
      "cell_type": "code",
      "metadata": {
        "id": "BfHGD3ZTy-ms"
      },
      "source": [
        "def check_graph(xs, att, piece=2, THRESHOLD=None):# plot은 몇개 plot으로 그림 그려줄지 정하는거\n",
        "    l = xs.shape[0]\n",
        "    chunk = l // piece\n",
        "    fig, axs = plt.subplots(piece, figsize=(20, 4 * piece))\n",
        "    for i in range(piece):\n",
        "        L = i * chunk\n",
        "        R = min(L + chunk, l)\n",
        "        xticks = range(L, R)\n",
        "        axs[i].plot(xticks, xs[L:R])\n",
        "        if len(xs[L:R]) > 0:\n",
        "            peak = max(xs[L:R])\n",
        "            axs[i].plot(xticks, att[L:R] * peak * 0.3)\n",
        "        if THRESHOLD!=None:\n",
        "            axs[i].axhline(y=THRESHOLD, color='r')\n",
        "    plt.show()"
      ],
      "execution_count": 36,
      "outputs": []
    },
    {
      "cell_type": "code",
      "metadata": {
        "id": "Dp-M0B-nzMwW",
        "colab": {
          "base_uri": "https://localhost:8080/",
          "height": 918
        },
        "outputId": "6914958d-4362-45ca-a800-ced4efb0b122"
      },
      "source": [
        "THRESHOLD = 0.0168\n",
        "check_graph(valid_ANOMALY_SCORE, valid_CHECK_ATT, piece=4, THRESHOLD=THRESHOLD)\n",
        "# Threshold는 얼마로 지정할지 생각해봐야할듯 해당 수치 넘으면 공격, 아니면 정상\n",
        "# 주황색 그래프와 빨간색 그래프의 차이를 좁혀나가면서 Threshold를 정해주면됨"
      ],
      "execution_count": 37,
      "outputs": [
        {
          "output_type": "display_data",
          "data": {
            "image/png": "[encoded data removed]",
            "text/plain": [
              "<Figure size 1440x1152 with 4 Axes>"
            ]
          },
          "metadata": {
            "needs_background": "light"
          }
        }
      ]
    },
    {
      "cell_type": "code",
      "metadata": {
        "id": "NUC3YIFpzSVp"
      },
      "source": [
        "def put_labels(distance, threshold):\n",
        "    xs = np.zeros_like(distance)\n",
        "    xs[distance > threshold] = 1\n",
        "    return xs\n",
        "\n",
        "    #Threshold보다 distance가 크면 Attack 으로 간주하는 식"
      ],
      "execution_count": 38,
      "outputs": []
    },
    {
      "cell_type": "code",
      "metadata": {
        "id": "RqL74k-fvxY1",
        "colab": {
          "base_uri": "https://localhost:8080/"
        },
        "outputId": "37acd88e-49b5-4ae2-cd79-fa2af24bffc8"
      },
      "source": [
        "LABELS = put_labels(valid_ANOMALY_SCORE, THRESHOLD)\n",
        "LABELS, LABELS.shape"
      ],
      "execution_count": 39,
      "outputs": [
        {
          "output_type": "execute_result",
          "data": {
            "text/plain": [
              "(array([0., 0., 0., ..., 0., 0., 0.], dtype=float32), (86351,))"
            ]
          },
          "metadata": {},
          "execution_count": 39
        }
      ]
    },
    {
      "cell_type": "code",
      "metadata": {
        "id": "Yx4Mc5jEwgPb",
        "colab": {
          "base_uri": "https://localhost:8080/"
        },
        "outputId": "870df026-286d-4170-9863-64c5178d7242"
      },
      "source": [
        "ATTACK_LABELS = put_labels(np.array(raw_validation['attack']), threshold=THRESHOLD)\n",
        "ATTACK_LABELS, ATTACK_LABELS.shape"
      ],
      "execution_count": 40,
      "outputs": [
        {
          "output_type": "execute_result",
          "data": {
            "text/plain": [
              "(array([0, 0, 0, ..., 0, 0, 0]), (86400,))"
            ]
          },
          "metadata": {},
          "execution_count": 40
        }
      ]
    },
    {
      "cell_type": "code",
      "metadata": {
        "id": "1M535PlH1K1y"
      },
      "source": [
        "# 탐지 모델 - 윈도우 방식\n",
        "\n",
        "# 첫 시작의 몇 초는 판단을 내릴 수 없고 (예전 MA 식 만든거 생각해보면됨)\n",
        "# 데이터셋 불연속 시간 구간 체크 어려움\n",
        "# 위에서 보시는 바와 같이 정답에 비해 얻어낸 label의 수가 적습니다.\n",
        "\n"
      ],
      "execution_count": 41,
      "outputs": []
    },
    {
      "cell_type": "code",
      "metadata": {
        "id": "lYOFX2XBz-Xw"
      },
      "source": [
        "#정상은 0 비정상 1\n",
        "def fill_blank(check_ts, labels, total_ts):\n",
        "    def ts_generator():\n",
        "        for t in total_ts:\n",
        "            yield dateutil.parser.parse(t)\n",
        "\n",
        "    def label_generator():\n",
        "        for t, label in zip(check_ts, labels):\n",
        "            yield dateutil.parser.parse(t), label\n",
        "\n",
        "    g_ts = ts_generator()\n",
        "    g_label = label_generator()\n",
        "    final_labels = []\n",
        "\n",
        "    try:\n",
        "        current = next(g_ts)\n",
        "        ts_label, label = next(g_label)\n",
        "        while True:\n",
        "            if current > ts_label:\n",
        "                ts_label, label = next(g_label)\n",
        "                continue\n",
        "            elif current < ts_label:\n",
        "                final_labels.append(0)\n",
        "                current = next(g_ts)\n",
        "                continue\n",
        "            final_labels.append(label)\n",
        "            current = next(g_ts)\n",
        "            ts_label, label = next(g_label)\n",
        "    except StopIteration:\n",
        "        return np.array(final_labels, dtype=np.int8)"
      ],
      "execution_count": 42,
      "outputs": []
    },
    {
      "cell_type": "code",
      "metadata": {
        "id": "Qxay5OTo4zqO"
      },
      "source": [
        "###### valid_test용 #################\n",
        "THRESHOLD = 0.0153\n",
        "LABELS = put_labels(valid_ANOMALY_SCORE, THRESHOLD)\n",
        "ATTACK_LABELS = put_labels(np.array(raw_validation['attack']), threshold=THRESHOLD)"
      ],
      "execution_count": 43,
      "outputs": []
    },
    {
      "cell_type": "code",
      "metadata": {
        "id": "RpvstlZU8Omd",
        "colab": {
          "base_uri": "https://localhost:8080/",
          "height": 811,
          "referenced_widgets": [
            "3cd5f33c511b42289d8995e538a1171f",
            "a42d1bdaff7a46ccaddef7de196e55b9",
            "c8a4860347c44db0a0bb60a03a5ade0b",
            "47a536fa7d1647e398a8b262ade7b3f1",
            "ce431523ba5d4fe08e8de4a0021dbfb4",
            "1cf6f3a462ea47a2b1c77008e0b39b20",
            "6d7e94165b33476f9d8c8720cfc49c17",
            "ae7a3c9b977049d6952e8d502de07fa0",
            "1b33c7cc07564ebb908a0c54d336e19f",
            "e418480c79bd49238200bff4827f29c0",
            "16594faa32ef4d618653acacf64ca28f"
          ]
        },
        "outputId": "437e15b3-4735-4b68-9a1e-3a28c348537d"
      },
      "source": [
        "for i in trange(1000):\n",
        "  THRESHOLD = 0.0132+i*0.001\n",
        "  LABELS = put_labels(valid_ANOMALY_SCORE, THRESHOLD)\n",
        "  ATTACK_LABELS = put_labels(np.array(raw_validation['attack']), threshold=THRESHOLD)\n",
        "  FINAL_LABELS = fill_blank(valid_CHECK_TS, LABELS, np.array(raw_validation['timestamp']))\n",
        "  TaPR = etapr.evaluate_haicon(anomalies=ATTACK_LABELS, predictions=FINAL_LABELS)\n",
        "  print(f\"F1: {TaPR['f1']:.3f} (TaP: {TaPR['TaP']:.3f}, TaR: {TaPR['TaR']:.3f}) Threshold = {THRESHOLD:.5f}\")"
      ],
      "execution_count": 55,
      "outputs": [
        {
          "output_type": "display_data",
          "data": {
            "application/vnd.jupyter.widget-view+json": {
              "model_id": "3cd5f33c511b42289d8995e538a1171f",
              "version_minor": 0,
              "version_major": 2
            },
            "text/plain": [
              "  0%|          | 0/1000 [00:00<?, ?it/s]"
            ]
          },
          "metadata": {}
        },
        {
          "output_type": "stream",
          "name": "stdout",
          "text": [
            "F1: 0.041 (TaP: 0.021, TaR: 0.529) Threshold = 0.01320\n",
            "F1: 0.060 (TaP: 0.032, TaR: 0.444) Threshold = 0.01420\n",
            "F1: 0.082 (TaP: 0.046, TaR: 0.402) Threshold = 0.01520\n",
            "F1: 0.110 (TaP: 0.065, TaR: 0.345) Threshold = 0.01620\n",
            "F1: 0.134 (TaP: 0.085, TaR: 0.317) Threshold = 0.01720\n",
            "F1: 0.138 (TaP: 0.091, TaR: 0.287) Threshold = 0.01820\n",
            "F1: 0.149 (TaP: 0.105, TaR: 0.253) Threshold = 0.01920\n",
            "F1: 0.150 (TaP: 0.109, TaR: 0.241) Threshold = 0.02020\n",
            "F1: 0.146 (TaP: 0.112, TaR: 0.207) Threshold = 0.02120\n",
            "F1: 0.147 (TaP: 0.116, TaR: 0.198) Threshold = 0.02220\n",
            "F1: 0.157 (TaP: 0.131, TaR: 0.195) Threshold = 0.02320\n",
            "F1: 0.165 (TaP: 0.148, TaR: 0.186) Threshold = 0.02420\n",
            "F1: 0.165 (TaP: 0.150, TaR: 0.182) Threshold = 0.02520\n",
            "F1: 0.166 (TaP: 0.154, TaR: 0.179) Threshold = 0.02620\n",
            "F1: 0.168 (TaP: 0.162, TaR: 0.175) Threshold = 0.02720\n",
            "F1: 0.162 (TaP: 0.157, TaR: 0.168) Threshold = 0.02820\n",
            "F1: 0.123 (TaP: 0.101, TaR: 0.157) Threshold = 0.02920\n",
            "F1: 0.120 (TaP: 0.101, TaR: 0.147) Threshold = 0.03020\n",
            "F1: 0.092 (TaP: 0.074, TaR: 0.121) Threshold = 0.03120\n",
            "F1: 0.087 (TaP: 0.071, TaR: 0.114) Threshold = 0.03220\n",
            "F1: 0.061 (TaP: 0.046, TaR: 0.090) Threshold = 0.03320\n",
            "F1: 0.063 (TaP: 0.050, TaR: 0.083) Threshold = 0.03420\n",
            "F1: 0.058 (TaP: 0.050, TaR: 0.068) Threshold = 0.03520\n",
            "F1: 0.000 (TaP: 0.000, TaR: 0.000) Threshold = 0.03620\n"
          ]
        },
        {
          "output_type": "error",
          "ename": "KeyboardInterrupt",
          "evalue": "ignored",
          "traceback": [
            "\u001b[0;31m---------------------------------------------------------------------------\u001b[0m",
            "\u001b[0;31mKeyboardInterrupt\u001b[0m                         Traceback (most recent call last)",
            "\u001b[0;32m<ipython-input-55-7dc7d17a7292>\u001b[0m in \u001b[0;36m<module>\u001b[0;34m()\u001b[0m\n\u001b[1;32m      3\u001b[0m   \u001b[0mLABELS\u001b[0m \u001b[0;34m=\u001b[0m \u001b[0mput_labels\u001b[0m\u001b[0;34m(\u001b[0m\u001b[0mvalid_ANOMALY_SCORE\u001b[0m\u001b[0;34m,\u001b[0m \u001b[0mTHRESHOLD\u001b[0m\u001b[0;34m)\u001b[0m\u001b[0;34m\u001b[0m\u001b[0;34m\u001b[0m\u001b[0m\n\u001b[1;32m      4\u001b[0m   \u001b[0mATTACK_LABELS\u001b[0m \u001b[0;34m=\u001b[0m \u001b[0mput_labels\u001b[0m\u001b[0;34m(\u001b[0m\u001b[0mnp\u001b[0m\u001b[0;34m.\u001b[0m\u001b[0marray\u001b[0m\u001b[0;34m(\u001b[0m\u001b[0mraw_validation\u001b[0m\u001b[0;34m[\u001b[0m\u001b[0;34m'attack'\u001b[0m\u001b[0;34m]\u001b[0m\u001b[0;34m)\u001b[0m\u001b[0;34m,\u001b[0m \u001b[0mthreshold\u001b[0m\u001b[0;34m=\u001b[0m\u001b[0mTHRESHOLD\u001b[0m\u001b[0;34m)\u001b[0m\u001b[0;34m\u001b[0m\u001b[0;34m\u001b[0m\u001b[0m\n\u001b[0;32m----> 5\u001b[0;31m   \u001b[0mFINAL_LABELS\u001b[0m \u001b[0;34m=\u001b[0m \u001b[0mfill_blank\u001b[0m\u001b[0;34m(\u001b[0m\u001b[0mvalid_CHECK_TS\u001b[0m\u001b[0;34m,\u001b[0m \u001b[0mLABELS\u001b[0m\u001b[0;34m,\u001b[0m \u001b[0mnp\u001b[0m\u001b[0;34m.\u001b[0m\u001b[0marray\u001b[0m\u001b[0;34m(\u001b[0m\u001b[0mraw_validation\u001b[0m\u001b[0;34m[\u001b[0m\u001b[0;34m'timestamp'\u001b[0m\u001b[0;34m]\u001b[0m\u001b[0;34m)\u001b[0m\u001b[0;34m)\u001b[0m\u001b[0;34m\u001b[0m\u001b[0;34m\u001b[0m\u001b[0m\n\u001b[0m\u001b[1;32m      6\u001b[0m   \u001b[0mTaPR\u001b[0m \u001b[0;34m=\u001b[0m \u001b[0metapr\u001b[0m\u001b[0;34m.\u001b[0m\u001b[0mevaluate_haicon\u001b[0m\u001b[0;34m(\u001b[0m\u001b[0manomalies\u001b[0m\u001b[0;34m=\u001b[0m\u001b[0mATTACK_LABELS\u001b[0m\u001b[0;34m,\u001b[0m \u001b[0mpredictions\u001b[0m\u001b[0;34m=\u001b[0m\u001b[0mFINAL_LABELS\u001b[0m\u001b[0;34m)\u001b[0m\u001b[0;34m\u001b[0m\u001b[0;34m\u001b[0m\u001b[0m\n\u001b[1;32m      7\u001b[0m   \u001b[0mprint\u001b[0m\u001b[0;34m(\u001b[0m\u001b[0;34mf\"F1: {TaPR['f1']:.3f} (TaP: {TaPR['TaP']:.3f}, TaR: {TaPR['TaR']:.3f}) Threshold = {THRESHOLD:.5f}\"\u001b[0m\u001b[0;34m)\u001b[0m\u001b[0;34m\u001b[0m\u001b[0;34m\u001b[0m\u001b[0m\n",
            "\u001b[0;32m<ipython-input-42-d2ee8e6ad043>\u001b[0m in \u001b[0;36mfill_blank\u001b[0;34m(check_ts, labels, total_ts)\u001b[0m\n\u001b[1;32m     25\u001b[0m                 \u001b[0;32mcontinue\u001b[0m\u001b[0;34m\u001b[0m\u001b[0;34m\u001b[0m\u001b[0m\n\u001b[1;32m     26\u001b[0m             \u001b[0mfinal_labels\u001b[0m\u001b[0;34m.\u001b[0m\u001b[0mappend\u001b[0m\u001b[0;34m(\u001b[0m\u001b[0mlabel\u001b[0m\u001b[0;34m)\u001b[0m\u001b[0;34m\u001b[0m\u001b[0;34m\u001b[0m\u001b[0m\n\u001b[0;32m---> 27\u001b[0;31m             \u001b[0mcurrent\u001b[0m \u001b[0;34m=\u001b[0m \u001b[0mnext\u001b[0m\u001b[0;34m(\u001b[0m\u001b[0mg_ts\u001b[0m\u001b[0;34m)\u001b[0m\u001b[0;34m\u001b[0m\u001b[0;34m\u001b[0m\u001b[0m\n\u001b[0m\u001b[1;32m     28\u001b[0m             \u001b[0mts_label\u001b[0m\u001b[0;34m,\u001b[0m \u001b[0mlabel\u001b[0m \u001b[0;34m=\u001b[0m \u001b[0mnext\u001b[0m\u001b[0;34m(\u001b[0m\u001b[0mg_label\u001b[0m\u001b[0;34m)\u001b[0m\u001b[0;34m\u001b[0m\u001b[0;34m\u001b[0m\u001b[0m\n\u001b[1;32m     29\u001b[0m     \u001b[0;32mexcept\u001b[0m \u001b[0mStopIteration\u001b[0m\u001b[0;34m:\u001b[0m\u001b[0;34m\u001b[0m\u001b[0;34m\u001b[0m\u001b[0m\n",
            "\u001b[0;32m<ipython-input-42-d2ee8e6ad043>\u001b[0m in \u001b[0;36mts_generator\u001b[0;34m()\u001b[0m\n\u001b[1;32m      3\u001b[0m     \u001b[0;32mdef\u001b[0m \u001b[0mts_generator\u001b[0m\u001b[0;34m(\u001b[0m\u001b[0;34m)\u001b[0m\u001b[0;34m:\u001b[0m\u001b[0;34m\u001b[0m\u001b[0;34m\u001b[0m\u001b[0m\n\u001b[1;32m      4\u001b[0m         \u001b[0;32mfor\u001b[0m \u001b[0mt\u001b[0m \u001b[0;32min\u001b[0m \u001b[0mtotal_ts\u001b[0m\u001b[0;34m:\u001b[0m\u001b[0;34m\u001b[0m\u001b[0;34m\u001b[0m\u001b[0m\n\u001b[0;32m----> 5\u001b[0;31m             \u001b[0;32myield\u001b[0m \u001b[0mdateutil\u001b[0m\u001b[0;34m.\u001b[0m\u001b[0mparser\u001b[0m\u001b[0;34m.\u001b[0m\u001b[0mparse\u001b[0m\u001b[0;34m(\u001b[0m\u001b[0mt\u001b[0m\u001b[0;34m)\u001b[0m\u001b[0;34m\u001b[0m\u001b[0;34m\u001b[0m\u001b[0m\n\u001b[0m\u001b[1;32m      6\u001b[0m \u001b[0;34m\u001b[0m\u001b[0m\n\u001b[1;32m      7\u001b[0m     \u001b[0;32mdef\u001b[0m \u001b[0mlabel_generator\u001b[0m\u001b[0;34m(\u001b[0m\u001b[0;34m)\u001b[0m\u001b[0;34m:\u001b[0m\u001b[0;34m\u001b[0m\u001b[0;34m\u001b[0m\u001b[0m\n",
            "\u001b[0;32m/usr/local/lib/python3.7/dist-packages/dateutil/parser/_parser.py\u001b[0m in \u001b[0;36mparse\u001b[0;34m(timestr, parserinfo, **kwargs)\u001b[0m\n\u001b[1;32m   1366\u001b[0m         \u001b[0;32mreturn\u001b[0m \u001b[0mparser\u001b[0m\u001b[0;34m(\u001b[0m\u001b[0mparserinfo\u001b[0m\u001b[0;34m)\u001b[0m\u001b[0;34m.\u001b[0m\u001b[0mparse\u001b[0m\u001b[0;34m(\u001b[0m\u001b[0mtimestr\u001b[0m\u001b[0;34m,\u001b[0m \u001b[0;34m**\u001b[0m\u001b[0mkwargs\u001b[0m\u001b[0;34m)\u001b[0m\u001b[0;34m\u001b[0m\u001b[0;34m\u001b[0m\u001b[0m\n\u001b[1;32m   1367\u001b[0m     \u001b[0;32melse\u001b[0m\u001b[0;34m:\u001b[0m\u001b[0;34m\u001b[0m\u001b[0;34m\u001b[0m\u001b[0m\n\u001b[0;32m-> 1368\u001b[0;31m         \u001b[0;32mreturn\u001b[0m \u001b[0mDEFAULTPARSER\u001b[0m\u001b[0;34m.\u001b[0m\u001b[0mparse\u001b[0m\u001b[0;34m(\u001b[0m\u001b[0mtimestr\u001b[0m\u001b[0;34m,\u001b[0m \u001b[0;34m**\u001b[0m\u001b[0mkwargs\u001b[0m\u001b[0;34m)\u001b[0m\u001b[0;34m\u001b[0m\u001b[0;34m\u001b[0m\u001b[0m\n\u001b[0m\u001b[1;32m   1369\u001b[0m \u001b[0;34m\u001b[0m\u001b[0m\n\u001b[1;32m   1370\u001b[0m \u001b[0;34m\u001b[0m\u001b[0m\n",
            "\u001b[0;32m/usr/local/lib/python3.7/dist-packages/dateutil/parser/_parser.py\u001b[0m in \u001b[0;36mparse\u001b[0;34m(self, timestr, default, ignoretz, tzinfos, **kwargs)\u001b[0m\n\u001b[1;32m    638\u001b[0m                                                       second=0, microsecond=0)\n\u001b[1;32m    639\u001b[0m \u001b[0;34m\u001b[0m\u001b[0m\n\u001b[0;32m--> 640\u001b[0;31m         \u001b[0mres\u001b[0m\u001b[0;34m,\u001b[0m \u001b[0mskipped_tokens\u001b[0m \u001b[0;34m=\u001b[0m \u001b[0mself\u001b[0m\u001b[0;34m.\u001b[0m\u001b[0m_parse\u001b[0m\u001b[0;34m(\u001b[0m\u001b[0mtimestr\u001b[0m\u001b[0;34m,\u001b[0m \u001b[0;34m**\u001b[0m\u001b[0mkwargs\u001b[0m\u001b[0;34m)\u001b[0m\u001b[0;34m\u001b[0m\u001b[0;34m\u001b[0m\u001b[0m\n\u001b[0m\u001b[1;32m    641\u001b[0m \u001b[0;34m\u001b[0m\u001b[0m\n\u001b[1;32m    642\u001b[0m         \u001b[0;32mif\u001b[0m \u001b[0mres\u001b[0m \u001b[0;32mis\u001b[0m \u001b[0;32mNone\u001b[0m\u001b[0;34m:\u001b[0m\u001b[0;34m\u001b[0m\u001b[0;34m\u001b[0m\u001b[0m\n",
            "\u001b[0;32m/usr/local/lib/python3.7/dist-packages/dateutil/parser/_parser.py\u001b[0m in \u001b[0;36m_parse\u001b[0;34m(self, timestr, dayfirst, yearfirst, fuzzy, fuzzy_with_tokens)\u001b[0m\n\u001b[1;32m    738\u001b[0m                 \u001b[0;32mif\u001b[0m \u001b[0mvalue\u001b[0m \u001b[0;32mis\u001b[0m \u001b[0;32mnot\u001b[0m \u001b[0;32mNone\u001b[0m\u001b[0;34m:\u001b[0m\u001b[0;34m\u001b[0m\u001b[0;34m\u001b[0m\u001b[0m\n\u001b[1;32m    739\u001b[0m                     \u001b[0;31m# Numeric token\u001b[0m\u001b[0;34m\u001b[0m\u001b[0;34m\u001b[0m\u001b[0;34m\u001b[0m\u001b[0m\n\u001b[0;32m--> 740\u001b[0;31m                     \u001b[0mi\u001b[0m \u001b[0;34m=\u001b[0m \u001b[0mself\u001b[0m\u001b[0;34m.\u001b[0m\u001b[0m_parse_numeric_token\u001b[0m\u001b[0;34m(\u001b[0m\u001b[0ml\u001b[0m\u001b[0;34m,\u001b[0m \u001b[0mi\u001b[0m\u001b[0;34m,\u001b[0m \u001b[0minfo\u001b[0m\u001b[0;34m,\u001b[0m \u001b[0mymd\u001b[0m\u001b[0;34m,\u001b[0m \u001b[0mres\u001b[0m\u001b[0;34m,\u001b[0m \u001b[0mfuzzy\u001b[0m\u001b[0;34m)\u001b[0m\u001b[0;34m\u001b[0m\u001b[0;34m\u001b[0m\u001b[0m\n\u001b[0m\u001b[1;32m    741\u001b[0m \u001b[0;34m\u001b[0m\u001b[0m\n\u001b[1;32m    742\u001b[0m                 \u001b[0;31m# Check weekday\u001b[0m\u001b[0;34m\u001b[0m\u001b[0;34m\u001b[0m\u001b[0;34m\u001b[0m\u001b[0m\n",
            "\u001b[0;32m/usr/local/lib/python3.7/dist-packages/dateutil/parser/_parser.py\u001b[0m in \u001b[0;36m_parse_numeric_token\u001b[0;34m(self, tokens, idx, info, ymd, res, fuzzy)\u001b[0m\n\u001b[1;32m    940\u001b[0m             \u001b[0mres\u001b[0m\u001b[0;34m.\u001b[0m\u001b[0mhour\u001b[0m \u001b[0;34m=\u001b[0m \u001b[0mint\u001b[0m\u001b[0;34m(\u001b[0m\u001b[0mvalue\u001b[0m\u001b[0;34m)\u001b[0m\u001b[0;34m\u001b[0m\u001b[0;34m\u001b[0m\u001b[0m\n\u001b[1;32m    941\u001b[0m             \u001b[0mvalue\u001b[0m \u001b[0;34m=\u001b[0m \u001b[0mself\u001b[0m\u001b[0;34m.\u001b[0m\u001b[0m_to_decimal\u001b[0m\u001b[0;34m(\u001b[0m\u001b[0mtokens\u001b[0m\u001b[0;34m[\u001b[0m\u001b[0midx\u001b[0m \u001b[0;34m+\u001b[0m \u001b[0;36m2\u001b[0m\u001b[0;34m]\u001b[0m\u001b[0;34m)\u001b[0m  \u001b[0;31m# TODO: try/except for this?\u001b[0m\u001b[0;34m\u001b[0m\u001b[0;34m\u001b[0m\u001b[0m\n\u001b[0;32m--> 942\u001b[0;31m             \u001b[0;34m(\u001b[0m\u001b[0mres\u001b[0m\u001b[0;34m.\u001b[0m\u001b[0mminute\u001b[0m\u001b[0;34m,\u001b[0m \u001b[0mres\u001b[0m\u001b[0;34m.\u001b[0m\u001b[0msecond\u001b[0m\u001b[0;34m)\u001b[0m \u001b[0;34m=\u001b[0m \u001b[0mself\u001b[0m\u001b[0;34m.\u001b[0m\u001b[0m_parse_min_sec\u001b[0m\u001b[0;34m(\u001b[0m\u001b[0mvalue\u001b[0m\u001b[0;34m)\u001b[0m\u001b[0;34m\u001b[0m\u001b[0;34m\u001b[0m\u001b[0m\n\u001b[0m\u001b[1;32m    943\u001b[0m \u001b[0;34m\u001b[0m\u001b[0m\n\u001b[1;32m    944\u001b[0m             \u001b[0;32mif\u001b[0m \u001b[0midx\u001b[0m \u001b[0;34m+\u001b[0m \u001b[0;36m4\u001b[0m \u001b[0;34m<\u001b[0m \u001b[0mlen_l\u001b[0m \u001b[0;32mand\u001b[0m \u001b[0mtokens\u001b[0m\u001b[0;34m[\u001b[0m\u001b[0midx\u001b[0m \u001b[0;34m+\u001b[0m \u001b[0;36m3\u001b[0m\u001b[0;34m]\u001b[0m \u001b[0;34m==\u001b[0m \u001b[0;34m':'\u001b[0m\u001b[0;34m:\u001b[0m\u001b[0;34m\u001b[0m\u001b[0;34m\u001b[0m\u001b[0m\n",
            "\u001b[0;32m/usr/local/lib/python3.7/dist-packages/dateutil/parser/_parser.py\u001b[0m in \u001b[0;36m_parse_min_sec\u001b[0;34m(self, value)\u001b[0m\n\u001b[1;32m   1105\u001b[0m \u001b[0;34m\u001b[0m\u001b[0m\n\u001b[1;32m   1106\u001b[0m         \u001b[0msec_remainder\u001b[0m \u001b[0;34m=\u001b[0m \u001b[0mvalue\u001b[0m \u001b[0;34m%\u001b[0m \u001b[0;36m1\u001b[0m\u001b[0;34m\u001b[0m\u001b[0;34m\u001b[0m\u001b[0m\n\u001b[0;32m-> 1107\u001b[0;31m         \u001b[0;32mif\u001b[0m \u001b[0msec_remainder\u001b[0m\u001b[0;34m:\u001b[0m\u001b[0;34m\u001b[0m\u001b[0;34m\u001b[0m\u001b[0m\n\u001b[0m\u001b[1;32m   1108\u001b[0m             \u001b[0msecond\u001b[0m \u001b[0;34m=\u001b[0m \u001b[0mint\u001b[0m\u001b[0;34m(\u001b[0m\u001b[0;36m60\u001b[0m \u001b[0;34m*\u001b[0m \u001b[0msec_remainder\u001b[0m\u001b[0;34m)\u001b[0m\u001b[0;34m\u001b[0m\u001b[0;34m\u001b[0m\u001b[0m\n\u001b[1;32m   1109\u001b[0m         \u001b[0;32mreturn\u001b[0m \u001b[0;34m(\u001b[0m\u001b[0mminute\u001b[0m\u001b[0;34m,\u001b[0m \u001b[0msecond\u001b[0m\u001b[0;34m)\u001b[0m\u001b[0;34m\u001b[0m\u001b[0;34m\u001b[0m\u001b[0m\n",
            "\u001b[0;31mKeyboardInterrupt\u001b[0m: "
          ]
        }
      ]
    },
    {
      "cell_type": "code",
      "metadata": {
        "id": "QSFtykFnFmBZ"
      },
      "source": [
        "THRESHOLD = 0.02720\n",
        "LABELS = put_labels(valid_ANOMALY_SCORE, THRESHOLD)\n",
        "ATTACK_LABELS = put_labels(np.array(raw_validation['attack']), threshold=THRESHOLD)\n"
      ],
      "execution_count": 56,
      "outputs": []
    },
    {
      "cell_type": "code",
      "metadata": {
        "id": "wCMHGU-L1UIa",
        "colab": {
          "base_uri": "https://localhost:8080/"
        },
        "outputId": "281d60f6-6899-4576-e4a8-e8d3d7c092f3"
      },
      "source": [
        "%%time\n",
        "FINAL_LABELS = fill_blank(valid_CHECK_TS, LABELS, np.array(raw_validation['timestamp'])) # Labeling 진행\n",
        "FINAL_LABELS.shape"
      ],
      "execution_count": 57,
      "outputs": [
        {
          "output_type": "stream",
          "name": "stdout",
          "text": [
            "CPU times: user 15 s, sys: 93.2 ms, total: 15.1 s\n",
            "Wall time: 15.1 s\n"
          ]
        }
      ]
    },
    {
      "cell_type": "markdown",
      "metadata": {
        "id": "CCdyYQZyz_yj"
      },
      "source": [
        "## 평가"
      ]
    },
    {
      "cell_type": "code",
      "metadata": {
        "id": "Ln0Nz_cJ0AgP",
        "colab": {
          "base_uri": "https://localhost:8080/"
        },
        "outputId": "af0b58b0-b415-47f8-e3ce-30bf0d3438a8"
      },
      "source": [
        "TaPR = etapr.evaluate_haicon(anomalies=ATTACK_LABELS, predictions=FINAL_LABELS)\n",
        "print(f\"F1: {TaPR['f1']:.3f} (TaP: {TaPR['TaP']:.3f}, TaR: {TaPR['TaR']:.3f})\")\n",
        "print(f\"# of detected anomalies: {len(TaPR['Detected_Anomalies'])}\")\n",
        "print(f\"Detected anomalies: {TaPR['Detected_Anomalies']}\") # f1 score로 점수 받기"
      ],
      "execution_count": 58,
      "outputs": [
        {
          "output_type": "stream",
          "name": "stdout",
          "text": [
            "F1: 0.168 (TaP: 0.162, TaR: 0.175)\n",
            "# of detected anomalies: 3\n",
            "Detected anomalies: [<TaPR_pkg.DataManage.Range.Range object at 0x7fe531253810>, <TaPR_pkg.DataManage.Range.Range object at 0x7fe531253c50>, <TaPR_pkg.DataManage.Range.Range object at 0x7fe531255a90>]\n"
          ]
        }
      ]
    },
    {
      "cell_type": "code",
      "metadata": {
        "id": "XixJ0ZhE0CPp",
        "colab": {
          "base_uri": "https://localhost:8080/",
          "height": 370,
          "referenced_widgets": [
            "ea762de470054f4c813c9963c0176484",
            "90c9beeaf72a4dabb6b9813631a864fd",
            "5724b964ca5f4f2a9901f0d9ff57ada5",
            "7ffe7f023bcd4a8996d58d6db9fad8ed",
            "70f33ce20c8d4f2fbf07698caf2a21ab",
            "a0e89e2f3d084f359a607f39f06057d1",
            "fdfeb79b34254796bea007b0e8f27701",
            "c2fbf9eceacf46d0989cae03fb289fe0",
            "a8bbb089ec534a26b2b07ef6b22e15a7",
            "e05ad8fe10494c2e838ac56761417bd3",
            "afa5dfea4570479796b1499f3c2b064c"
          ]
        },
        "outputId": "ad7b5c29-ebba-4465-9ecc-73bae2132bf6"
      },
      "source": [
        "boundary_check(df_test)\n",
        "test_data = HaiDataset(raw_test['timestamp'],df_test, stride=1)\n",
        "\n",
        "test_data[0]"
      ],
      "execution_count": 59,
      "outputs": [
        {
          "output_type": "display_data",
          "data": {
            "application/vnd.jupyter.widget-view+json": {
              "model_id": "ea762de470054f4c813c9963c0176484",
              "version_minor": 0,
              "version_major": 2
            },
            "text/plain": [
              "  0%|          | 0/274751 [00:00<?, ?it/s]"
            ]
          },
          "metadata": {}
        },
        {
          "output_type": "stream",
          "name": "stdout",
          "text": [
            "# of valid windows: 274653\n"
          ]
        },
        {
          "output_type": "execute_result",
          "data": {
            "text/plain": [
              "{'answer': tensor([0.3903, 0.0000, 0.0798, 0.5217, 0.1030, 0.3706, 0.7118, 0.0000, 0.0000,\n",
              "         0.0000, 0.3681, 0.4125, 0.4292, 0.2470, 0.5363, 0.2702, 0.0000, 0.0000,\n",
              "         0.0000, 0.6997, 0.2448, 0.0000, 0.5202, 0.2956, 0.0066, 0.0000, 0.5203,\n",
              "         0.6052, 0.0000, 0.8326, 0.4000, 0.2687, 0.2672, 0.0000, 0.2850, 0.0000,\n",
              "         0.0577, 0.0000, 0.0000, 0.0186, 0.2338, 0.5351, 0.4320, 0.4789, 1.0000,\n",
              "         1.0000, 0.9935, 1.0000, 0.0000, 0.0989, 0.8171, 0.0000, 0.7808, 0.0075,\n",
              "         0.0000, 0.4937, 0.3181, 0.1386, 0.2675, 0.6264, 1.0000, 0.7854, 0.0000,\n",
              "         0.0000, 0.8178, 0.9107, 0.1138, 0.3646, 0.0000, 0.3293, 1.0000, 0.1069,\n",
              "         0.3398, 0.0771, 0.2542, 0.2676, 0.3778, 0.1696, 0.2852, 0.0764, 0.7688,\n",
              "         0.0000, 0.3940, 0.0000, 0.0000, 0.0091]),\n",
              " 'given': tensor([[0.4554, 0.0000, 0.0798,  ..., 0.0000, 0.0000, 0.1688],\n",
              "         [0.4717, 0.0000, 0.0798,  ..., 0.0000, 0.0000, 0.1733],\n",
              "         [0.4593, 0.0000, 0.0798,  ..., 0.0000, 0.0000, 0.1767],\n",
              "         ...,\n",
              "         [0.4689, 0.0000, 0.0800,  ..., 0.0000, 0.0000, 0.0091],\n",
              "         [0.4647, 0.0000, 0.0798,  ..., 0.0000, 0.0000, 0.0091],\n",
              "         [0.4342, 0.0000, 0.0798,  ..., 0.0000, 0.0000, 0.0091]]),\n",
              " 'ts': '2021-07-13 16:00:50'}"
            ]
          },
          "metadata": {},
          "execution_count": 59
        }
      ]
    },
    {
      "cell_type": "code",
      "metadata": {
        "id": "jh0JAFl00LsC",
        "colab": {
          "base_uri": "https://localhost:8080/"
        },
        "outputId": "fcfac4f2-8a76-407d-b08d-b52b3c627fc6"
      },
      "source": [
        "%%time\n",
        "MODEL.eval()\n",
        "CHECK_TS, CHECK_DIST, CHECK_ATT = inference(test_data, MODEL, BATCH_SIZE)"
      ],
      "execution_count": 60,
      "outputs": [
        {
          "output_type": "stream",
          "name": "stdout",
          "text": [
            "CPU times: user 37.3 s, sys: 352 ms, total: 37.7 s\n",
            "Wall time: 37.5 s\n"
          ]
        }
      ]
    },
    {
      "cell_type": "code",
      "metadata": {
        "id": "CTHwtBoH0Nlc"
      },
      "source": [
        "ANOMALY_SCORE = np.mean(CHECK_DIST, axis=1)"
      ],
      "execution_count": 61,
      "outputs": []
    },
    {
      "cell_type": "code",
      "metadata": {
        "id": "egOan7Wy0QTr",
        "colab": {
          "base_uri": "https://localhost:8080/",
          "height": 700
        },
        "outputId": "6416cce9-73c7-4f70-ae23-4df59ad25054"
      },
      "source": [
        "check_graph(ANOMALY_SCORE, CHECK_ATT, piece=3, THRESHOLD=THRESHOLD)"
      ],
      "execution_count": 62,
      "outputs": [
        {
          "output_type": "display_data",
          "data": {
            "image/png": "[encoded data removed]",
            "text/plain": [
              "<Figure size 1440x864 with 3 Axes>"
            ]
          },
          "metadata": {
            "needs_background": "light"
          }
        }
      ]
    },
    {
      "cell_type": "code",
      "metadata": {
        "id": "TOYRG8A10TeE",
        "colab": {
          "base_uri": "https://localhost:8080/"
        },
        "outputId": "455c0a69-6d91-4636-f3bb-0fe4f33051c6"
      },
      "source": [
        "LABELS = put_labels(ANOMALY_SCORE, THRESHOLD)\n",
        "LABELS, LABELS.shape"
      ],
      "execution_count": 63,
      "outputs": [
        {
          "output_type": "execute_result",
          "data": {
            "text/plain": [
              "(array([0., 0., 0., ..., 0., 0., 0.], dtype=float32), (274653,))"
            ]
          },
          "metadata": {},
          "execution_count": 63
        }
      ]
    },
    {
      "cell_type": "code",
      "metadata": {
        "id": "9Cuo0DxR0agM"
      },
      "source": [
        ""
      ],
      "execution_count": 63,
      "outputs": []
    },
    {
      "cell_type": "markdown",
      "metadata": {
        "id": "3rfMZnHk0bSq"
      },
      "source": [
        "## 저장"
      ]
    },
    {
      "cell_type": "code",
      "metadata": {
        "id": "kmtVHqyG0WJr",
        "colab": {
          "base_uri": "https://localhost:8080/",
          "height": 449
        },
        "outputId": "e9e9fa7e-c797-4659-f3f6-0428ac6ce01f"
      },
      "source": [
        "submission = pd.read_csv('./gdrive/MyDrive/멋사_study/HAICon2021/HAICon2021_dataset/sample_submission.csv')\n",
        "submission.index = submission['timestamp']\n",
        "submission.loc[CHECK_TS,'attack'] = LABELS\n",
        "submission"
      ],
      "execution_count": 64,
      "outputs": [
        {
          "output_type": "execute_result",
          "data": {
            "text/html": [
              "<div>\n",
              "<style scoped>\n",
              "    .dataframe tbody tr th:only-of-type {\n",
              "        vertical-align: middle;\n",
              "    }\n",
              "\n",
              "    .dataframe tbody tr th {\n",
              "        vertical-align: top;\n",
              "    }\n",
              "\n",
              "    .dataframe thead th {\n",
              "        text-align: right;\n",
              "    }\n",
              "</style>\n",
              "<table border=\"1\" class=\"dataframe\">\n",
              "  <thead>\n",
              "    <tr style=\"text-align: right;\">\n",
              "      <th></th>\n",
              "      <th>timestamp</th>\n",
              "      <th>attack</th>\n",
              "    </tr>\n",
              "    <tr>\n",
              "      <th>timestamp</th>\n",
              "      <th></th>\n",
              "      <th></th>\n",
              "    </tr>\n",
              "  </thead>\n",
              "  <tbody>\n",
              "    <tr>\n",
              "      <th>2021-07-13 16:00:01</th>\n",
              "      <td>2021-07-13 16:00:01</td>\n",
              "      <td>0.0</td>\n",
              "    </tr>\n",
              "    <tr>\n",
              "      <th>2021-07-13 16:00:02</th>\n",
              "      <td>2021-07-13 16:00:02</td>\n",
              "      <td>0.0</td>\n",
              "    </tr>\n",
              "    <tr>\n",
              "      <th>2021-07-13 16:00:03</th>\n",
              "      <td>2021-07-13 16:00:03</td>\n",
              "      <td>0.0</td>\n",
              "    </tr>\n",
              "    <tr>\n",
              "      <th>2021-07-13 16:00:04</th>\n",
              "      <td>2021-07-13 16:00:04</td>\n",
              "      <td>0.0</td>\n",
              "    </tr>\n",
              "    <tr>\n",
              "      <th>2021-07-13 16:00:05</th>\n",
              "      <td>2021-07-13 16:00:05</td>\n",
              "      <td>0.0</td>\n",
              "    </tr>\n",
              "    <tr>\n",
              "      <th>...</th>\n",
              "      <td>...</td>\n",
              "      <td>...</td>\n",
              "    </tr>\n",
              "    <tr>\n",
              "      <th>2021-07-16 23:59:56</th>\n",
              "      <td>2021-07-16 23:59:56</td>\n",
              "      <td>0.0</td>\n",
              "    </tr>\n",
              "    <tr>\n",
              "      <th>2021-07-16 23:59:57</th>\n",
              "      <td>2021-07-16 23:59:57</td>\n",
              "      <td>0.0</td>\n",
              "    </tr>\n",
              "    <tr>\n",
              "      <th>2021-07-16 23:59:58</th>\n",
              "      <td>2021-07-16 23:59:58</td>\n",
              "      <td>0.0</td>\n",
              "    </tr>\n",
              "    <tr>\n",
              "      <th>2021-07-16 23:59:59</th>\n",
              "      <td>2021-07-16 23:59:59</td>\n",
              "      <td>0.0</td>\n",
              "    </tr>\n",
              "    <tr>\n",
              "      <th>2021-07-17 00:00:00</th>\n",
              "      <td>2021-07-17 00:00:00</td>\n",
              "      <td>0.0</td>\n",
              "    </tr>\n",
              "  </tbody>\n",
              "</table>\n",
              "<p>274800 rows × 2 columns</p>\n",
              "</div>"
            ],
            "text/plain": [
              "                               timestamp  attack\n",
              "timestamp                                       \n",
              "2021-07-13 16:00:01  2021-07-13 16:00:01     0.0\n",
              "2021-07-13 16:00:02  2021-07-13 16:00:02     0.0\n",
              "2021-07-13 16:00:03  2021-07-13 16:00:03     0.0\n",
              "2021-07-13 16:00:04  2021-07-13 16:00:04     0.0\n",
              "2021-07-13 16:00:05  2021-07-13 16:00:05     0.0\n",
              "...                                  ...     ...\n",
              "2021-07-16 23:59:56  2021-07-16 23:59:56     0.0\n",
              "2021-07-16 23:59:57  2021-07-16 23:59:57     0.0\n",
              "2021-07-16 23:59:58  2021-07-16 23:59:58     0.0\n",
              "2021-07-16 23:59:59  2021-07-16 23:59:59     0.0\n",
              "2021-07-17 00:00:00  2021-07-17 00:00:00     0.0\n",
              "\n",
              "[274800 rows x 2 columns]"
            ]
          },
          "metadata": {},
          "execution_count": 64
        }
      ]
    },
    {
      "cell_type": "code",
      "metadata": {
        "id": "WZlkcmA70Wj7"
      },
      "source": [
        "submission.to_csv('./gdrive/MyDrive/Colab Notebooks/test1_Th_0.0228.csv', index=False)"
      ],
      "execution_count": 54,
      "outputs": []
    },
    {
      "cell_type": "code",
      "metadata": {
        "id": "AQVEXqWY1JuV"
      },
      "source": [
        ""
      ],
      "execution_count": null,
      "outputs": []
    }
  ]
}