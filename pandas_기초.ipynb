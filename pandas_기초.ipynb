{
  "nbformat": 4,
  "nbformat_minor": 0,
  "metadata": {
    "kernelspec": {
      "display_name": "Python 3",
      "language": "python",
      "name": "python3"
    },
    "language_info": {
      "codemirror_mode": {
        "name": "ipython",
        "version": 3
      },
      "file_extension": ".py",
      "mimetype": "text/x-python",
      "name": "python",
      "nbconvert_exporter": "python",
      "pygments_lexer": "ipython3",
      "version": "3.7.3"
    },
    "colab": {
      "name": "pandas 기초.ipynb",
      "provenance": [],
      "include_colab_link": true
    }
  },
  "cells": [
    {
      "cell_type": "markdown",
      "metadata": {
        "id": "view-in-github",
        "colab_type": "text"
      },
      "source": [
        "<a href=\"https://colab.research.google.com/github/blackpearl-09/TIL/blob/main/pandas_%EA%B8%B0%EC%B4%88.ipynb\" target=\"_parent\"><img src=\"https://colab.research.google.com/assets/colab-badge.svg\" alt=\"Open In Colab\"/></a>"
      ]
    },
    {
      "cell_type": "code",
      "metadata": {
        "id": "N2IyfuaQDPpE"
      },
      "source": [
        "import pandas as pd\n",
        "# 단위: g \n",
        "prot = 65\n",
        "fat = 12.6\n",
        "carbon = 130\n",
        "\n",
        "\n",
        "# 단위: mg\n",
        "clci = 800\n",
        "iron = 14\n",
        "mg =  280\n",
        "zn = 10\n",
        "vite = 12\n",
        "vitb6 = 1.4\n",
        "vitc = 100\n",
        "\n",
        "\n",
        "# 단위: µg\n",
        "se = 60\n",
        "vitb12 = 2.4\n",
        "vita = 700\n",
        "vitd = 10\n",
        "vitk = 70\n",
        "fol = 400\n",
        "\n",
        "\n",
        "\n",
        "# vitb1 =\n",
        "# vitb2 = \n",
        "# vitb5 = \n"
      ],
      "execution_count": null,
      "outputs": []
    },
    {
      "cell_type": "code",
      "metadata": {
        "id": "hbw5yOIbDPpI"
      },
      "source": [
        "\n",
        "df_1 = pd.DataFrame({'단백질':prot, '지방':fat, '탄수화물':carbon}, index = [0])\n",
        "                       \n",
        "    \n",
        "df_2 = pd.DataFrame({'칼슘':clci, '철':iron, '마그네슘':mg, \n",
        "                    '아연':zn, '비타민E':vite,'비타민B6':vitb6, '비타민C':vitc}, index = [0])\n",
        "                     \n",
        "                     \n",
        "df_3 = pd.DataFrame({'셀레늄':se, '비타민A':vita,\n",
        "                    '비타민D':vitd, '비타민K':vitk, '비타민B12':vitb12, '엽산':fol}, index = [0])\n",
        "\n",
        "\n",
        "#  '비타민B1':vitb1, '비타민B2':vitb2, '비타민B5':vitb5,"
      ],
      "execution_count": null,
      "outputs": []
    },
    {
      "cell_type": "code",
      "metadata": {
        "id": "uBCC-gJHDPpL",
        "outputId": "81d50444-8162-4ae6-fe9d-259dadd39a98"
      },
      "source": [
        "df = pd.concat([df_1, df_2, df_3], axis=1)\n",
        "df"
      ],
      "execution_count": null,
      "outputs": [
        {
          "data": {
            "text/html": [
              "<div>\n",
              "<style scoped>\n",
              "    .dataframe tbody tr th:only-of-type {\n",
              "        vertical-align: middle;\n",
              "    }\n",
              "\n",
              "    .dataframe tbody tr th {\n",
              "        vertical-align: top;\n",
              "    }\n",
              "\n",
              "    .dataframe thead th {\n",
              "        text-align: right;\n",
              "    }\n",
              "</style>\n",
              "<table border=\"1\" class=\"dataframe\">\n",
              "  <thead>\n",
              "    <tr style=\"text-align: right;\">\n",
              "      <th></th>\n",
              "      <th>단백질</th>\n",
              "      <th>지방</th>\n",
              "      <th>탄수화물</th>\n",
              "      <th>칼슘</th>\n",
              "      <th>철</th>\n",
              "      <th>마그네슘</th>\n",
              "      <th>아연</th>\n",
              "      <th>비타민E</th>\n",
              "      <th>비타민B6</th>\n",
              "      <th>비타민C</th>\n",
              "      <th>셀레늄</th>\n",
              "      <th>비타민A</th>\n",
              "      <th>비타민D</th>\n",
              "      <th>비타민K</th>\n",
              "      <th>비타민B12</th>\n",
              "      <th>엽산</th>\n",
              "    </tr>\n",
              "  </thead>\n",
              "  <tbody>\n",
              "    <tr>\n",
              "      <th>0</th>\n",
              "      <td>65</td>\n",
              "      <td>12.6</td>\n",
              "      <td>130</td>\n",
              "      <td>800</td>\n",
              "      <td>14</td>\n",
              "      <td>280</td>\n",
              "      <td>10</td>\n",
              "      <td>12</td>\n",
              "      <td>1.4</td>\n",
              "      <td>100</td>\n",
              "      <td>60</td>\n",
              "      <td>700</td>\n",
              "      <td>10</td>\n",
              "      <td>70</td>\n",
              "      <td>2.4</td>\n",
              "      <td>400</td>\n",
              "    </tr>\n",
              "  </tbody>\n",
              "</table>\n",
              "</div>"
            ],
            "text/plain": [
              "   단백질    지방  탄수화물   칼슘   철  마그네슘  아연  비타민E  비타민B6  비타민C  셀레늄  비타민A  비타민D  \\\n",
              "0   65  12.6   130  800  14   280  10    12    1.4   100   60   700    10   \n",
              "\n",
              "   비타민K  비타민B12   엽산  \n",
              "0    70     2.4  400  "
            ]
          },
          "execution_count": 32,
          "metadata": {},
          "output_type": "execute_result"
        }
      ]
    },
    {
      "cell_type": "code",
      "metadata": {
        "id": "VywiNLFZDPpO",
        "outputId": "42f1b70f-bc40-4a42-f5dd-47631fc39e45"
      },
      "source": [
        "df = df.transpose()\n",
        "df.columns= ['충분섭취량']\n",
        "df"
      ],
      "execution_count": null,
      "outputs": [
        {
          "data": {
            "text/html": [
              "<div>\n",
              "<style scoped>\n",
              "    .dataframe tbody tr th:only-of-type {\n",
              "        vertical-align: middle;\n",
              "    }\n",
              "\n",
              "    .dataframe tbody tr th {\n",
              "        vertical-align: top;\n",
              "    }\n",
              "\n",
              "    .dataframe thead th {\n",
              "        text-align: right;\n",
              "    }\n",
              "</style>\n",
              "<table border=\"1\" class=\"dataframe\">\n",
              "  <thead>\n",
              "    <tr style=\"text-align: right;\">\n",
              "      <th></th>\n",
              "      <th>충분섭취량</th>\n",
              "    </tr>\n",
              "  </thead>\n",
              "  <tbody>\n",
              "    <tr>\n",
              "      <th>단백질</th>\n",
              "      <td>65.0</td>\n",
              "    </tr>\n",
              "    <tr>\n",
              "      <th>지방</th>\n",
              "      <td>12.6</td>\n",
              "    </tr>\n",
              "    <tr>\n",
              "      <th>탄수화물</th>\n",
              "      <td>130.0</td>\n",
              "    </tr>\n",
              "    <tr>\n",
              "      <th>칼슘</th>\n",
              "      <td>800.0</td>\n",
              "    </tr>\n",
              "    <tr>\n",
              "      <th>철</th>\n",
              "      <td>14.0</td>\n",
              "    </tr>\n",
              "    <tr>\n",
              "      <th>마그네슘</th>\n",
              "      <td>280.0</td>\n",
              "    </tr>\n",
              "    <tr>\n",
              "      <th>아연</th>\n",
              "      <td>10.0</td>\n",
              "    </tr>\n",
              "    <tr>\n",
              "      <th>비타민E</th>\n",
              "      <td>12.0</td>\n",
              "    </tr>\n",
              "    <tr>\n",
              "      <th>비타민B6</th>\n",
              "      <td>1.4</td>\n",
              "    </tr>\n",
              "    <tr>\n",
              "      <th>비타민C</th>\n",
              "      <td>100.0</td>\n",
              "    </tr>\n",
              "    <tr>\n",
              "      <th>셀레늄</th>\n",
              "      <td>60.0</td>\n",
              "    </tr>\n",
              "    <tr>\n",
              "      <th>비타민A</th>\n",
              "      <td>700.0</td>\n",
              "    </tr>\n",
              "    <tr>\n",
              "      <th>비타민D</th>\n",
              "      <td>10.0</td>\n",
              "    </tr>\n",
              "    <tr>\n",
              "      <th>비타민K</th>\n",
              "      <td>70.0</td>\n",
              "    </tr>\n",
              "    <tr>\n",
              "      <th>비타민B12</th>\n",
              "      <td>2.4</td>\n",
              "    </tr>\n",
              "    <tr>\n",
              "      <th>엽산</th>\n",
              "      <td>400.0</td>\n",
              "    </tr>\n",
              "  </tbody>\n",
              "</table>\n",
              "</div>"
            ],
            "text/plain": [
              "        충분섭취량\n",
              "단백질      65.0\n",
              "지방       12.6\n",
              "탄수화물    130.0\n",
              "칼슘      800.0\n",
              "철        14.0\n",
              "마그네슘    280.0\n",
              "아연       10.0\n",
              "비타민E     12.0\n",
              "비타민B6     1.4\n",
              "비타민C    100.0\n",
              "셀레늄      60.0\n",
              "비타민A    700.0\n",
              "비타민D     10.0\n",
              "비타민K     70.0\n",
              "비타민B12    2.4\n",
              "엽산      400.0"
            ]
          },
          "execution_count": 33,
          "metadata": {},
          "output_type": "execute_result"
        }
      ]
    },
    {
      "cell_type": "code",
      "metadata": {
        "id": "-mZyvE6mDPpP"
      },
      "source": [
        "df.to_csv('nutrients.csv', encoding ='utf-8-sig')"
      ],
      "execution_count": null,
      "outputs": []
    }
  ]
}