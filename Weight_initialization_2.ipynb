{
  "nbformat": 4,
  "nbformat_minor": 0,
  "metadata": {
    "colab": {
      "name": "Weight initialization_2",
      "provenance": [],
      "authorship_tag": "ABX9TyMXcvSG/RP6QyUOZy2xpGGu",
      "include_colab_link": true
    },
    "kernelspec": {
      "name": "python3",
      "display_name": "Python 3"
    },
    "language_info": {
      "name": "python"
    }
  },
  "cells": [
    {
      "cell_type": "markdown",
      "metadata": {
        "id": "view-in-github",
        "colab_type": "text"
      },
      "source": [
        "<a href=\"https://colab.research.google.com/github/blackpearl-09/TIL/blob/main/Weight_initialization_2.ipynb\" target=\"_parent\"><img src=\"https://colab.research.google.com/assets/colab-badge.svg\" alt=\"Open In Colab\"/></a>"
      ]
    },
    {
      "cell_type": "code",
      "metadata": {
        "id": "PRzD4fSaBx01"
      },
      "source": [
        ""
      ],
      "execution_count": null,
      "outputs": []
    },
    {
      "cell_type": "markdown",
      "metadata": {
        "id": "SJSDuMG4COxF"
      },
      "source": [
        "###**적절한 초기화를 찾는 방법**\n",
        "\n",
        "최적화를 하는 과정(Forward propagate -> Cost function -> Back propagate & gradients of cost function -> Update parameters)에서 Back propagate 할 때, gradients의 결과로 파라미터가 사라지거나(vanishing) 폭발하는(exploding) 것을 방지하기 위해 아래 두 가지 가정을 고려해야한다. \n",
        "\n",
        " 1. 활성화함수의 평균은 0이어야 한다.\n",
        " 2. 활성화함수의 분산은 모든 layer에서 같은 값이어야 한다. \n",
        "\n",
        "\n"
      ]
    },
    {
      "cell_type": "code",
      "metadata": {
        "id": "a43xFxIsCWL7"
      },
      "source": [
        ""
      ],
      "execution_count": null,
      "outputs": []
    }
  ]
}